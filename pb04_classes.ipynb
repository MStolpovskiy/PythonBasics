{
 "cells": [
  {
   "cell_type": "markdown",
   "metadata": {},
   "source": [
    "# Классы\n",
    "\n",
    "В питоне предусмотрены несколько встроенных типов данных: int, string, tuple и так далее. Классы -- это способ определить свой собственный тип данных. Вот пример класса для двумерного вектора\n",
    "\n",
    "    class Vector2D(object):\n",
    "        def __init__(self, x_coord, y_coord): \n",
    "            self.x = x_coord\n",
    "            self.y = y_coord\n",
    "            \n",
    "Получить доступ к атрибутам класса (в данном случае это self.x и self.y) можно так:\n",
    "\n",
    "    v = Vector2D(3, 4)\n",
    "    print(v.x, v.y)"
   ]
  },
  {
   "cell_type": "code",
   "execution_count": null,
   "metadata": {},
   "outputs": [],
   "source": []
  },
  {
   "cell_type": "markdown",
   "metadata": {},
   "source": [
    "Можно дополнить определение ветора функцией для определения его длины. Такие функции называются методами класса.\n",
    "\n",
    "    import math\n",
    "    \n",
    "    class Vector2D(object):\n",
    "        def __init__(self, x_coord, y_coord):\n",
    "            #...\n",
    "            \n",
    "        def norm(self):\n",
    "            '''\n",
    "            Returns the norm of the vector\n",
    "            '''\n",
    "            return math.hypot(self.x, self.y)\n",
    "            \n",
    "Написать класс Vector3D для трехмерных векторов с методом norm."
   ]
  },
  {
   "cell_type": "code",
   "execution_count": null,
   "metadata": {},
   "outputs": [],
   "source": []
  },
  {
   "cell_type": "code",
   "execution_count": null,
   "metadata": {},
   "outputs": [],
   "source": []
  },
  {
   "cell_type": "code",
   "execution_count": null,
   "metadata": {},
   "outputs": [],
   "source": []
  },
  {
   "cell_type": "markdown",
   "metadata": {},
   "source": [
    "Exercise: FIFO queue object\n",
    "Create a new object class that implements a\"FIFO queue\". A FIFO queue stores elements, and accesses them in a \"first (element) in, first (element) out\" way (see the below for details). Usage example\n",
    "\n",
    "    q = fifo.FIFO()\n",
    "    q.qsize()\n",
    "        > 0\n",
    "    q.put(34)\n",
    "    q.put(340)\n",
    "    q.get() # First element put in the queue \n",
    "        > 34\n",
    "    q.get() \n",
    "        > 340\n",
    "    q.get()\n",
    "        > (...)\n",
    "        > FIFO_empty: Cannot get item from empty queue\n",
    "        \n",
    "The following method should be implemented:\n",
    "- qsize(): returns the number of items in the queue\n",
    "- put(item): insert a new element in the queue\n",
    "- get(): removes the oldest element from the queue. The situation where the queue is empty does not have to be handled.\n",
    "\n",
    "Such objects are useful for example for sending a list of tasks to multiple programs that run in parallel. The main program can send the tasks to the queue (for instance numbers to be factored), and the parallel program can get them one by one and process them.\n",
    "\n",
    "Заметим в скобках, что тот же функционал можно реализовать в обычных списках -- для этого есть функция pop:\n",
    "\n",
    "    l = [1, 2, 3, 4]\n",
    "    print(l.pop())\n",
    "    print(l)"
   ]
  },
  {
   "cell_type": "code",
   "execution_count": null,
   "metadata": {},
   "outputs": [],
   "source": []
  },
  {
   "cell_type": "markdown",
   "metadata": {},
   "source": [
    "Специальные функции: __str__ и __repr__\n",
    "\n",
    "    def __str__(self):\n",
    "        # Uses the default simplified string representation of floats \n",
    "        # (not all decimals printed) \n",
    "        return 'Vector ({0}, {1})'.format(self.x, self.y)\n",
    "        \n",
    "    def __repr__(self):\n",
    "        # Full representation of the object \n",
    "        # (all necessary decimal places)\n",
    "        return 'Full representation ({0!r},{1!r})'.format(self.x, self.y)\n",
    "        \n",
    "    vect = Vector2D(1.23456789012345, 1) \n",
    "    print(vect) # Not all digits are printed \n",
    "        > Vector (1.23456789012, 1)\n",
    "    vect # __repr__() is called\n",
    "        > Full representation (1.23456789012345, 1)\n",
    "    repr(vect) # This is a string\n",
    "        > 'Full representation (1.23456789012345, 1)'"
   ]
  },
  {
   "cell_type": "code",
   "execution_count": null,
   "metadata": {},
   "outputs": [],
   "source": []
  },
  {
   "cell_type": "markdown",
   "metadata": {},
   "source": [
    "## Зачем нужны классы?\n",
    "\n",
    "Создавая классы можно писать более поддерживаемый, читаемый и быстрый код.\n",
    "\n",
    "Вспомним упражнение про фруктовый ларек из предыдущей части"
   ]
  },
  {
   "cell_type": "code",
   "execution_count": 13,
   "metadata": {},
   "outputs": [
    {
     "name": "stdout",
     "output_type": "stream",
     "text": [
      "{'banana': 6, 'apple': 0, 'orange': 32, 'pear': 15}\n",
      "46.5\n",
      "{'banana': 6, 'apple': 0, 'orange': 31, 'pear': 0}\n",
      "27.0\n",
      "{'banana': 0, 'apple': 0, 'orange': 29, 'pear': 0}\n"
     ]
    }
   ],
   "source": [
    "stock = { # Количество фруктов в наличии (кг)\n",
    "    \"banana\": 6,\n",
    "    \"apple\": 0,\n",
    "    \"orange\": 32,\n",
    "    \"pear\": 15\n",
    "}\n",
    "\n",
    "prices = { # цена за кг\n",
    "    \"banana\": 4,\n",
    "    \"apple\": 2,\n",
    "    \"orange\": 1.5,\n",
    "    \"pear\": 3\n",
    "}\n",
    "\n",
    "client1_wants = {\n",
    "    \"banana\": 0,\n",
    "    \"apple\" : 0.5,\n",
    "    \"orange\": 1,\n",
    "    \"pear\"  : 100\n",
    "}\n",
    "\n",
    "client2_wants = {\n",
    "    \"banana\" : 10,\n",
    "    \"apple\"  : 0,\n",
    "    \"orange\" : 2,\n",
    "    \"pear\"   : 100\n",
    "}\n",
    "\n",
    "def compute_bill(client_wants):\n",
    "    bill = {}\n",
    "    for item in client_wants:\n",
    "        if item in stock and item in prices:\n",
    "            if client_wants[item] <= stock[item]:\n",
    "                amount = client_wants[item]\n",
    "            else:\n",
    "                amount = stock[item]\n",
    "            bill[item] = amount * prices[item]\n",
    "            stock[item] -= amount\n",
    "    total_price = sum([bill[item] for item in bill])\n",
    "    return total_price\n",
    "\n",
    "print(stock)\n",
    "print(compute_bill(client1_wants))\n",
    "print(stock)\n",
    "print(compute_bill(client2_wants))\n",
    "print(stock)"
   ]
  },
  {
   "cell_type": "markdown",
   "metadata": {},
   "source": [
    "Этот код имеет следующие недостатки:\n",
    "- используются глобальные переменные, которые неявно меняются внутри функции. Предсказать поведение программы в целом становится трудно. А если ларьков будет два? Как уследить, какой словарь относится к какому ларьку?\n",
    "- разрозненные данные хранятся в одной куче. Невозможно понять, что к чему относится.\n",
    "- сложно использовать код. Чтобы его использовать мало скопировать функцию (хотя казалось бы, функция это самостоятельный кусок кода, который можно использовать много раз в разных программах), нужно еще вникнуть в используемые в функции глобальные переменные.\n",
    "\n",
    "Все эти недостатки устраняются, если использовать класс.\n",
    "\n",
    "Создать класс FruitStore, который при создании принимает stock и prices, умеет печатать stock с ценами и выставлять счет покупателю."
   ]
  },
  {
   "cell_type": "code",
   "execution_count": null,
   "metadata": {},
   "outputs": [],
   "source": []
  },
  {
   "cell_type": "markdown",
   "metadata": {},
   "source": [
    "Задача: расширить функционал FruitStore, чтобы можно было считать выручку.\n",
    "\n",
    "    fs = FruitStore({'banana': 5}, {'banana' : 2}) # есть 5 кг бананов, по 2 рубля за кг\n",
    "    client1_pays = fs.order({'banana': 2}) # первый клиет заплатит 4 рубля\n",
    "    client2_pays = fs.order({'banana': 3}) # второй -- 6 рублей\n",
    "    fs.get_income() # функция должна вернуть 10"
   ]
  },
  {
   "cell_type": "code",
   "execution_count": null,
   "metadata": {},
   "outputs": [],
   "source": []
  },
  {
   "cell_type": "markdown",
   "metadata": {},
   "source": [
    "Можно перегружать операторы:\n",
    "\n",
    "    class Vector2D(object):\n",
    "        def __add__(v1, v2):\n",
    "            return Vector2D(v1.x + v2.x, v1.y + v2.y)\n",
    "    \n",
    "    v1 = Vector2D(1, 2)\n",
    "    v2 = Vector2D(2, 3)\n",
    "    v3 = v1 + v2 # получится вектор (3, 5)"
   ]
  },
  {
   "cell_type": "code",
   "execution_count": null,
   "metadata": {},
   "outputs": [],
   "source": []
  },
  {
   "cell_type": "markdown",
   "metadata": {},
   "source": [
    "Перегрузить оператор умножения (mul), чтобы он позволял вычислять скалярное произведение векторов:\n",
    "\n",
    "    prod = v1.x * v2.x + v1.y * v2.y\n",
    "    \n",
    "Список операторов, которые можно перегрузить https://docs.python.org/3/reference/datamodel.html#emulating-numeric-types"
   ]
  },
  {
   "cell_type": "code",
   "execution_count": null,
   "metadata": {},
   "outputs": [],
   "source": []
  },
  {
   "cell_type": "markdown",
   "metadata": {},
   "source": [
    "В других языках программирования методы и переменные класса можно объявлять скрытыми от пользователя. В питоне такого функционала нет. Методы и переменные, которые не предназначены для пользователя класса, можно именовать с символом подчеркивания вначале:\n",
    "\n",
    "    _name\n",
    "    \n",
    "Например, класс FruitStore откладывает 5% выручки в карман продавцу в обход кассы:\n",
    "\n",
    "    class FruitStore:\n",
    "        ...\n",
    "        def _to_pocket(self, total_price):\n",
    "            self.pocket += 0.05 * total_price\n",
    "            return total_price - self.pocket\n",
    "        def order(self, order):\n",
    "            ...\n",
    "            total_price = sum([bill[item] for item in bill])\n",
    "            self.income += self._to_pocket(total_price)\n",
    "            return total_price\n",
    "            \n",
    "Но для пользователя этот функционал не предназначен, он работает \"под капотом\", незаметно от глаз пользователя."
   ]
  },
  {
   "cell_type": "code",
   "execution_count": null,
   "metadata": {},
   "outputs": [],
   "source": []
  },
  {
   "cell_type": "markdown",
   "metadata": {},
   "source": [
    "С массивами мы можем делать циклы типа\n",
    "\n",
    "    for i in range(10):\n",
    "        # do something\n",
    "        \n",
    "Чтобы имплементировать подобное поведение для собственных массиво-подобных классов, надо перегрузить методы `__iter__` и `__next__`:\n",
    "\n",
    "    class PowTwo:\n",
    "        \"\"\"Class to implement an iterator\n",
    "        of powers of two\"\"\"\n",
    "\n",
    "        def __init__(self, max = 0):\n",
    "            self.max = max\n",
    "\n",
    "        def __iter__(self):\n",
    "            self.n = 0\n",
    "            return self\n",
    "\n",
    "        def __next__(self):\n",
    "            if self.n <= self.max:\n",
    "                result = 2 ** self.n\n",
    "                self.n += 1\n",
    "                return result\n",
    "            else:\n",
    "                raise StopIteration"
   ]
  },
  {
   "cell_type": "code",
   "execution_count": null,
   "metadata": {},
   "outputs": [],
   "source": []
  },
  {
   "cell_type": "code",
   "execution_count": null,
   "metadata": {},
   "outputs": [],
   "source": []
  },
  {
   "cell_type": "markdown",
   "metadata": {},
   "source": [
    "### Домашнее задание\n",
    "Создать класс SimpleFraction для хранения чисел ввиде простых дробей (например, $\\frac{2}{3}$). Функционал:\n",
    "\n",
    "конструктор типа \n",
    "\n",
    "    __init__(self, p, q=None) # p необязательно целое число\n",
    "    \n",
    "печать в виде строки\n",
    "\n",
    "сложение, вычитание дробей\n",
    "\n",
    "произведение, деление\n",
    "\n",
    "сокращение дроби\n",
    "\n",
    "перевод в десятичное представление\n",
    "\n",
    "Для поиска наибольшего общего делителя (чтобы сокращать дроби) использовать функцию math.gcd()\n",
    "\n",
    "С помощью класса SimpleFraction вычислить $$\\frac{80}{1 - \\frac{2}{5} - \\frac{1}{3}} $$\n",
    "\n",
    "Можно пользоваться функцией as_simple_ratio():\n",
    "\n",
    "    In [1]: 5.5.as_integer_ratio()\n",
    "    Out[1]: (11, 2)\n",
    "    \n",
    "Пример использования класса:\n",
    "\n",
    "    f1 = SimpleFraction(13, 26)\n",
    "    print(f1) # печатает \"1 / 2\"\n",
    "    f2 = SimpleFraction(3.14)\n",
    "    print(f2) # печатает \"157 / 50\"\n",
    "    f3 = f1 + f2\n",
    "    print(float(f1)) # печатает \"0.5\""
   ]
  },
  {
   "cell_type": "code",
   "execution_count": null,
   "metadata": {},
   "outputs": [],
   "source": []
  },
  {
   "cell_type": "markdown",
   "metadata": {},
   "source": [
    "## Наследование\n",
    "\n",
    "Класс может наследовать свойства другого класса. Например, факультет создает систему учета сотрудников и студентов. И те и другие имеют имя, пол, дату рождения:\n",
    "\n",
    "    class Person(object):\n",
    "        def __init__(self, name, gender, date_of_birth):\n",
    "            #....\n",
    "\n",
    "Но только сотрудники имеют зарплату, только преподаватели имеют ученое звание, только студенты имеют оценки. Можно было бы реализовать это так:\n",
    "\n",
    "    class Person(object):\n",
    "        def set_as_student(scores):\n",
    "            self.scores = scores\n",
    "            \n",
    "        def set_as_employee(salary):\n",
    "            self.salary = salary\n",
    "            \n",
    "        def set_as_prof(title):\n",
    "            self.title = title\n",
    "            \n",
    "И затем использовать этот класс так:\n",
    "    \n",
    "    prof = Person('Пал Палыч', 'м', '01-01-1970')\n",
    "    prof.set_as_prof('профессор')\n",
    "    \n",
    "В реализации такого класса сплошь и рядом будет стоять if, чтобы проверить, является ли данный человек студентом или преподавателем."
   ]
  },
  {
   "cell_type": "code",
   "execution_count": 1,
   "metadata": {},
   "outputs": [
    {
     "name": "stdout",
     "output_type": "stream",
     "text": [
      "Person init\n"
     ]
    },
    {
     "data": {
      "text/plain": [
       "True"
      ]
     },
     "execution_count": 1,
     "metadata": {},
     "output_type": "execute_result"
    }
   ],
   "source": [
    "class Person(object):\n",
    "    def __init__(self, name, gender, date_of_birth):\n",
    "        self.name = name\n",
    "        self.gender = gender\n",
    "        self.date_of_birth = date_of_birth\n",
    "        print('Person init')\n",
    "\n",
    "    def set_as_student(self, scores):\n",
    "        self.scores = scores\n",
    "\n",
    "    def set_as_employee(self, salary):\n",
    "        self.salary = salary\n",
    "\n",
    "    def set_as_prof(self, title):\n",
    "        self.title = title\n",
    "        \n",
    "    def set_classes(self, classes):\n",
    "        if hasattr(self, 'title'):\n",
    "            self.clasees = classes\n",
    "        \n",
    "p1 = Person('Пал Палыч', 'м', '01-01-1970')\n",
    "p1.set_as_prof('профессор')\n",
    "hasattr(p1, 'title')"
   ]
  },
  {
   "cell_type": "markdown",
   "metadata": {},
   "source": [
    "Более рациональный подход -- это создание трех разных классов для преподавателей, сотрудников и студентов. Но все три класса имеют много сходного функционала\n",
    "\n",
    "Решение -- наследование:\n",
    "\n",
    "    class Person(object):\n",
    "        def __init__(self, name, gender, date_of_birth):\n",
    "            self.name = name\n",
    "            self.gender = gender\n",
    "            self.date_of_birth = date_of_birth\n",
    "            \n",
    "    class Employee(Person): \n",
    "        # Class Employee uses the functionality of Person\n",
    "        #(inherits the class Person)\n",
    "        def __init__(self, name, gender, date_of_birth, salary):\n",
    "            self.salary = salary\n",
    "            Person.__init__(self, name, gender, date_of_birth)\n",
    "            \n",
    "    class Prof(Employee):\n",
    "        def __init__(self, name, gender, date_of_birth, \n",
    "                     salary, title):\n",
    "            self.title = title\n",
    "            Employee.__init__(self, name, gender, \n",
    "                              date_of_birth, salary)"
   ]
  },
  {
   "cell_type": "code",
   "execution_count": 104,
   "metadata": {},
   "outputs": [
    {
     "name": "stdout",
     "output_type": "stream",
     "text": [
      "Employee init\n",
      "Person init\n"
     ]
    },
    {
     "data": {
      "text/plain": [
       "'f'"
      ]
     },
     "execution_count": 104,
     "metadata": {},
     "output_type": "execute_result"
    }
   ],
   "source": [
    "class Person(object):\n",
    "    def __init__(self, name, gender, date_of_birth):\n",
    "        self.name = name\n",
    "        self.gender = gender\n",
    "        self.date_of_birth = date_of_birth\n",
    "        print('Person init')\n",
    "        \n",
    "    def get_gender(self):\n",
    "        return self.gender\n",
    "\n",
    "class Employee(Person): \n",
    "    # Class Employee uses the functionality of Person\n",
    "    #(inherits the class Person)\n",
    "    def __init__(self, name, gender, date_of_birth, salary):\n",
    "        Person.__init__(self, name, gender, date_of_birth)\n",
    "        self.salary = salary\n",
    "        print('Employee init')\n",
    "\n",
    "class Prof(Employee):\n",
    "    def __init__(self, name, gender, date_of_birth, \n",
    "                 salary, title):\n",
    "        self.title = title\n",
    "        Employee.__init__(self, name, gender, \n",
    "                          date_of_birth, salary)\n",
    "        \n",
    "p = Employee('a', 'f', '12345', 10000000000)\n",
    "p.get_gender()"
   ]
  },
  {
   "cell_type": "markdown",
   "metadata": {},
   "source": [
    "Теперь, например, можно объявить функцию retire, чтобы уволить сотрудника, и применять ее также и для преподавателей.\n",
    "\n",
    "А для студентов определить функцию pass_exam, где добавлять оценку за новый экзамен. И эта функция будет доступна только для студентов."
   ]
  },
  {
   "cell_type": "markdown",
   "metadata": {},
   "source": [
    "Реализовать класс Student с функцией pass_exam"
   ]
  },
  {
   "cell_type": "code",
   "execution_count": null,
   "metadata": {},
   "outputs": [],
   "source": []
  },
  {
   "cell_type": "markdown",
   "metadata": {},
   "source": [
    "Чтобы определить к какому классу относится переменная, используем функцию isinstance:\n",
    "    \n",
    "    if isinstance(studentMasha, Student):\n",
    "        print('Маша студент')\n",
    "        \n",
    "Заметим, что если спросить, является ли Маша человеком:\n",
    "\n",
    "    isinstance(studentMasha, Person)\n",
    "    \n",
    "то ответ будет тоже да. Логично."
   ]
  },
  {
   "cell_type": "code",
   "execution_count": 106,
   "metadata": {},
   "outputs": [
    {
     "data": {
      "text/plain": [
       "True"
      ]
     },
     "execution_count": 106,
     "metadata": {},
     "output_type": "execute_result"
    }
   ],
   "source": [
    "hasattr(p, 'gender')"
   ]
  },
  {
   "cell_type": "code",
   "execution_count": 110,
   "metadata": {},
   "outputs": [
    {
     "data": {
      "text/plain": [
       "True"
      ]
     },
     "execution_count": 110,
     "metadata": {},
     "output_type": "execute_result"
    }
   ],
   "source": [
    "for p in fac:\n",
    "    if isinstance(p, Student):\n",
    "        blablabla"
   ]
  },
  {
   "cell_type": "code",
   "execution_count": null,
   "metadata": {},
   "outputs": [],
   "source": []
  },
  {
   "cell_type": "markdown",
   "metadata": {},
   "source": [
    "На факультете появился клуб бардовской песни, в который входят студенты и преподаватели. В клубе есть певцы и слушатели.\n",
    "\n",
    "    class Singer(Person): pass\n",
    "    class Listener(Person): pass\n",
    "    \n",
    "Человек может быть преподавателем или студентом, а также слушателем или певцом. Можно, например, реализовать класс:\n",
    "\n",
    "    class ProfSinger(Prof, Singer): pass\n",
    "        "
   ]
  },
  {
   "cell_type": "markdown",
   "metadata": {},
   "source": [
    "    class Person(object):\n",
    "        def __init__(self, name):\n",
    "            print('Person init')\n",
    "            self.name = name\n",
    "\n",
    "    class Prof(Person):\n",
    "        def __init__(self, name, title):\n",
    "            print('Prof init')\n",
    "            self.title = title\n",
    "            Person.__init__(self, name)\n",
    "\n",
    "\n",
    "    class Singer(Person):\n",
    "        def __init__(self, name, repertoir):\n",
    "            print('Singer init')\n",
    "            self.repertoir = repertoir\n",
    "            Person.__init__(self, name)\n",
    "\n",
    "    class ProfSinger(Prof, Singer):\n",
    "        def __init__(self, name, title, repertoir):\n",
    "            print('ProfSinger init')\n",
    "            Prof.__init__(self, name, title)\n",
    "            Singer.__init__(self, name, repertoir)\n",
    "\n",
    "    p = ProfSinger('Пал Палыч', 'профессор', ['Надежда', ])\n",
    "    \n",
    "Сколько раз вызывается конструктор Person в этом коде? Почему? Почему это плохо?"
   ]
  },
  {
   "cell_type": "code",
   "execution_count": 111,
   "metadata": {},
   "outputs": [
    {
     "name": "stdout",
     "output_type": "stream",
     "text": [
      "ProfSinger init\n",
      "Prof init\n",
      "Person init\n",
      "Singer init\n",
      "Person init\n"
     ]
    }
   ],
   "source": [
    "class Person(object):\n",
    "    def __init__(self, name):\n",
    "        print('Person init')\n",
    "        self.name = name\n",
    "\n",
    "class Prof(Person):\n",
    "    def __init__(self, name, title):\n",
    "        print('Prof init')\n",
    "        self.title = title\n",
    "        Person.__init__(self, name)\n",
    "\n",
    "class Singer(Person):\n",
    "    def __init__(self, name, repertoir):\n",
    "        print('Singer init')\n",
    "        self.repertoir = repertoir\n",
    "        Person.__init__(self, name)\n",
    "\n",
    "class ProfSinger(Prof, Singer):\n",
    "    def __init__(self, name, title, repertoir):\n",
    "        print('ProfSinger init')\n",
    "        Prof.__init__(self, name, title)\n",
    "        Singer.__init__(self, name, repertoir)\n",
    "\n",
    "p = ProfSinger('Пал Палыч', 'профессор', ['Надежда', ])"
   ]
  },
  {
   "cell_type": "markdown",
   "metadata": {},
   "source": [
    "Хотя код выше синтаксически правильный, лучше избегать конструкций типа\n",
    "\n",
    "    BaseClass.__init__(self, ...)\n",
    "    \n",
    "Для этого есть слово super:\n",
    "\n",
    "    class A:\n",
    "        def __init__(self):\n",
    "            print('A')\n",
    "            \n",
    "    class B(A):\n",
    "        def __init__(self):\n",
    "            print('B')\n",
    "            super().__init__()\n",
    "            \n",
    "    class C(A):\n",
    "        def __init__(self):\n",
    "            print('C')\n",
    "            super().__init__()\n",
    "            \n",
    "    class D(B, C):\n",
    "        def __init__(self):\n",
    "            print('D')\n",
    "            super().__init__()\n",
    "            \n",
    "    d = D()"
   ]
  },
  {
   "cell_type": "code",
   "execution_count": 112,
   "metadata": {},
   "outputs": [
    {
     "name": "stdout",
     "output_type": "stream",
     "text": [
      "D\n",
      "B\n",
      "C\n",
      "A\n"
     ]
    }
   ],
   "source": [
    "class A:\n",
    "    def __init__(self):\n",
    "        print('A')\n",
    "\n",
    "class B(A):\n",
    "    def __init__(self):\n",
    "        print('B')\n",
    "        super().__init__()\n",
    "\n",
    "class C(A):\n",
    "    def __init__(self):\n",
    "        print('C')\n",
    "        super().__init__()\n",
    "\n",
    "class D(B, C):\n",
    "    def __init__(self):\n",
    "        print('D')\n",
    "        super().__init__()\n",
    "\n",
    "d = D()"
   ]
  },
  {
   "cell_type": "markdown",
   "metadata": {},
   "source": [
    "Если в конструкторах используются аргументы, то использование становится не таким очевидным:\n",
    "\n",
    "    class A:\n",
    "        def __init__(self, a):\n",
    "            self.a = a\n",
    "\n",
    "    class B(A):\n",
    "        def __init__(self, b, **kwargs):\n",
    "            self.b = b\n",
    "            super().__init__(**kwargs)\n",
    "\n",
    "    class C(A):\n",
    "        def __init__(self, c, **kwargs):\n",
    "            self.c = c\n",
    "            super().__init__(**kwargs)\n",
    "\n",
    "    class D(B, C):\n",
    "        def __init__(self, d, **kwargs):\n",
    "            self.d = d\n",
    "            super().__init__(**kwargs)\n",
    "\n",
    "    d = D(a=1, b=2, c=3, d=4)\n"
   ]
  },
  {
   "cell_type": "code",
   "execution_count": 117,
   "metadata": {},
   "outputs": [
    {
     "data": {
      "text/plain": [
       "10"
      ]
     },
     "execution_count": 117,
     "metadata": {},
     "output_type": "execute_result"
    }
   ],
   "source": [
    "def fun(x=2):\n",
    "    return x*2\n",
    "\n",
    "fun(5)"
   ]
  },
  {
   "cell_type": "code",
   "execution_count": 118,
   "metadata": {},
   "outputs": [
    {
     "name": "stdout",
     "output_type": "stream",
     "text": [
      "<class 'dict'>\n",
      "4\n"
     ]
    }
   ],
   "source": [
    "def fun(**kwargs):\n",
    "    print(type(kwargs))\n",
    "    x = kwargs['x']\n",
    "    x *= 2\n",
    "    return x\n",
    "\n",
    "x = 2\n",
    "x = fun(x=2)\n",
    "print(x)"
   ]
  },
  {
   "cell_type": "code",
   "execution_count": 119,
   "metadata": {},
   "outputs": [],
   "source": [
    "class A:\n",
    "    def __init__(self, a):\n",
    "        self.a = a\n",
    "\n",
    "class B(A):\n",
    "    def __init__(self, b, **kwargs):\n",
    "        self.b = b\n",
    "        super().__init__(**kwargs)\n",
    "\n",
    "class C(A):\n",
    "    def __init__(self, c, **kwargs):\n",
    "        self.c = c\n",
    "        super().__init__(**kwargs)\n",
    "\n",
    "class D(B, C):\n",
    "    def __init__(self, d, **kwargs):\n",
    "        self.d = d\n",
    "        super().__init__(**kwargs)\n",
    "\n",
    "d = D(a=1, b=2, c=3, d=4)"
   ]
  },
  {
   "cell_type": "code",
   "execution_count": 124,
   "metadata": {},
   "outputs": [],
   "source": [
    "import matplotlib.pyplot as mp"
   ]
  },
  {
   "cell_type": "code",
   "execution_count": 125,
   "metadata": {},
   "outputs": [],
   "source": [
    "mp.plot?"
   ]
  },
  {
   "cell_type": "markdown",
   "metadata": {},
   "source": [
    "Конструкцию с\n",
    "    \n",
    "    **kwargs\n",
    "    \n",
    "удобно использовать не только в этом случае, но и во всех случаях, когда функция может принимать большой список опциональных аргументов."
   ]
  },
  {
   "cell_type": "code",
   "execution_count": null,
   "metadata": {},
   "outputs": [],
   "source": []
  },
  {
   "cell_type": "markdown",
   "metadata": {},
   "source": [
    "Аналогично\n",
    "\n",
    "    **kwargs\n",
    "    \n",
    "существует\n",
    "\n",
    "    *args\n",
    "    \n",
    "В дальнейшем мы еще будем с ними сталкиваться.\n",
    "\n",
    "Попробуйте следующий код:\n",
    "\n",
    "    def myfun(*args):\n",
    "        print(type(args))\n",
    "        \n",
    "args и kwargs можно использовать одновременно:\n",
    "\n",
    "    def myfun(*args, **kwargs):\n",
    "        ..."
   ]
  },
  {
   "cell_type": "code",
   "execution_count": 130,
   "metadata": {},
   "outputs": [
    {
     "name": "stdout",
     "output_type": "stream",
     "text": [
      "(1, 2, 3, 4)\n",
      "{'five': 5, 'six': 6}\n"
     ]
    }
   ],
   "source": [
    "def myfun(*args, **kwargs):\n",
    "    print(args)\n",
    "    print(kwargs)\n",
    "    \n",
    "myfun(1, 2, 3, 4, five=5, six=6)"
   ]
  },
  {
   "cell_type": "markdown",
   "metadata": {},
   "source": [
    "### Домашнее задание\n",
    "\n",
    "Написать класс Point2D для описания точки на плоскости. Создать метод для рассчета расстояния между точками.\n",
    "\n",
    "Пример использования:\n",
    "\n",
    "    p1 = Point2D(0, 0)\n",
    "    p2 = Point2D(3, 4)\n",
    "    dist = p1.dist(p2)\n",
    "    print(dist) # напечатает 5.0"
   ]
  },
  {
   "cell_type": "code",
   "execution_count": null,
   "metadata": {},
   "outputs": [],
   "source": []
  },
  {
   "cell_type": "markdown",
   "metadata": {},
   "source": [
    "Написать класс Polygon2D для описания плоских многоугольников. Конструктор класса принимает вектор точек с вершинами многоугольника. Создать метод для рассчета периметра многоугольника.\n",
    "\n",
    "Пример использования:\n",
    "\n",
    "    vertex1 = Point2D(0, 0)\n",
    "    vertex2 = Point2D(3, 5)\n",
    "    vertex3 = Point2D(2, 7)\n",
    "    vertex4 = Point2D(5, 5)\n",
    "    vertex5 = Point2D(4, 0)\n",
    "    poly = Polygon2D(vertex1, vertex2, vertex3, vertex4, vertex5)\n",
    "    perim = poly.perimeter()"
   ]
  },
  {
   "cell_type": "code",
   "execution_count": null,
   "metadata": {},
   "outputs": [],
   "source": [
    "class Polygon2D:\n",
    "    def __init__(*args):\n",
    "        pass"
   ]
  },
  {
   "cell_type": "markdown",
   "metadata": {},
   "source": [
    "Написать класс Triangle, наследуемый из Polygon2D. Написать метод для сравнения двух треугольников (перегрузить оператор == можно с помощью функции\n",
    "\n",
    "    __eq__\n",
    "    \n",
    "Два треугольника равны между собой, если все их стороны равны"
   ]
  },
  {
   "cell_type": "code",
   "execution_count": null,
   "metadata": {},
   "outputs": [],
   "source": []
  },
  {
   "cell_type": "markdown",
   "metadata": {},
   "source": [
    "Написать класс Rectangle, конструктор которого принимает длины двух сторон. \"Под капотом\" рассчитываются координаты вершин (наследуется из Polygon2D)\n",
    "\n",
    "В этом случае считаем, что нам не важно положение прямоугольника, только его размеры. То есть все прямоугольники одну вершину имеют в точке (0, 0), и стороны параллельны осям.\n",
    "\n",
    "Написать класс Square, конструктор которого принимает длину стороны (наследуется из Rectangle)"
   ]
  },
  {
   "cell_type": "code",
   "execution_count": null,
   "metadata": {},
   "outputs": [],
   "source": []
  },
  {
   "cell_type": "markdown",
   "metadata": {},
   "source": [
    "Есть такая классическая структура данных, связный список. Она отличается от списков в питоне: в классическом списке имеется доступ только к первому элементу, в котором хранится ссылка на следующий элемент (в питоне ссылок нет). Таким образом чтобы получить нужный элемент нужно по порядку перебрать элементы списка, пока не найдем нужный.\n",
    "\n",
    "Вот простейшая реализация списка на питоне:\n",
    "\n",
    "    class MyList:\n",
    "        def __init__(self, num):\n",
    "            self.n = num\n",
    "        def add(self, num):\n",
    "            element = self\n",
    "            while hasattr(element, \"next\"):\n",
    "                element = element.next\n",
    "            element.next = MyList(num)\n",
    "                                 \n",
    "    l = MyList(1)\n",
    "    l.add(2)\n",
    "    l.add(3)\n",
    "    l.add(4)\n",
    "    l.add(5)\n",
    "    l.n # 1    \n",
    "    l.next.n # 2\n",
    "    l.next.next.n # 3\n",
    "    l.next.next.next.n # 4\n",
    "    l.next.next.next.next.n # 5\n",
    "    l.next.next.next.next.next.n # Ошибка -- такого элемента нет\n",
    "    \n",
    "Обратите внимание на встроенную функцию питона hasattr. Если непонятно, как она работает из примера, посмотрите документацию.\n",
    "    \n",
    "Задача: дополнить класс MyList следующими методами:\n",
    "- l.pop() -- выдает последний элемент списка и удаляет его из списка\n",
    "- l1 + l2 -- в конец списка l1 добавляет первый элемент списка l2, чтобы получился один длинный список со всеми элементами обоих списков\n",
    "- l[i] -- берет элемент под номером, если такой существует\n",
    "- Сделать возможность инициализировать MyList так:\n",
    "\n",
    "        l = MyList([1, 2, 3, 4, 5]) # эквивалентво примеру выше\n",
    "        \n",
    "Замечание: ради упражнения запрещено задавать атрибут класса типа список. Так нельзя:\n",
    "\n",
    "    def __init__(self, l):\n",
    "        # l имеет тип list\n",
    "        self.l = l\n",
    "        \n",
    "Сделать возможность использовать наш список в таком виде:\n",
    "\n",
    "    for el in mylist:\n",
    "        print(el)"
   ]
  },
  {
   "cell_type": "code",
   "execution_count": null,
   "metadata": {},
   "outputs": [],
   "source": []
  },
  {
   "cell_type": "markdown",
   "metadata": {},
   "source": [
    "В предыдущем упраженении мы создавали односвязный список -- из одного элемента можно перейти только в следующий. Как модифицировать его, чтобы получился двусвязный список, каждый элемент которого имеет атрибуты next и prev (последний возвращает предыдущий элемент списка)?"
   ]
  },
  {
   "cell_type": "code",
   "execution_count": null,
   "metadata": {},
   "outputs": [],
   "source": [
    "\n",
    "\n"
   ]
  },
  {
   "cell_type": "markdown",
   "metadata": {},
   "source": [
    "Другая классическая структура данных -- ориентированный граф. Вот вариант простой реализации ориентированного графа из трех вершин:\n",
    "\n",
    "    class GraphNode:\n",
    "        def __init__(self):\n",
    "            self.connected_to = []\n",
    "        def set_connection(self, other):\n",
    "            self.connected_to.append(other)\n",
    "        \n",
    "    nodeA = GraphNode()\n",
    "    nodeB = GraphNode()\n",
    "    nodeC = GraphNode()\n",
    "    nodeA.set_connection(nodeB)\n",
    "    nodeB.set_connection(nodeC)\n",
    "    nodeA.set_connection(nodeC)\n",
    "    nodeC.set_connection(nodeA)\n",
    "\n",
    "    print(nodeA in nodeB.connected_to)\n",
    "    \n",
    "- На листке бумаги нарисовать схему этого графа\n",
    "- Расширить реализацию графа, чтобы в его вершинах можно было хранить данные\n",
    "- Сделать класс взвешенным: каждому ребру графа (ребрами называются соединения между вершинами) назначить вес -- какое-то число, по умолчанию 1. "
   ]
  },
  {
   "cell_type": "code",
   "execution_count": null,
   "metadata": {},
   "outputs": [],
   "source": []
  },
  {
   "cell_type": "markdown",
   "metadata": {},
   "source": [
    "# Большое задание: тренер по арифметике\n",
    "\n",
    "Написать класс-тренер по арифметике для школьников. Школьнику предлагается решить пример типа\n",
    "\n",
    "    <первое число> <действие> <второе число> = <результат>\n",
    "    \n",
    "где любой из элементов в `<>` может быть заменен знаком вопроса. Несколько примеров того, как выглядят задания для ученика:\n",
    "\n",
    "    5 * ? = 30\n",
    "    2 ? 5 = 7\n",
    "    6 * 8 = ?\n",
    "        \n",
    "Класс должен:\n",
    "\n",
    "- иметь метод `ask`, чтобы задать пример, \n",
    "- иметь метод `propose_answers(n)`, чтобы дать `n` вариантов ответа, \n",
    "- принимать ответ ученика, как выбор из нескольких вариантов, либо чтобы ученик сам написал результат, \n",
    "- считать количество правильных ответов, \n",
    "- иметь режим \"экзамен\" -- `N` вопросов и выставление финальной оценки,\n",
    "- режим \"печать\", чтобы подготовить текстовый файл для распечатки\n",
    "- и режим \"тренировка\", после которой выдается статистика, какое действие ученику дается труднее всего и с какими числами.\n",
    "\n",
    "Сделать 4 дочерних класса:\n",
    "\n",
    "- `ArithmeticsTrainerL1` -- задания для первоклассников, только сложение. Конструктор принимает максимальное значение результата сложения. То есть если школьник еще не проходил, какие суммы дают 8, то для него нужно вызывать `ArithmeticsTrainerL1(7)`\n",
    "- `ArithmeticsTrainerL2` -- задания для учеников 2 класса, добавляем вычитание в пределах 10 (отрицательные числа исключаем)\n",
    "- `ArithmeticsTrainerL3` -- включаем умножение. Особый опциональный режим тренера на умножение -- все примеры только на умножение. В конструкторе имеется возможность задать множитель, для которого нужна тренировка. По умолчанию этот аргумент равен `None` -- в таком случае тренируем всю таблицу умножения. Т.е. если вызывается `ArithmeticsTrainerL3(6, mult_only=True)` значит нужна тренировка таблицы умножения на 6. На сложение и вычитание действия с числами до 20.\n",
    "- `ArithmeticsTrainerL4` -- все четыре основных арифметических действия. Деление только нацело. Сложение и вычитание с числами до 100.\n",
    "\n",
    "По-максимуму следовать принципу DRY (don't repeat yourself): методы разных классов не должны копировать код друг друга.\n",
    "\n",
    "Задание \"со звездочкой\". С большой такой жирной звездочкой:\n",
    "\n",
    "воспользовавшись библиотекой `tkinter` создать графический интерфейс для арифметического тренера"
   ]
  },
  {
   "cell_type": "code",
   "execution_count": null,
   "metadata": {},
   "outputs": [],
   "source": []
  }
 ],
 "metadata": {
  "kernelspec": {
   "display_name": "Python 3",
   "language": "python",
   "name": "python3"
  },
  "language_info": {
   "codemirror_mode": {
    "name": "ipython",
    "version": 3
   },
   "file_extension": ".py",
   "mimetype": "text/x-python",
   "name": "python",
   "nbconvert_exporter": "python",
   "pygments_lexer": "ipython3",
   "version": "3.8.5"
  }
 },
 "nbformat": 4,
 "nbformat_minor": 2
}
