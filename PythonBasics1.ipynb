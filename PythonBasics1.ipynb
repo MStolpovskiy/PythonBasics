{
 "cells": [
  {
   "cell_type": "markdown",
   "metadata": {
    "colab_type": "text",
    "id": "NtFM0sYFVEbk"
   },
   "source": [
    "# Программирование Python, основы\n",
    "план уроков.\n",
    "\n",
    "--- объявление переменных, строки, if, while, массивы, циклы, функции ---\n",
    "\n",
    "- Почему Python? https://www.infoworld.com/article/3401536/python-popularity-reaches-an-all-time-high.html\n",
    "\n",
    "- Если нет желания прямо сейчас заниматься установкой Python на компьютере, можно воспользоваться сервисом http://colab.research.google.com \n",
    "\n",
    "- (опционально) Установка anaconda python \n",
    "    \n",
    "    Подробная инструкция для Windows: https://problemsolvingwithpython.com/01-Orientation/01.03-Installing-Anaconda-on-Windows/\n",
    "\n",
    "    Для тех, кому не нужна инструкция (любая платформа): https://www.anaconda.com/distribution/\n",
    "\n",
    "- (опционально) Anaconda console доступна из меню Пуск на windows. На mac или linux из терминала доступны команды python и ipython (последняя удобнее для интерактивной работы)\n",
    "\n",
    "- (опционально) Установка jupyter : https://problemsolvingwithpython.com/02-Jupyter-Notebooks/02.03-Installing-Juypter/\n",
    "\n",
    "- Написать программу Hello World"
   ]
  },
  {
   "cell_type": "code",
   "execution_count": 0,
   "metadata": {
    "colab": {},
    "colab_type": "code",
    "id": "7sC2uIBoVl7S"
   },
   "outputs": [],
   "source": []
  },
  {
   "cell_type": "markdown",
   "metadata": {
    "colab_type": "text",
    "id": "FAVlokgEVnla"
   },
   "source": [
    "- (Если установили python на компьютере) Проверить предустановленные пакеты:\n",
    "\n",
    "        import numpy\n",
    "        import math\n",
    "        import matplotlib.pyplot\n",
    "        import pandas\n",
    "\n",
    "- Если не установлены -- установить\n",
    "\n",
    "- Напечатать \"Здравствуй, Мир\" -- или другое сообщение кириллицей.\n"
   ]
  },
  {
   "cell_type": "code",
   "execution_count": 0,
   "metadata": {
    "colab": {},
    "colab_type": "code",
    "id": "DD6AciZBWA59"
   },
   "outputs": [],
   "source": []
  },
  {
   "cell_type": "markdown",
   "metadata": {
    "colab_type": "text",
    "id": "as5-AvaEWBn8"
   },
   "source": [
    "- (Если установили python на компьютере) Запустить hello_world.py из консоли (понимание разницы между notebook и консолью)\n",
    "\n",
    "Создать файл hello_world.py\n",
    "\n",
    "Запустить из anaconda console : python hello_world.py\n",
    "\n",
    "Попробовать запустить ipython\n",
    "\n",
    "Из ipython запустить тот же код\n",
    "\n",
    "- Использование правильного стиля написания кода: исправить стиль кода:\n",
    "        def printComplexNumber(realpartofcomplexnumber = 0,imagpartofcomplexnumber= 0 ) :\n",
    "            R=   realpartofcomplexnumber\n",
    "            I=imagpartofcomplexnumber\n",
    "            return \"({} + {}i)\" . format(R, I )\n",
    "        Longvariablename=printComplexNumber(3.0,-4.5)\n",
    "        print( Longvariablename)\n",
    "\n",
    "Правила хорошего кода:\n",
    "\n",
    "  - Действия =, +, - окружаются пробелами\n",
    "  - Переменные и функции называются с маленькой буквы, длинные имена разбиваются символом _\n",
    "  - Из имени переменной или функции должно быть примерно понятно, зачем она нужна\n",
    "  - Определение функции (def и три строчки ниже) отделяется от остального кода пустыми строками\n",
    "  - Блок команд import отделяется пустой строкой (что такое import -- ниже)\n",
    "  - Логически отдельные части кода отделяются пустой строкой\n",
    "  - Коментарий начинается за символом # . Все неочевидные места кода должны быть откомментированы.\n",
    "  - После запятой - пробел.\n",
    "  - Около скобок пробелы не нужны. Т.е. (x) -- правильно. ( x ) -- неправильно.\n",
    "  - Оператор точка не выделяется пробелами. Операторы ** и % тоже.\n",
    "  - Длинные строки нужно разбивать. После запятой можно смело переносить на новую строку. При этом нужно сделать выравнивание, чтобы визуально объединить строки. Если запятой нет, можно воспользоваться командой перехода на новую строку \\"
   ]
  },
  {
   "cell_type": "code",
   "execution_count": null,
   "metadata": {
    "colab": {
     "base_uri": "https://localhost:8080/",
     "height": 34
    },
    "colab_type": "code",
    "id": "X1SaTzpbWYdT",
    "outputId": "8be87761-e50d-46ca-ac5c-074211f64b3a"
   },
   "outputs": [],
   "source": []
  },
  {
   "cell_type": "markdown",
   "metadata": {
    "colab_type": "text",
    "id": "5lKYWnZbWYwv"
   },
   "source": [
    "## Использование Python как продвинутый калькулятор\n",
    "\n",
    "- Упражнения на простые вычисления:\n",
    "\n",
    "Объявить переменную x = (1+√5)/2\n",
    "\n",
    "Вычислить x^2-x\n",
    "\n",
    "Объявить z = i (мнимая единица). Посчитать z^2\n",
    "\n",
    "Чему равняется 2^1000 ?"
   ]
  },
  {
   "cell_type": "code",
   "execution_count": 0,
   "metadata": {
    "colab": {},
    "colab_type": "code",
    "id": "F5GV3EO-WcCx"
   },
   "outputs": [],
   "source": []
  },
  {
   "cell_type": "markdown",
   "metadata": {
    "colab_type": "text",
    "id": "oR1KP1HhWcbV"
   },
   "source": [
    "## Типы данных в Python, арифметические действия\n",
    "\n",
    "- Нестрогая типизация в Python. Типы:\n",
    "        integer\n",
    "        float\n",
    "        string\n",
    "\n",
    "Попробовать поделить 3 на 2\n",
    "\n",
    "-- поделить 3 на 0\n",
    "\n",
    "-- сложить строки\n",
    "\n",
    "-- сложить две переменных разных типов\n",
    "\n",
    "-- умножить строку на число\n",
    "\n",
    "-- число на строку\n",
    "\n",
    "-- вычесть число из строки\n",
    "\n",
    "-- Напечатать \"---...---\" 10 раз, ни разу не напечатав \"---...---\" в коде"
   ]
  },
  {
   "cell_type": "code",
   "execution_count": null,
   "metadata": {
    "colab": {
     "base_uri": "https://localhost:8080/",
     "height": 80
    },
    "colab_type": "code",
    "id": "e8-_yxs8W4P_",
    "outputId": "ad5d0558-5837-42d8-cc65-5e1876cbf07d"
   },
   "outputs": [],
   "source": []
  },
  {
   "cell_type": "code",
   "execution_count": null,
   "metadata": {
    "colab": {},
    "colab_type": "code",
    "id": "l_cenv8pW4ul"
   },
   "outputs": [],
   "source": []
  },
  {
   "cell_type": "code",
   "execution_count": null,
   "metadata": {
    "colab": {},
    "colab_type": "code",
    "id": "Z61xuHQAW4-C"
   },
   "outputs": [],
   "source": []
  },
  {
   "cell_type": "markdown",
   "metadata": {
    "colab_type": "text",
    "id": "msFy3_1OW5je"
   },
   "source": [
    "- Сокращенные арифметические действия += и т.д."
   ]
  },
  {
   "cell_type": "code",
   "execution_count": null,
   "metadata": {
    "colab": {
     "base_uri": "https://localhost:8080/",
     "height": 116
    },
    "colab_type": "code",
    "id": "JdKcpgSEW8EE",
    "outputId": "64c19892-faee-4665-fa07-1d9ea69e47d2"
   },
   "outputs": [],
   "source": []
  },
  {
   "cell_type": "markdown",
   "metadata": {
    "colab_type": "text",
    "id": "83o2_-I0W8cH"
   },
   "source": [
    "- Приведение типов:\n",
    "\n",
    "    - Привести к string: `str(5)`\n",
    "    - Привести к целочисленному типу `int('5')`\n",
    "    - Привести к дробному типу `float(5)`"
   ]
  },
  {
   "cell_type": "code",
   "execution_count": null,
   "metadata": {
    "colab": {
     "base_uri": "https://localhost:8080/",
     "height": 116
    },
    "colab_type": "code",
    "id": "iVPpGL8oW-94",
    "outputId": "5179dfc3-970f-444c-8274-34e97024b038"
   },
   "outputs": [],
   "source": []
  },
  {
   "cell_type": "markdown",
   "metadata": {
    "colab_type": "text",
    "id": "Rh2arBEhW_Lr"
   },
   "source": [
    "- Операторы `**`, `%`, `//`\n",
    "    - `**` -- возведение в степень: `2**3` будет `8`\n",
    "    - `%` -- взять остаток от деления: `123%2` будет `1`\n",
    "    - `//` -- целочисленное деление: `13//2` будет `6`"
   ]
  },
  {
   "cell_type": "code",
   "execution_count": 0,
   "metadata": {
    "colab": {
     "base_uri": "https://localhost:8080/",
     "height": 116
    },
    "colab_type": "code",
    "id": "7N14bsfHXBz_",
    "outputId": "e22410cb-2d61-4e78-b115-791d040ac3e6"
   },
   "outputs": [
    {
     "data": {
      "text/plain": [
       "1"
      ]
     },
     "execution_count": 25,
     "metadata": {
      "tags": []
     },
     "output_type": "execute_result"
    }
   ],
   "source": []
  },
  {
   "cell_type": "markdown",
   "metadata": {
    "colab_type": "text",
    "id": "dqMDalrGXCIF"
   },
   "source": [
    "## Использование сторонних библиотек\n",
    "\n",
    "- Импорт нужных функций и объектов (если numpy и math установлены)\n",
    "        import math # использование таких функций, как, например, sin, cos, sqrt\n",
    "        from math import sin, sqrt\n",
    "        import numpy\n",
    "        import numpy as np"
   ]
  },
  {
   "cell_type": "markdown",
   "metadata": {
    "colab_type": "text",
    "id": "AigMB3fZXVGJ"
   },
   "source": [
    "- Можно ли объявить переменную s равную функции sin и затем вычислить s(0.53)?"
   ]
  },
  {
   "cell_type": "code",
   "execution_count": null,
   "metadata": {
    "colab": {
     "base_uri": "https://localhost:8080/",
     "height": 116
    },
    "colab_type": "code",
    "id": "UupPjgiPXZSQ",
    "outputId": "e4fd57fa-b69b-4704-c2ee-ec3dd21167f4"
   },
   "outputs": [],
   "source": []
  },
  {
   "cell_type": "markdown",
   "metadata": {
    "colab_type": "text",
    "id": "oIjPfbiWXZ7H"
   },
   "source": [
    "## Работа со строками в Python\n",
    "Вложенные кавычки\n",
    "\n",
    "Длинные строки : s = ('a' 'b' 'c') ; ''' '''\n",
    "\n",
    "\\n \\t\n",
    "\n",
    "raw string: r'This is the raw string \\n'\n",
    "\n",
    "Обратный слэш в строке '\\\\'\n",
    "\n",
    "Доступ к отдельным символам\n",
    "\n",
    "Длина строки : len(s)\n",
    "\n",
    "Документация : len?"
   ]
  },
  {
   "cell_type": "code",
   "execution_count": null,
   "metadata": {
    "colab": {
     "base_uri": "https://localhost:8080/",
     "height": 116
    },
    "colab_type": "code",
    "id": "GivxEZujXlqh",
    "outputId": "4255d3e9-a11e-4667-a224-98f47267941d"
   },
   "outputs": [],
   "source": []
  },
  {
   "cell_type": "markdown",
   "metadata": {
    "colab": {},
    "colab_type": "code",
    "id": "NQtgBqU7XmyZ"
   },
   "source": [
    "Что будет, если к строке прибавить строку?\n",
    "\n",
    "Что будет, если строку умножить на число? Число на строку?\n",
    "\n",
    "Что будет, если к строке прибавить число?"
   ]
  },
  {
   "cell_type": "code",
   "execution_count": null,
   "metadata": {
    "colab": {
     "base_uri": "https://localhost:8080/",
     "height": 132
    },
    "colab_type": "code",
    "id": "ZWRh2r1-XnAp",
    "outputId": "85d04d7a-a0b8-4d75-d5d2-92fd99938ed1"
   },
   "outputs": [],
   "source": []
  },
  {
   "cell_type": "markdown",
   "metadata": {
    "colab": {
     "base_uri": "https://localhost:8080/",
     "height": 132
    },
    "colab_type": "code",
    "id": "SlnyBc8tsPPH",
    "outputId": "65b93e2a-6863-4c64-8ae4-4af12869b76b"
   },
   "source": [
    "Бывает, нужно распечатать строку типа:\n",
    "\n",
    "    \"Акции Google выросли на 5.25%\"\n",
    "    \n",
    "Причем \"Google\", \"выросли\" и 5 -- это значения разных переменных. Для этого используется функция format:\n",
    "\n",
    "    company_name = 'Google'\n",
    "    growth = 5.253\n",
    "    # следующая строчка будет понятна, когда пройдем массивы\n",
    "    grow_or_fall = ['выросли', 'упали'][int(growth < 0)]\n",
    "    \"Акции {} {} на {:.2f}%\".format(company_name, grow_or_fall, abs(growth))\n",
    "    \n",
    "В format предусмотрена интересная система с форматированием чисел. Рекоммендуется погуглить."
   ]
  },
  {
   "cell_type": "code",
   "execution_count": null,
   "metadata": {
    "colab": {
     "base_uri": "https://localhost:8080/",
     "height": 116
    },
    "colab_type": "code",
    "id": "QeEpU3vKsO8c",
    "outputId": "15e010df-8b44-40d7-f50a-42d8bb79fd61"
   },
   "outputs": [],
   "source": []
  },
  {
   "cell_type": "markdown",
   "metadata": {},
   "source": [
    "Задача: напечатать '...---...' 10 раз. Причем в коде строка '...---...' не должна встречаться ни разу."
   ]
  },
  {
   "cell_type": "code",
   "execution_count": null,
   "metadata": {},
   "outputs": [],
   "source": []
  },
  {
   "cell_type": "markdown",
   "metadata": {
    "colab_type": "text",
    "id": "kX58hMZ2N4qB"
   },
   "source": [
    "### Домашнее задание 1\n",
    "\n",
    "- Вычислить кубический корень из 10\n",
    "\n",
    "- Сделать сумму строки, числа и строки. Например: \n",
    "\n",
    "        \"Московское время \" + 10 + \"часов\".\n",
    "\n",
    "Вот только в таком виде код не сработает. Число необходимо привести к строке. Это делается командой str().\n",
    "\n",
    "- Исправить стиль кода:\n",
    "\n",
    "        from math import sqrt\n",
    "        coefa= 1\n",
    "        coefb =5\n",
    "        coefc=6\n",
    "        discriminant = (coefb**2) -(4*coefa*coefc)\n",
    "        sol1= (-coefb- sqrt(discriminant))/(2*coefa)\n",
    "        sol2 =(-coefb+  sqrt(discriminant))/(2*coefa)\n",
    "        print('The solutions are {0} and {1}'.format(sol1,sol2))\n",
    "\n",
    "- Что делает этот код?\n",
    "\n",
    "- Напечатать строку '...1...2...3...4' использовав команду format, чтобы вставить в строку цифры, как показано в примере выше"
   ]
  },
  {
   "cell_type": "code",
   "execution_count": null,
   "metadata": {
    "colab": {
     "base_uri": "https://localhost:8080/",
     "height": 35
    },
    "colab_type": "code",
    "id": "Meydy2baOQiR",
    "outputId": "c3aa2ae4-3bd1-4206-e98f-38ecc6078e61"
   },
   "outputs": [],
   "source": []
  },
  {
   "cell_type": "code",
   "execution_count": null,
   "metadata": {
    "colab": {
     "base_uri": "https://localhost:8080/",
     "height": 35
    },
    "colab_type": "code",
    "id": "7UTpFxIkEoIj",
    "outputId": "0a39189e-cbb7-49e3-baac-9d938f96bcd2"
   },
   "outputs": [],
   "source": []
  },
  {
   "cell_type": "code",
   "execution_count": null,
   "metadata": {
    "colab": {
     "base_uri": "https://localhost:8080/",
     "height": 35
    },
    "colab_type": "code",
    "id": "4xgE3JdiFWJG",
    "outputId": "f5742098-2320-42a4-a094-32871869dbcb"
   },
   "outputs": [],
   "source": []
  },
  {
   "cell_type": "markdown",
   "metadata": {
    "colab_type": "text",
    "id": "iDfYxWblXnXY"
   },
   "source": [
    "## Булева логика\n",
    "\n",
    "- Булевы переменные\n",
    "        False, True\n",
    "\n",
    "- if - elif - else, and - or - not, < <= == != >= >\n",
    "\n",
    "        if 42 == 123:\n",
    "            print(\"Houston, we have a problem!\")\n",
    "        else:\n",
    "            print('42 != 123')\n",
    "\n",
    "- Сравнения цепочкой:\n",
    "        x = 15\n",
    "        10 < x < 20\n",
    "\n",
    "- Тест идентичности\n",
    "        x = None\n",
    "        if x is None:\n",
    "            print(\"x is not defined\")"
   ]
  },
  {
   "cell_type": "code",
   "execution_count": null,
   "metadata": {
    "colab": {
     "base_uri": "https://localhost:8080/",
     "height": 92
    },
    "colab_type": "code",
    "id": "zyBYwcE9Xwks",
    "outputId": "7d5de01f-dd84-4609-b0ef-fb443500c1bf"
   },
   "outputs": [],
   "source": []
  },
  {
   "cell_type": "markdown",
   "metadata": {
    "colab_type": "text",
    "id": "MNirzmkWXxXs"
   },
   "source": [
    "- Задача:\n",
    "Определить, является ли число четным или нет\n",
    "\n",
    "Напечатать результат словами"
   ]
  },
  {
   "cell_type": "code",
   "execution_count": null,
   "metadata": {
    "colab": {
     "base_uri": "https://localhost:8080/",
     "height": 55
    },
    "colab_type": "code",
    "id": "D1SpB3AvX1j2",
    "outputId": "a2c03160-cb68-46f5-abde-ad53652b8c97"
   },
   "outputs": [],
   "source": []
  },
  {
   "cell_type": "markdown",
   "metadata": {
    "colab_type": "text",
    "id": "n5GeDz09X19I"
   },
   "source": [
    "- Задача: Проверить, делится ли число на 5 и меньше ли оно 50\n",
    "\n",
    "Проверить, делится ли число на 7 или 3\n",
    "\n",
    "Проверить, что число делится на 7 но не делится на 3"
   ]
  },
  {
   "cell_type": "code",
   "execution_count": null,
   "metadata": {
    "colab": {
     "base_uri": "https://localhost:8080/",
     "height": 35
    },
    "colab_type": "code",
    "id": "9MoNkhvNX7YI",
    "outputId": "b294ed48-f35b-4d58-e339-c78037d55065"
   },
   "outputs": [],
   "source": []
  },
  {
   "cell_type": "code",
   "execution_count": null,
   "metadata": {
    "colab": {
     "base_uri": "https://localhost:8080/",
     "height": 35
    },
    "colab_type": "code",
    "id": "-6VlliCkX72i",
    "outputId": "1eca5444-831f-401d-c6dd-55650d4e5b51"
   },
   "outputs": [],
   "source": []
  },
  {
   "cell_type": "code",
   "execution_count": null,
   "metadata": {
    "colab": {
     "base_uri": "https://localhost:8080/",
     "height": 35
    },
    "colab_type": "code",
    "id": "AXPPk0OWX8EV",
    "outputId": "fe727e55-ec10-4e3b-8b2e-3e071a310976"
   },
   "outputs": [],
   "source": []
  },
  {
   "cell_type": "markdown",
   "metadata": {
    "colab_type": "text",
    "id": "12piIi4aX8aP"
   },
   "source": [
    "- Задача:\n",
    "Решение квадратного уравнения типа ax^2 + bx + c\n",
    "\n",
    "Проверка дискриминанта. Три случая: <, =, > 0"
   ]
  },
  {
   "cell_type": "code",
   "execution_count": null,
   "metadata": {
    "colab": {
     "base_uri": "https://localhost:8080/",
     "height": 35
    },
    "colab_type": "code",
    "id": "exWw8IJ_YBrJ",
    "outputId": "bb494694-99bc-43d8-b7e1-08b1e69b4cf9"
   },
   "outputs": [],
   "source": []
  },
  {
   "cell_type": "markdown",
   "metadata": {
    "colab_type": "text",
    "id": "cz9Cp1HjwWk4"
   },
   "source": [
    "Задача: Построить лесенку вправо-влево. Пример лесенки влево:\n",
    "\n",
    "    #\n",
    "    ##\n",
    "    ###\n",
    "    ####\n",
    "\n",
    "Пример лесенки вправо:\n",
    "\n",
    "       #\n",
    "      ##\n",
    "     ###\n",
    "    ####\n",
    "    \n",
    "Высоту лесенки задать в переменной `height` "
   ]
  },
  {
   "cell_type": "code",
   "execution_count": null,
   "metadata": {
    "colab": {
     "base_uri": "https://localhost:8080/",
     "height": 212
    },
    "colab_type": "code",
    "id": "Ez0ih_nJwaK1",
    "outputId": "5fd3fa32-cfaf-4a6e-cb61-c474c75639be"
   },
   "outputs": [],
   "source": []
  },
  {
   "cell_type": "markdown",
   "metadata": {
    "colab": {
     "base_uri": "https://localhost:8080/",
     "height": 177
    },
    "colab_type": "code",
    "id": "7iBoDhXfsaQ4",
    "outputId": "fd0b5620-4ebc-4549-92f5-7d91243f1fbd"
   },
   "source": [
    "Цикл `while`: выполнять определенные действия \"до тех пор, пока\", например:\n",
    "\n",
    "    n = 5\n",
    "    while n > 0:\n",
    "        print(n)\n",
    "        n -= 1\n",
    "        \n",
    "Бесконечный цикл:\n",
    "\n",
    "    while True:\n",
    "        # do something\n",
    "        user_answer = input('Do you want to continue? [y/n]: ')\n",
    "        if user_answer != 'y':\n",
    "            break"
   ]
  },
  {
   "cell_type": "markdown",
   "metadata": {
    "colab_type": "text",
    "id": "S60W_UCVYCB6"
   },
   "source": [
    "Задача: Программа угадывания числа.\n",
    "\n",
    "Пользователь пытается угадать число, загаданное компьютером в интервале от 1 до 10 включительно\n",
    "\n",
    "После каждой попытки компьютер сообщает, его число больше или меньше названного.\n",
    "\n",
    "Взять число, введенное пользователем:\n",
    "\n",
    "    user_guess = int(input(\"Enter your guess: \"))\n",
    "    \n",
    "Сгенерировать случайное число от 1 до 10:\n",
    "\n",
    "    import numpy as np\n",
    "    rnd = np.random.randint(10) + 1\n",
    "    \n",
    "(+1 нужно, потому что функция randint(10) -- как и многие другие функции в Python -- генерирует числа от 0 до 9, не включая 10.)"
   ]
  },
  {
   "cell_type": "code",
   "execution_count": null,
   "metadata": {
    "colab": {
     "base_uri": "https://localhost:8080/",
     "height": 88
    },
    "colab_type": "code",
    "id": "kttwVkkUYG-O",
    "outputId": "e1fb13dc-8748-4207-8b2c-e74de075922c"
   },
   "outputs": [],
   "source": []
  },
  {
   "cell_type": "markdown",
   "metadata": {
    "colab_type": "text",
    "id": "ytilVKAwLwHO"
   },
   "source": [
    "### Домашнее задание 2"
   ]
  },
  {
   "cell_type": "markdown",
   "metadata": {
    "colab_type": "text",
    "id": "UzlBMweUG0iN"
   },
   "source": [
    "Игра в спички\n",
    "\n",
    "Нужно написать программу, которая играет в спички против человека. Определенное количество спичек лежит на столе (например, 20). Каждый игрок в свой ход должен взять от 1 до N спичек (обычно N = 4, но в программе нужно использовать именно N, как переменную, а не 4, как константу). Цель игры взять последнюю спичку со стола.\n",
    "\n",
    "Пользователь начинает, компьютер ходит вторым. Программа продолжается *до тех пор, пока* спички еще есть на столе. Программа спрашивает пользователя, сколько спичек он хочет взять и отнимает их (если на столе еще есть спички) от имеющихся на столе. Когда кто-то возьмет последнюю спичку, программа говорит кто выиграл.\n",
    "\n",
    "После каждого хода программа печатает количество оставшихся спичек вертикальными линиями: |||||||||||\n",
    "\n",
    "Программа должна проверять, что число спичек, взятое пользователем, действительно (то есть лежит в диапазоне от 1 до N).\n",
    "\n",
    "Для компьютера реализовать следующую тактику: каждый раз компьютер должен после своего хода стараться оставить число спичек кратное N+1. Это не всегда возможно: если на столе и так уже число спичек кратное N+1, то нужно взять одну спичку."
   ]
  },
  {
   "cell_type": "code",
   "execution_count": 0,
   "metadata": {
    "colab": {},
    "colab_type": "code",
    "id": "3DBAg1MYHN49"
   },
   "outputs": [],
   "source": []
  },
  {
   "cell_type": "markdown",
   "metadata": {
    "colab_type": "text",
    "id": "-mjCh0N_A4td"
   },
   "source": [
    "# Цикл for\n",
    "\n",
    "- for:\n",
    "        for i in range(10):\n",
    "            print(i)"
   ]
  },
  {
   "cell_type": "code",
   "execution_count": null,
   "metadata": {
    "colab": {
     "base_uri": "https://localhost:8080/",
     "height": 340
    },
    "colab_type": "code",
    "id": "57mMNeHhIWKy",
    "outputId": "b3f3c720-40d5-449b-b23f-c73ea0070411"
   },
   "outputs": [],
   "source": []
  },
  {
   "cell_type": "markdown",
   "metadata": {
    "colab_type": "text",
    "id": "GTOsG0gDInnB"
   },
   "source": [
    "- break, continue\n",
    "\n",
    "- Вывести все числа меньше 100, которые делятся на 2 и являются полными квадратами"
   ]
  },
  {
   "cell_type": "code",
   "execution_count": null,
   "metadata": {
    "colab": {
     "base_uri": "https://localhost:8080/",
     "height": 145
    },
    "colab_type": "code",
    "id": "2qTtzgpBIZML",
    "outputId": "b2e93a64-1f65-4187-cd0c-fea86faf0652"
   },
   "outputs": [],
   "source": []
  },
  {
   "cell_type": "markdown",
   "metadata": {
    "colab_type": "text",
    "id": "RzYvnCWp7bks"
   },
   "source": [
    "Задача: посчитать факториал числа."
   ]
  },
  {
   "cell_type": "code",
   "execution_count": null,
   "metadata": {
    "colab": {},
    "colab_type": "code",
    "id": "TRjrEKZsq62Q"
   },
   "outputs": [],
   "source": []
  },
  {
   "cell_type": "code",
   "execution_count": null,
   "metadata": {
    "colab": {
     "base_uri": "https://localhost:8080/",
     "height": 176
    },
    "colab_type": "code",
    "id": "bHugztlA7h4x",
    "outputId": "0f2a0981-3d7b-4a89-ea27-4a38bdeded94"
   },
   "outputs": [],
   "source": []
  },
  {
   "cell_type": "markdown",
   "metadata": {
    "colab_type": "text",
    "id": "OftQP9E97iPT"
   },
   "source": [
    "Задача: опять факториал. Попросить пользователя ввести число. Напечатать факториал этого числа. Спросить пользователя, хочет ли он посчитать еще одно значение. Если ответ 'y' -- все с начала. "
   ]
  },
  {
   "cell_type": "code",
   "execution_count": null,
   "metadata": {
    "colab": {
     "base_uri": "https://localhost:8080/",
     "height": 336
    },
    "colab_type": "code",
    "id": "yoPd03x48Mwk",
    "outputId": "4036d334-87e7-4f85-e0b9-bc0393fe6d60"
   },
   "outputs": [],
   "source": []
  },
  {
   "cell_type": "markdown",
   "metadata": {},
   "source": [
    "Повторить задачу с построением лесенки, используя цикл for. Какая реализация компактнее и понятнее - с `while` или `for`?"
   ]
  },
  {
   "cell_type": "code",
   "execution_count": null,
   "metadata": {
    "colab": {
     "base_uri": "https://localhost:8080/",
     "height": 145
    },
    "colab_type": "code",
    "id": "SrkFjlemsGQM",
    "outputId": "54c6a597-388b-4b11-bce1-45ca61c86001"
   },
   "outputs": [],
   "source": []
  },
  {
   "cell_type": "markdown",
   "metadata": {
    "colab_type": "text",
    "id": "aYXn4Gv-8NnS"
   },
   "source": [
    "# Массивы\n",
    "\n",
    "Массивы -- это удобный способ хранить данные. Например, цена бензина для нескольких разных заправок. Или оценки студентов в группе. В любом случае хранить данные лучше всего в массиве.\n",
    "\n"
   ]
  },
  {
   "cell_type": "markdown",
   "metadata": {
    "colab_type": "text",
    "id": "Qsn9wuf4tbte"
   },
   "source": [
    "## list\n",
    "\n",
    "Один из самых используемых типов массивов это список (list). Он определяется через квадратные скобки:\n",
    "\n",
    "    x = [1, 2, 3]\n",
    "\n",
    "К каждому элементу списка можно получить доступ через индекс. Массивы в Python индексируются начиная с 0:\n",
    "\n",
    "    x[1] # -- здесь число 2\n",
    "    \n",
    "Примеры использования:\n",
    "- список цен на 98-й бензин на разных заправках\n",
    "- значения математической функции на некоторых точках X\n",
    "- скорость автомобиля на разных участках пути"
   ]
  },
  {
   "cell_type": "code",
   "execution_count": 16,
   "metadata": {
    "colab": {
     "base_uri": "https://localhost:8080/",
     "height": 324
    },
    "colab_type": "code",
    "id": "DcAk8JdeJ5jg",
    "outputId": "c57da225-97ae-4549-9188-095b44b4f30b"
   },
   "outputs": [
    {
     "data": {
      "image/png": "[encoded data removed]",
      "text/plain": [
       "<Figure size 432x288 with 1 Axes>"
      ]
     },
     "metadata": {
      "needs_background": "light"
     },
     "output_type": "display_data"
    }
   ],
   "source": [
    "from numpy import sin\n",
    "\n",
    "x = list(range(10))\n",
    "y = list(sin(x))\n",
    "\n",
    "import matplotlib.pyplot as plt\n",
    "plt.plot(x, y)\n",
    "plt.show()"
   ]
  },
  {
   "cell_type": "markdown",
   "metadata": {
    "colab_type": "text",
    "id": "etNiqyNHMTum"
   },
   "source": [
    "Устно: если мы объявим массив через\n",
    "\n",
    "    x = list(range(10))\n",
    "\n",
    "то какое значение будет у элемента под номером 5? range мы уже использовали в циклах\n",
    "\n",
    "Кстати, какой тип будет у x, если `x = range(10)`?"
   ]
  },
  {
   "cell_type": "code",
   "execution_count": 0,
   "metadata": {
    "colab": {},
    "colab_type": "code",
    "id": "bvUmTAhHK3iI"
   },
   "outputs": [],
   "source": []
  },
  {
   "cell_type": "markdown",
   "metadata": {
    "colab_type": "text",
    "id": "gYAoyiQIT3gC"
   },
   "source": [
    "Задача: что будет, если сложить два массива? Массив и число? Что будет, если умножить массив на число? А массив на массив?"
   ]
  },
  {
   "cell_type": "code",
   "execution_count": 0,
   "metadata": {
    "colab": {},
    "colab_type": "code",
    "id": "_5sS4GSsUCt8"
   },
   "outputs": [],
   "source": []
  },
  {
   "cell_type": "markdown",
   "metadata": {
    "colab_type": "text",
    "id": "5VgQIPc3UQ6s"
   },
   "source": [
    "Заметили ли вы, что массивы ведут себя в точности так же, как строки? На самом деле строки в Python -- это массивы символов. Попробуйте взять n-й элемент какой-нибудь строки."
   ]
  },
  {
   "cell_type": "code",
   "execution_count": 0,
   "metadata": {
    "colab": {},
    "colab_type": "code",
    "id": "iyaJzgZ4UhRT"
   },
   "outputs": [],
   "source": []
  },
  {
   "cell_type": "markdown",
   "metadata": {
    "colab_type": "text",
    "id": "tBX00TWHMRVW"
   },
   "source": [
    "Взять под-массив в Python проще простого: \n",
    "\n",
    "    x = range(10)\n",
    "    y = x[4:7]\n",
    "    print(y)\n",
    "    \n",
    "Например, у нас есть массив цен на акции Google за несколько лет по дням, а нас интересует его под-массив за первый год:\n",
    "\n",
    "    google_price[:365]"
   ]
  },
  {
   "cell_type": "code",
   "execution_count": null,
   "metadata": {
    "colab": {
     "base_uri": "https://localhost:8080/",
     "height": 76
    },
    "colab_type": "code",
    "id": "UFgKr14yMHjZ",
    "outputId": "85ad30ef-f774-4d37-aeb9-4053293d7ad8"
   },
   "outputs": [],
   "source": []
  },
  {
   "cell_type": "markdown",
   "metadata": {
    "colab_type": "text",
    "id": "Aytje11GStjJ"
   },
   "source": [
    "Задача: Пусть \n",
    "\n",
    "    x = [1, 2, 3, 4]\n",
    "\n",
    "Создать массив \n",
    "\n",
    "    y = [3, 4, 1, 2]"
   ]
  },
  {
   "cell_type": "code",
   "execution_count": 0,
   "metadata": {
    "colab": {},
    "colab_type": "code",
    "id": "MIrkQTCzLWN3"
   },
   "outputs": [],
   "source": []
  },
  {
   "cell_type": "markdown",
   "metadata": {
    "colab_type": "text",
    "id": "W5vYoH_rNFQI"
   },
   "source": [
    "Можно индексировать не только положительными числами. Попробовать напечатать:\n",
    "\n",
    "    x[-1]\n",
    "    x[-2]"
   ]
  },
  {
   "cell_type": "code",
   "execution_count": 0,
   "metadata": {
    "colab": {},
    "colab_type": "code",
    "id": "XRCKICTCNBG6"
   },
   "outputs": [],
   "source": []
  },
  {
   "cell_type": "markdown",
   "metadata": {
    "colab_type": "text",
    "id": "JYtchso5f1Mf"
   },
   "source": [
    "Вообще синтаксис индексации такой:\n",
    "\n",
    "    x[start:stop:step]\n",
    "    \n",
    "Любой из трех индексов можно опустить. Start -- начальный индекс, stop -- конечный (не включается в под-массив), step -- через сколько элементов перескакивать.\n",
    "\n",
    "Чтобы взять каждый второй элемент массива пишем\n",
    "\n",
    "    x[::2]\n",
    "\n",
    "Задача: взять четные элементы массива `[1, 2, 3, 4]`\n",
    "\n",
    "Задача: перевернуть массив, чтобы было `[4, 3, 2, 1]`"
   ]
  },
  {
   "cell_type": "code",
   "execution_count": 0,
   "metadata": {
    "colab": {},
    "colab_type": "code",
    "id": "5NjT_pGNOu1-"
   },
   "outputs": [],
   "source": []
  },
  {
   "cell_type": "code",
   "execution_count": 0,
   "metadata": {
    "colab": {},
    "colab_type": "code",
    "id": "liubGEDef0Q9"
   },
   "outputs": [],
   "source": []
  },
  {
   "cell_type": "markdown",
   "metadata": {
    "colab_type": "text",
    "id": "HZAbl40LgP1v"
   },
   "source": [
    "Угадайте, что делает следующий код:\n",
    "\n",
    "    x = [4, 6, 2, 1]\n",
    "    x.sort()"
   ]
  },
  {
   "cell_type": "code",
   "execution_count": 0,
   "metadata": {
    "colab": {},
    "colab_type": "code",
    "id": "wM75bInhoVP5"
   },
   "outputs": [],
   "source": []
  },
  {
   "cell_type": "markdown",
   "metadata": {
    "colab_type": "text",
    "id": "toy0zFv9oV_7"
   },
   "source": [
    "Что делает следующий код:\n",
    "\n",
    "    x = [1, 4, 6, 2, 7]\n",
    "    l = len(x)\n",
    "    l"
   ]
  },
  {
   "cell_type": "code",
   "execution_count": 0,
   "metadata": {
    "colab": {},
    "colab_type": "code",
    "id": "6TOkfIwVf_Cx"
   },
   "outputs": [],
   "source": []
  },
  {
   "cell_type": "markdown",
   "metadata": {},
   "source": [
    "Но настоящая мощь массивов в Python -- это их использование в цикле for.\n",
    "\n",
    "Пример: есть массив цен на бензин на нескольких заправках:\n",
    "    \n",
    "    petrol_prices = [45, 46, 47, 46, 46]\n",
    "    \n",
    "Нужно найти минимальную цену:\n",
    "\n",
    "    min_price = 100\n",
    "    for price in petrol_prices:\n",
    "        if price < min_price:\n",
    "            min_price = price"
   ]
  },
  {
   "cell_type": "code",
   "execution_count": null,
   "metadata": {},
   "outputs": [],
   "source": []
  },
  {
   "cell_type": "markdown",
   "metadata": {},
   "source": [
    "Конкретно для задачи выше лучше использовать функции Python min и max:\n",
    "    min(x)\n",
    "    max(x)\n",
    "    \n",
    "Другая полезная функция -- `sum(x)`. Не забываем про `len`"
   ]
  },
  {
   "cell_type": "code",
   "execution_count": null,
   "metadata": {},
   "outputs": [],
   "source": []
  },
  {
   "cell_type": "markdown",
   "metadata": {
    "colab_type": "text",
    "id": "I8H_4_fWqjZe"
   },
   "source": [
    "### Домашнее задание 3"
   ]
  },
  {
   "cell_type": "markdown",
   "metadata": {
    "colab_type": "text",
    "id": "rTLI4tF6nK2v"
   },
   "source": [
    "Задача: вычислить среднее арифметическое массива\n",
    "\n",
    "$\\overline x = \\frac{\\sum_{i=0}^{N} x_i}{N}$"
   ]
  },
  {
   "cell_type": "code",
   "execution_count": 0,
   "metadata": {
    "colab": {},
    "colab_type": "code",
    "id": "7I0677IIgoTg"
   },
   "outputs": [],
   "source": []
  },
  {
   "cell_type": "markdown",
   "metadata": {
    "colab_type": "text",
    "id": "_1G-YAvNnRB_"
   },
   "source": [
    "Задача: вычислить среднеквадратичное отклонение\n",
    "\n",
    "$\\sigma = \\sqrt{\\frac{\\sum_{i=0}^N (x_i - \\overline x)^2}{N}}$"
   ]
  },
  {
   "cell_type": "code",
   "execution_count": 0,
   "metadata": {
    "colab": {},
    "colab_type": "code",
    "id": "DP8fTZGqoo5M"
   },
   "outputs": [],
   "source": []
  },
  {
   "cell_type": "markdown",
   "metadata": {
    "colab_type": "text",
    "id": "c6l1UCU5qlU9"
   },
   "source": [
    "Задача: Имеется массив x. Создать массив, где элемент номер i является суммой элементов x с нулевого по i-й включительно."
   ]
  },
  {
   "cell_type": "code",
   "execution_count": 0,
   "metadata": {
    "colab": {},
    "colab_type": "code",
    "id": "NYUqcCZrquji"
   },
   "outputs": [],
   "source": []
  },
  {
   "cell_type": "markdown",
   "metadata": {
    "colab_type": "text",
    "id": "6fh2o2JgqswU"
   },
   "source": [
    "Задача: Создать пустой массив:\n",
    "\n",
    "    x = []\n",
    "\n",
    "В цикле добавить в x квадраты чисел от 1 до 10 включительно\n",
    "\n",
    "    x.append(5) # добавляет в конец массива x новый элемент 5"
   ]
  },
  {
   "cell_type": "code",
   "execution_count": 0,
   "metadata": {
    "colab": {},
    "colab_type": "code",
    "id": "OXgBhzWBrSZb"
   },
   "outputs": [],
   "source": []
  },
  {
   "cell_type": "markdown",
   "metadata": {
    "colab_type": "text",
    "id": "1E-xUHQjJ5SZ"
   },
   "source": [
    "Задача: создать массив со 100-балльными оценками 20 студентов:\n",
    "\n",
    "    # Создаем массив x из 20 элементов, \n",
    "    # каждый элемент -- случайное число от 1 до 100\n",
    "    import numpy as np\n",
    "    x = list(np.random.randint(1, 101, 20))\n",
    "\n",
    "Преобразовать его в массив с 5-балльными оценками по следующим правилам:\n",
    "- если <40, то неуд\n",
    "- если >=40 но <70, то удовлетворительно\n",
    "- если >=70 но <85, то хорошо\n",
    "- если >85 то отлично\n",
    "\n",
    "Подсчитать, сколько студентов получили отлично, сколько хорошо и т.д."
   ]
  },
  {
   "cell_type": "code",
   "execution_count": null,
   "metadata": {
    "colab": {},
    "colab_type": "code",
    "id": "latrY_nTKOtu"
   },
   "outputs": [],
   "source": []
  },
  {
   "cell_type": "markdown",
   "metadata": {
    "colab_type": "text",
    "id": "SVu1q_pgYnyt"
   },
   "source": [
    "Задача: Боб и Алиса идут в ресторан, оба заказывают одинаковую еду и договариваются разделить чек поровну. Но потом Боб хочет еще в добавок заказать десерт, на который у Алисы аллергия (соответственно, она не должна за это платить). Создать функцию, которая рассчитывает, сколько должны заплатить Боб и Алиса.\n",
    "\n",
    "Функция split_bill должна принимать list из цен на заказанные блюда и индекс блюда, за которое Алиса не платит. Функция должна возвращать, сколько денег платит Боб, и сколько Алиса."
   ]
  },
  {
   "cell_type": "code",
   "execution_count": 0,
   "metadata": {
    "colab": {},
    "colab_type": "code",
    "id": "gBY3NbXnagom"
   },
   "outputs": [],
   "source": []
  },
  {
   "cell_type": "markdown",
   "metadata": {
    "colab_type": "text",
    "id": "zn9YAGcNqvjl"
   },
   "source": [
    "Массивы могут быть многомерными:\n",
    "\n",
    "    x = [[1, 2, 3], [4, 5, 6]]\n",
    "\n",
    "Задание: разобраться, как работает индексация в таком массиве."
   ]
  },
  {
   "cell_type": "code",
   "execution_count": 0,
   "metadata": {
    "colab": {},
    "colab_type": "code",
    "id": "tWdkswNYrCyW"
   },
   "outputs": [],
   "source": []
  },
  {
   "cell_type": "markdown",
   "metadata": {
    "colab_type": "text",
    "id": "MxqlI5VQsKuL"
   },
   "source": [
    "Можно ли создать следующие массивы? (сперва устно):\n",
    "\n",
    "    x = [[1, 2, 3], [4, 5]]\n",
    "    x = [1, 'a', true]\n",
    "    x = [1, [2, 3], 4]"
   ]
  },
  {
   "cell_type": "code",
   "execution_count": 0,
   "metadata": {
    "colab": {},
    "colab_type": "code",
    "id": "pqO7eK1dsIcv"
   },
   "outputs": [],
   "source": []
  },
  {
   "cell_type": "markdown",
   "metadata": {
    "colab_type": "text",
    "id": "3hqUogQare7O"
   },
   "source": [
    "Задача: создать двумерный массив. Посчитать его среднее арифметическое."
   ]
  },
  {
   "cell_type": "code",
   "execution_count": 0,
   "metadata": {
    "colab": {},
    "colab_type": "code",
    "id": "DL-q4_xSrRkX"
   },
   "outputs": [],
   "source": []
  },
  {
   "cell_type": "markdown",
   "metadata": {
    "colab_type": "text",
    "id": "43jTGwQxr9kG"
   },
   "source": [
    "Что делает функция sum() ?\n",
    "Что будет, если вызвать sum(x), где x -- двумерный массив?"
   ]
  },
  {
   "cell_type": "code",
   "execution_count": 0,
   "metadata": {
    "colab": {},
    "colab_type": "code",
    "id": "pbOaStdBrxQQ"
   },
   "outputs": [],
   "source": []
  },
  {
   "cell_type": "markdown",
   "metadata": {
    "colab_type": "text",
    "id": "K2B2-F9Ntd1v"
   },
   "source": [
    "## tuple\n",
    "\n",
    "tuple, или кортеж, это неизменяемый массив. Определяется через круглые скобки:\n",
    "\n",
    "    x = (1, 2, 3)\n",
    "\n",
    "Что будет, если попытаться изменить кортеж?\n",
    "\n",
    "    x[1] = 3\n",
    "\n",
    "А если так?\n",
    "\n",
    "    x *= 2\n",
    "    x += (4, 5, 6)"
   ]
  },
  {
   "cell_type": "code",
   "execution_count": 0,
   "metadata": {
    "colab": {},
    "colab_type": "code",
    "id": "q8L8vVYuuO1P"
   },
   "outputs": [],
   "source": []
  },
  {
   "cell_type": "markdown",
   "metadata": {
    "colab_type": "text",
    "id": "fLeCQLUkZzCG"
   },
   "source": [
    "## set\n",
    "\n",
    "Набор (set) отличается от других массивов тем, что элементы набора уникальны. Попробуйте создать набор (используем фигурные скобки)\n",
    "\n",
    "    s = {1, 2, 3, 1, 2}\n",
    "\n",
    "Теперь напечатайте полученный набор"
   ]
  },
  {
   "cell_type": "code",
   "execution_count": 0,
   "metadata": {
    "colab": {},
    "colab_type": "code",
    "id": "Kh0x8HsOudg6"
   },
   "outputs": [],
   "source": []
  },
  {
   "cell_type": "markdown",
   "metadata": {
    "colab_type": "text",
    "id": "4jomoQtOh_1d"
   },
   "source": [
    "Набор - это неиндексируемый массив. Попробуйте сделать s[1]"
   ]
  },
  {
   "cell_type": "code",
   "execution_count": 0,
   "metadata": {
    "colab": {},
    "colab_type": "code",
    "id": "3efyKeG4iD5i"
   },
   "outputs": [],
   "source": []
  },
  {
   "cell_type": "markdown",
   "metadata": {
    "colab_type": "text",
    "id": "Ko6qOm-DiEc9"
   },
   "source": [
    "Но можно сделать цикл по элементам набора:\n",
    "\n",
    "    for el in s:\n",
    "        # do something...\n",
    "\n",
    "Что удобно хранить в наборе?\n",
    "\n",
    "Задание: Создать набор students из имен студентов в группе."
   ]
  },
  {
   "cell_type": "code",
   "execution_count": 0,
   "metadata": {
    "colab": {},
    "colab_type": "code",
    "id": "sbWRMSRiiFls"
   },
   "outputs": [],
   "source": []
  },
  {
   "cell_type": "markdown",
   "metadata": {
    "colab_type": "text",
    "id": "ku99p5NGiGFh"
   },
   "source": [
    "Чтобы проверить наличие элемента в массивае нужно использовать команду in:\n",
    "\n",
    "    if 6 in s:\n",
    "        print(\"6 is in s\")\n",
    "\n",
    "Проверить, есть ли Маша среди студентов\n",
    "\n"
   ]
  },
  {
   "cell_type": "code",
   "execution_count": 0,
   "metadata": {
    "colab": {},
    "colab_type": "code",
    "id": "JqQ5jprGiK63"
   },
   "outputs": [],
   "source": []
  },
  {
   "cell_type": "markdown",
   "metadata": {},
   "source": [
    "Так как в set может содержаться только один элемент с данным значением, поиск элемента в set очень хорошо оптимизирован. Попробовать выполнить следующий код:\n",
    "\n",
    "    x = list(range(100))\n",
    "    %timeit 50 in x\n",
    "    y = set(range(100))\n",
    "    %timeit 50 in y"
   ]
  },
  {
   "cell_type": "code",
   "execution_count": null,
   "metadata": {},
   "outputs": [],
   "source": []
  },
  {
   "cell_type": "markdown",
   "metadata": {
    "colab_type": "text",
    "id": "oqjW6xdsiLiv"
   },
   "source": [
    "## dictionary\n",
    "\n",
    "Словарь (dictionary) это набор, в котором элементам можно дать имена:\n",
    "\n",
    "    {'name1': 1, 'name2': 2}"
   ]
  },
  {
   "cell_type": "code",
   "execution_count": 0,
   "metadata": {
    "colab": {},
    "colab_type": "code",
    "id": "59eSBM_ceK7H"
   },
   "outputs": [],
   "source": []
  },
  {
   "cell_type": "markdown",
   "metadata": {
    "colab_type": "text",
    "id": "iR5EWoSLelED"
   },
   "source": [
    "Доступ к элементу:\n",
    "\n",
    "    d = {'name1': 1, 'name2': 2}\n",
    "    print(d['name1'])"
   ]
  },
  {
   "cell_type": "code",
   "execution_count": 0,
   "metadata": {
    "colab": {
     "base_uri": "https://localhost:8080/",
     "height": 55
    },
    "colab_type": "code",
    "id": "iFja4Gnhelyi",
    "outputId": "655b995a-95ec-426c-db6c-5f37739c4dab"
   },
   "outputs": [
    {
     "name": "stdout",
     "output_type": "stream",
     "text": [
      "1\n"
     ]
    }
   ],
   "source": []
  },
  {
   "cell_type": "markdown",
   "metadata": {
    "colab_type": "text",
    "id": "sFwPxr_6ebii"
   },
   "source": [
    "Добавить элемент в словарь можно так:\n",
    "\n",
    "    d = {}\n",
    "    d['name'] = 22"
   ]
  },
  {
   "cell_type": "markdown",
   "metadata": {
    "colab_type": "text",
    "id": "vE-G1vBse7ws"
   },
   "source": [
    "Именем может быть не только строка:\n",
    "\n",
    "    d = {1: 1, 2: 2}\n",
    "    print(d[2])"
   ]
  },
  {
   "cell_type": "code",
   "execution_count": 0,
   "metadata": {
    "colab": {},
    "colab_type": "code",
    "id": "C3bl3zO9fHR-"
   },
   "outputs": [],
   "source": []
  },
  {
   "cell_type": "markdown",
   "metadata": {
    "colab_type": "text",
    "id": "YYF--iunfduc"
   },
   "source": [
    "Можно получить все имена (называются keys) словаря функцией keys():\n",
    "\n",
    "    d.keys()\n",
    "    \n",
    "Перебор по элементам словаря пишется как и для других массивов:\n",
    "\n",
    "    for k in d:\n",
    "        d[k]"
   ]
  },
  {
   "cell_type": "markdown",
   "metadata": {
    "colab_type": "text",
    "id": "sal2jWKnfMmr"
   },
   "source": [
    "Преимущество набора (set) и словаря (dict) в том, что для этих типов проверка содержания элемента в массиве ОЧЕНЬ быстрая:\n",
    "\n",
    "    %timeit 1 in d\n",
    "\n",
    "Сравнить с аналогичной проверкой для list, tuple и set."
   ]
  },
  {
   "cell_type": "code",
   "execution_count": 0,
   "metadata": {
    "colab": {},
    "colab_type": "code",
    "id": "V_n3JLT5fx7n"
   },
   "outputs": [],
   "source": []
  },
  {
   "cell_type": "markdown",
   "metadata": {
    "colab_type": "text",
    "id": "GJfKWflweKQP"
   },
   "source": [
    "Задача: есть куча носков разных цветов, каждый цвет обозначаем цветом:\n",
    "\n",
    "    socks = [1, 2, 1, 2, 1, 2 ,3, 1]\n",
    "\n",
    "Посчитать, сколько пар одного цвета можно составить. В данном примере -- 2 пары цвета 1, 1 пара цвета 2, 0 пар цвета 3. Вернуть ответ (из функции) в виде словаря, в данном случае \n",
    "\n",
    "    {1: 2, 2: 1, 3: 0}"
   ]
  },
  {
   "cell_type": "code",
   "execution_count": 0,
   "metadata": {
    "colab": {},
    "colab_type": "code",
    "id": "pN09-Q5ieNpS"
   },
   "outputs": [],
   "source": []
  },
  {
   "cell_type": "markdown",
   "metadata": {
    "colab_type": "text",
    "id": "9cZ6txvDgVTT"
   },
   "source": [
    "Задача: Создать словарь students, где keys это имена студентов, а значения -- их оценки на экзамене. Сделать цикл по студентам (по students.keys()) и всем снизить оценку на балл (если есть куда снижать). >:-)"
   ]
  },
  {
   "cell_type": "code",
   "execution_count": null,
   "metadata": {},
   "outputs": [],
   "source": []
  },
  {
   "cell_type": "markdown",
   "metadata": {},
   "source": [
    "Задача: Сравнение предложений. Есть два предложения:\n",
    "\n",
    "    s1 = 'шла саша по шоссе и сосала сушку'\n",
    "    s2 = 'шел шива по шоссе сокрушая сущее'\n",
    "    \n",
    "Для каждого предложения создать словарь, где ключами выступают слова предложения, а значениями -- количество таких слов в предложении. Создать программу для сравнения предложений s1 и s2: если в обоих предложениях встречается слово (например мама), то считаем одно совпадение.\n",
    "\n",
    "Выдать результат в виде \"предложения совпадают на ...%\"\n",
    "\n",
    "Чтобы разделить строку на слова использовать\n",
    "\n",
    "    s1.split()"
   ]
  },
  {
   "cell_type": "code",
   "execution_count": null,
   "metadata": {},
   "outputs": [],
   "source": []
  },
  {
   "cell_type": "markdown",
   "metadata": {},
   "source": [
    "Лучник стреляет в мишень, каждый выстрел записывается как пара координат: x и y. Есть координаты мишени x_target и y_target, радиус мишени r. Создать массив из выстрелов, которые попали в мишень:\n",
    "\n",
    "    (x - x_target)**2 + (y - y_target)**2 < r**2"
   ]
  },
  {
   "cell_type": "code",
   "execution_count": null,
   "metadata": {},
   "outputs": [],
   "source": []
  },
  {
   "cell_type": "markdown",
   "metadata": {
    "colab": {},
    "colab_type": "code",
    "id": "tJzhW_4vgmyr"
   },
   "source": [
    "# Функции"
   ]
  },
  {
   "cell_type": "markdown",
   "metadata": {},
   "source": [
    "Функция -- это часто повторяемая процедура, которую удобно определить один раз, чтобы не переписывать ее снова и снова. Примеры функций:\n",
    "- построить график\n",
    "- найти корни уравнения\n",
    "- сыграть с пользователем в игру \"спички\"\n",
    "\n",
    "Определение функции:\n",
    "\n",
    "    def f():\n",
    "        pass\n",
    "        \n",
    "`pass` -- комманда Python, которая не делает ничего.\n",
    "\n",
    "Функция может принимать один или несколько аргументов\n",
    "\n",
    "    def ladder(height):\n",
    "        '''\n",
    "        Print ladder of given height\n",
    "        '''\n",
    "        for level in range(height):\n",
    "            print(level * '#')\n",
    "            \n",
    "После определения такую функцию можно запустить:\n",
    "\n",
    "    ladder(6)\n",
    "    \n",
    "Задача: оформить \"лесенку вправо\" в виде функции"
   ]
  },
  {
   "cell_type": "code",
   "execution_count": null,
   "metadata": {},
   "outputs": [],
   "source": []
  },
  {
   "cell_type": "code",
   "execution_count": null,
   "metadata": {},
   "outputs": [],
   "source": []
  },
  {
   "cell_type": "markdown",
   "metadata": {},
   "source": [
    "Задача: сделать функцию ladder, которая печатает лесенку из символов, заданных пользователем. Значение по умолчанию для символа -- `#`. Заметьте, что старый код, использующий старую реализацию ladder, все также будет продолжать работать и с новой реализацией."
   ]
  },
  {
   "cell_type": "code",
   "execution_count": null,
   "metadata": {},
   "outputs": [],
   "source": []
  },
  {
   "cell_type": "markdown",
   "metadata": {},
   "source": [
    "Функция может возвращать одно или несколько значений:\n",
    "\n",
    "    def factorial(n):\n",
    "        '''\n",
    "        Returns factorial of given number\n",
    "        '''\n",
    "        fact = 1\n",
    "        while n > 0:\n",
    "            fact *= n\n",
    "            n -= 1\n",
    "        return fact\n",
    "        \n",
    "Другой пример:\n",
    "\n",
    "    def solve_quadratic(a, b, c):\n",
    "        '''\n",
    "        Returns solutions (if any) of quadratic equation\n",
    "        a*x**2 + b*x + c\n",
    "        '''\n",
    "        determinant = b**2 - 4 * a * c\n",
    "        if determinant > 0:\n",
    "            x1 = (-b + determinant**0.5) / 2 / a\n",
    "            x2 = (-b - determinant**0.5) / 2 / a\n",
    "            return x1, x2\n",
    "        if determinant == 0:\n",
    "            return -b / 2 / a\n",
    "        if determinant < 0:\n",
    "            return None\n",
    "            \n",
    "Задание: скопировать функцию solve_quadratic, напечатать решения уравнений:\n",
    "\n",
    "    100*x**2 + 1*x + 100\n",
    "    1*x**2 + 10*x + 1\n",
    "    4*x**2 + 4*x - 1\n",
    "    \n",
    "Печать в виде:\n",
    "\n",
    "    Equation .... has 2 roots: blabla and blabli\n",
    "    \n",
    "или \n",
    "    \n",
    "    Equation ... has no roots\n",
    "    \n",
    "Использовать конструкцию\n",
    "\n",
    "    if x is None:\n",
    "        #...."
   ]
  },
  {
   "cell_type": "code",
   "execution_count": null,
   "metadata": {},
   "outputs": [],
   "source": []
  },
  {
   "cell_type": "markdown",
   "metadata": {},
   "source": [
    "Задача: написать функцию date, принимающую 3 аргумента — день, месяц и год. Вернуть True, если такая дата есть в нашем календаре, и False иначе."
   ]
  },
  {
   "cell_type": "code",
   "execution_count": null,
   "metadata": {},
   "outputs": [],
   "source": []
  },
  {
   "cell_type": "code",
   "execution_count": null,
   "metadata": {},
   "outputs": [],
   "source": []
  },
  {
   "cell_type": "markdown",
   "metadata": {},
   "source": [
    "### Домашнее задание 4"
   ]
  },
  {
   "cell_type": "markdown",
   "metadata": {},
   "source": [
    "Задача: написать функцию is_prime, принимающую 1 аргумент — число от 0 до 1000, и возвращающую True, если оно простое, и False - иначе."
   ]
  },
  {
   "cell_type": "code",
   "execution_count": null,
   "metadata": {},
   "outputs": [],
   "source": []
  },
  {
   "cell_type": "markdown",
   "metadata": {},
   "source": [
    "Задача: Оформить игру в угадывание числа в виде функции `user_turn`, которая принимает два аргумента: максимальное число, которое разрешается загадывать, и максимальное количество очков, какое можно получить если пользователь угадывает число с первого раза.\n",
    "\n",
    "Подсчет очков: за каждую неудачную попытку отнимать одно очко.\n",
    "\n",
    "Написать функцию `computer_turn` для хода компьютера, когда он угадывает число, загаданное пользователем.\n",
    "\n",
    "Обе функции должны возвращать количество очков, полученное в текущем раунде (не должно быть меньше 0). Суммировать очки в переменных `user_score` и `computer_score`. Сделать игру на 5 раундов, после каждого раунда печатать текущий счет."
   ]
  },
  {
   "cell_type": "code",
   "execution_count": null,
   "metadata": {},
   "outputs": [],
   "source": []
  },
  {
   "cell_type": "markdown",
   "metadata": {},
   "source": [
    "Задача: одна из нерешенных проблем современной математики -- это гипотеза Коллатца:\n",
    "\n",
    "Возьмем любое натуральное число. Если оно четное, то поделим его пополам. Если нечетное, то умножим на 3 и прибавим 1. С полученным числом поступим по тем же правилам. В итоге мы получаем последовательность чисел. Оказывается, что какое число ни возьми, в конце концов последовательность окончится повторяющимися числами 4, 2, 1, 4, 2, 1... Гипотеза Коллатца состоит в том, что это выполняется для всех натуральных чисел. На сегодняшний день гипотеза Коллатца экспериментально проверена для чисел < ~$2^{60}$, но строгого математического доказательства, что это верно (или не верно) для всех чисел, пока не существует.\n",
    "\n",
    "Создать функцию, которая проверяет гипотезу Коллатца для данного числа. Функция должна возвращать длину последовательности до момента, когда в ней первый раз встречается 1, и максимальное число в последовательности. Задать опциональный аргумент verbose=False. Если verbose=True, то распечатать последовательность до первой единицы. Проверить гипотезу Коллатца для чисел < $10^3$."
   ]
  },
  {
   "cell_type": "code",
   "execution_count": null,
   "metadata": {},
   "outputs": [],
   "source": []
  },
  {
   "cell_type": "markdown",
   "metadata": {},
   "source": [
    "Задача: фруктовый ларек. Есть два словаря:\n",
    "\n",
    "    stock = { # Количество фруктов в наличии (кг)\n",
    "        \"banana\": 6,\n",
    "        \"apple\": 0,\n",
    "        \"orange\": 32,\n",
    "        \"pear\": 15\n",
    "    }\n",
    "\n",
    "    prices = { # цена за кг\n",
    "        \"banana\": 4,\n",
    "        \"apple\": 2,\n",
    "        \"orange\": 1.5,\n",
    "        \"pear\": 3\n",
    "    }\n",
    "    \n",
    "Определить функцию compute_bill, которая принимает словарь, в котором расписаны пожелания клиента:\n",
    "\n",
    "    client_wants = {\n",
    "        \"banana\": 0,\n",
    "        \"apple\" : 0.5,\n",
    "        \"orange\": 1,\n",
    "        \"pear\"  : 100\n",
    "    }\n",
    "\n",
    "Функция расчитывает стоимость корзины, если заявленные продукты есть в необходимом количестве, и отнимает нужное количество продуктов из store.\n",
    "\n",
    "Вопрос на размышление: В чем недостаток такой программы?"
   ]
  },
  {
   "cell_type": "code",
   "execution_count": null,
   "metadata": {},
   "outputs": [],
   "source": []
  },
  {
   "cell_type": "markdown",
   "metadata": {},
   "source": [
    "## lambda-выражения"
   ]
  },
  {
   "cell_type": "markdown",
   "metadata": {},
   "source": [
    "Иногда нужны очень маленькие функции, умещающиеся на одну строку кода и используемые один раз. Тогда используются `lambda`-выражения.\n",
    "\n",
    "`lambda` можно использовать, как обычные функции:\n",
    "\n",
    "    f = lambda x: x**2\n",
    "    \n",
    "эквивалентно\n",
    "\n",
    "    def f(x):\n",
    "        return x**2\n",
    "        \n",
    "Однако второй способ предпочтительный. `lambda` используются без имени. Если функции нужно имя, лучше определить его через `def`. Здесь мы используем это просто для иллюстрации.\n",
    "        \n",
    "Как и обычные функции, `lambda` может принимать несколько аргументов:\n",
    "\n",
    "    s = lambda a, b: a+b\n",
    "    print(s(3, 5))"
   ]
  },
  {
   "cell_type": "code",
   "execution_count": null,
   "metadata": {},
   "outputs": [],
   "source": []
  },
  {
   "cell_type": "markdown",
   "metadata": {},
   "source": [
    "Интереснее всего использовать `lambda`, как возвращаемое значение другой функции:\n",
    "\n",
    "    def myfunc(n):\n",
    "        return lambda a : a * n\n",
    "    mydoubler = myfunc(2)\n",
    "    print(mydoubler(11))\n",
    "    mytripler = myfunc(3)\n",
    "    print(mytripler(11))"
   ]
  },
  {
   "cell_type": "code",
   "execution_count": null,
   "metadata": {},
   "outputs": [],
   "source": []
  },
  {
   "cell_type": "markdown",
   "metadata": {},
   "source": [
    "`lambda` используется, как безымянная функция, необходимая только на короткое время.\n",
    "\n",
    "    (lambda x: x + 1)(2)"
   ]
  },
  {
   "cell_type": "code",
   "execution_count": null,
   "metadata": {},
   "outputs": [],
   "source": []
  },
  {
   "cell_type": "markdown",
   "metadata": {},
   "source": [
    "Задача: написать функцию, возвращающую lambda, чтобы повторять строку n раз."
   ]
  },
  {
   "cell_type": "code",
   "execution_count": null,
   "metadata": {},
   "outputs": [],
   "source": []
  },
  {
   "cell_type": "markdown",
   "metadata": {},
   "source": [
    "Задача: есть игра, называется 'Fizz-Buzz'. Дети встают в круг и по очереди считают: один, два... Каждое число, которое делится на 3 заменяют восклицанием Fizz. Каждое число, которое делится на 5 заменяют на Buzz. Числа, которые делятся и на 3 и на 5 заменяются на FizzBuzz. \n",
    "\n",
    "Написать программу, которая заменяет числа по данному правилу от 1 до 100. Постараться по-максимуму сделать код \"сухим\": DRY -- don't repeat yourself -- нельзя повторять одни и те же выражения несколько раз."
   ]
  },
  {
   "cell_type": "code",
   "execution_count": null,
   "metadata": {},
   "outputs": [],
   "source": []
  },
  {
   "cell_type": "markdown",
   "metadata": {},
   "source": [
    "Что будет, если в предыдущей задаче количество условий увеличится? Скажем, если условия {делитель: замена} заданы в словаре:\n",
    "\n",
    "    FizzBuzz = {3: 'Fizz',\n",
    "                5: 'Buzz',\n",
    "                7: 'Zoom',\n",
    "                4: 'Boom'}"
   ]
  },
  {
   "cell_type": "code",
   "execution_count": null,
   "metadata": {},
   "outputs": [],
   "source": []
  }
 ],
 "metadata": {
  "colab": {
   "collapsed_sections": [],
   "name": "PythonBasics1 Борис.ipynb",
   "provenance": [],
   "toc_visible": true
  },
  "kernelspec": {
   "display_name": "Python 3",
   "language": "python",
   "name": "python3"
  },
  "language_info": {
   "codemirror_mode": {
    "name": "ipython",
    "version": 3
   },
   "file_extension": ".py",
   "mimetype": "text/x-python",
   "name": "python",
   "nbconvert_exporter": "python",
   "pygments_lexer": "ipython3",
   "version": "3.7.7"
  }
 },
 "nbformat": 4,
 "nbformat_minor": 1
}
