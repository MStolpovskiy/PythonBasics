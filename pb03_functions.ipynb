{
 "cells": [
  {
   "cell_type": "markdown",
   "metadata": {
    "colab": {},
    "colab_type": "code",
    "id": "tJzhW_4vgmyr"
   },
   "source": [
    "# Функции"
   ]
  },
  {
   "cell_type": "markdown",
   "metadata": {},
   "source": [
    "Функция -- это часто повторяемая процедура, которую удобно определить один раз, чтобы не переписывать ее снова и снова. Примеры функций:\n",
    "- построить график\n",
    "- найти корни уравнения\n",
    "- сыграть с пользователем в игру \"спички\"\n",
    "\n",
    "Определение функции:\n",
    "\n",
    "    def f():\n",
    "        pass\n",
    "        \n",
    "`pass` -- комманда Python, которая не делает ничего.\n",
    "\n",
    "Функция может принимать один или несколько аргументов\n",
    "\n",
    "    def ladder(height):\n",
    "        '''\n",
    "        Print ladder of given height\n",
    "        '''\n",
    "        for level in range(height):\n",
    "            print(level * '#')\n",
    "            \n",
    "После определения такую функцию можно запустить:\n",
    "\n",
    "    ladder(6)\n",
    "    \n",
    "Задача: оформить \"лесенку вправо\" в виде функции"
   ]
  },
  {
   "cell_type": "code",
   "execution_count": null,
   "metadata": {},
   "outputs": [],
   "source": []
  },
  {
   "cell_type": "code",
   "execution_count": null,
   "metadata": {},
   "outputs": [],
   "source": []
  },
  {
   "cell_type": "markdown",
   "metadata": {},
   "source": [
    "Задача: сделать функцию ladder, которая печатает лесенку из символов, заданных пользователем. Значение по умолчанию для символа -- `#`. Заметьте, что старый код, использующий старую реализацию ladder, все также будет продолжать работать и с новой реализацией."
   ]
  },
  {
   "cell_type": "code",
   "execution_count": null,
   "metadata": {},
   "outputs": [],
   "source": []
  },
  {
   "cell_type": "markdown",
   "metadata": {},
   "source": [
    "Функция может возвращать одно или несколько значений:\n",
    "\n",
    "    def factorial(n):\n",
    "        '''\n",
    "        Returns factorial of given number\n",
    "        '''\n",
    "        fact = 1\n",
    "        while n > 0:\n",
    "            fact *= n\n",
    "            n -= 1\n",
    "        return fact\n",
    "        \n",
    "Другой пример:\n",
    "\n",
    "    def solve_quadratic(a, b, c):\n",
    "        '''\n",
    "        Returns solutions (if any) of quadratic equation\n",
    "        a*x**2 + b*x + c\n",
    "        '''\n",
    "        determinant = b**2 - 4 * a * c\n",
    "        if determinant > 0:\n",
    "            x1 = (-b + determinant**0.5) / 2 / a\n",
    "            x2 = (-b - determinant**0.5) / 2 / a\n",
    "            return x1, x2\n",
    "        if determinant == 0:\n",
    "            return -b / 2 / a\n",
    "        if determinant < 0:\n",
    "            return None\n",
    "            \n",
    "Задание: скопировать функцию solve_quadratic, напечатать решения уравнений:\n",
    "\n",
    "    100*x**2 + 1*x + 100\n",
    "    1*x**2 + 10*x + 1\n",
    "    4*x**2 + 4*x - 1\n",
    "    \n",
    "Печать в виде:\n",
    "\n",
    "    Equation .... has 2 roots: blabla and blabli\n",
    "    \n",
    "или \n",
    "    \n",
    "    Equation ... has no roots\n",
    "    \n",
    "Использовать конструкцию\n",
    "\n",
    "    if x is None:\n",
    "        #...."
   ]
  },
  {
   "cell_type": "code",
   "execution_count": null,
   "metadata": {},
   "outputs": [],
   "source": []
  },
  {
   "cell_type": "markdown",
   "metadata": {},
   "source": [
    "Задача: написать функцию `date_exists`, принимающую 3 аргумента — день, месяц и год. Вернуть `True`, если такая дата есть в нашем календаре, и `False` иначе. Проверить, что функция возвращает `False` на -1 января, 31 труляля, 29 февраля 2021 года, и `True` на настоящие числа (например 29 февраля 2020 года)."
   ]
  },
  {
   "cell_type": "code",
   "execution_count": null,
   "metadata": {},
   "outputs": [],
   "source": []
  },
  {
   "cell_type": "code",
   "execution_count": null,
   "metadata": {},
   "outputs": [],
   "source": []
  },
  {
   "cell_type": "markdown",
   "metadata": {},
   "source": [
    "### Домашнее задание 4"
   ]
  },
  {
   "cell_type": "markdown",
   "metadata": {},
   "source": [
    "Задача: написать функцию `is_prime`, принимающую 1 аргумент — число от 0 до 1000, и возвращающую `True`, если оно простое, и `False` - иначе."
   ]
  },
  {
   "cell_type": "code",
   "execution_count": null,
   "metadata": {},
   "outputs": [],
   "source": []
  },
  {
   "cell_type": "markdown",
   "metadata": {},
   "source": [
    "Задача: Оформить игру в угадывание числа в виде функции `user_turn`, которая принимает два аргумента: максимальное число, которое разрешается загадывать, и максимальное количество очков, какое можно получить если пользователь угадывает число с первого раза.\n",
    "\n",
    "Подсчет очков: за каждую неудачную попытку отнимать одно очко.\n",
    "\n",
    "Написать функцию `computer_turn` для хода компьютера, когда он угадывает число, загаданное пользователем.\n",
    "\n",
    "Обе функции должны возвращать количество очков, полученное в текущем раунде (не должно быть меньше 0). Суммировать очки в переменных `user_score` и `computer_score`. Сделать игру на 5 раундов, после каждого раунда печатать текущий счет."
   ]
  },
  {
   "cell_type": "code",
   "execution_count": null,
   "metadata": {},
   "outputs": [],
   "source": []
  },
  {
   "cell_type": "markdown",
   "metadata": {},
   "source": [
    "Задача: одна из нерешенных проблем современной математики -- это гипотеза Коллатца:\n",
    "\n",
    "Возьмем любое натуральное число. Если оно четное, то поделим его пополам. Если нечетное, то умножим на 3 и прибавим 1. С полученным числом поступим по тем же правилам. В итоге мы получаем последовательность чисел. Оказывается, что какое число ни возьми, в конце концов последовательность окончится повторяющимися числами 4, 2, 1, 4, 2, 1... Гипотеза Коллатца состоит в том, что это выполняется для всех натуральных чисел. На сегодняшний день гипотеза Коллатца экспериментально проверена для чисел < ~$2^{60}$, но строгого математического доказательства, что это верно (или не верно) для всех чисел, пока не существует.\n",
    "\n",
    "Создать функцию, которая проверяет гипотезу Коллатца для данного числа. Функция должна возвращать длину последовательности до момента, когда в ней первый раз встречается 1, и максимальное число в последовательности. Задать опциональный аргумент verbose=False. Если verbose=True, то распечатать последовательность до первой единицы. Проверить гипотезу Коллатца для чисел < $10^3$.\n",
    "\n",
    "Дополнительно: Графики в питоне можно строить так:\n",
    "\n",
    "    import matplotlib.pyplo as plt\n",
    "    x = [1, 2, 3, 4, 5]\n",
    "    y = [5, 3, 1, 3, 5]\n",
    "    plt.plot(x, y)\n",
    "\n",
    "Или даже просто\n",
    "\n",
    "    plt.plot(y)\n",
    "    \n",
    "Встроить в нашу функцию опциональную возможность строить график всех пройденных последовательностью Коллатца значений по порядку до первой единицы."
   ]
  },
  {
   "cell_type": "code",
   "execution_count": null,
   "metadata": {},
   "outputs": [],
   "source": []
  },
  {
   "cell_type": "markdown",
   "metadata": {},
   "source": [
    "Задача: фруктовый ларек. Есть два словаря:\n",
    "\n",
    "    stock = { # Количество фруктов в наличии (кг)\n",
    "        \"banana\": 6,\n",
    "        \"apple\": 0,\n",
    "        \"orange\": 32,\n",
    "        \"pear\": 15\n",
    "    }\n",
    "\n",
    "    prices = { # цена за кг\n",
    "        \"banana\": 4,\n",
    "        \"apple\": 2,\n",
    "        \"orange\": 1.5,\n",
    "        \"pear\": 3\n",
    "    }\n",
    "    \n",
    "Определить функцию compute_bill, которая принимает словарь, в котором расписаны пожелания клиента:\n",
    "\n",
    "    client_wants = {\n",
    "        \"banana\": 0,\n",
    "        \"apple\" : 0.5,\n",
    "        \"orange\": 1,\n",
    "        \"pear\"  : 100\n",
    "    }\n",
    "\n",
    "Функция расчитывает стоимость корзины, если заявленные продукты есть в необходимом количестве, и отнимает нужное количество продуктов из store.\n",
    "\n",
    "Вопрос на размышление: В чем недостаток такой программы?"
   ]
  },
  {
   "cell_type": "code",
   "execution_count": null,
   "metadata": {},
   "outputs": [],
   "source": []
  },
  {
   "cell_type": "markdown",
   "metadata": {},
   "source": [
    "## lambda-выражения"
   ]
  },
  {
   "cell_type": "markdown",
   "metadata": {},
   "source": [
    "Иногда нужны очень маленькие функции, умещающиеся на одну строку кода и используемые один раз. Тогда используются `lambda`-выражения.\n",
    "\n",
    "`lambda` можно использовать, как обычные функции:\n",
    "\n",
    "    f = lambda x: x**2\n",
    "    \n",
    "эквивалентно\n",
    "\n",
    "    def f(x):\n",
    "        return x**2\n",
    "        \n",
    "Однако второй способ предпочтительный. `lambda` используются без имени. Если функции нужно имя, лучше определить его через `def`. Здесь мы используем это просто для иллюстрации.\n",
    "        \n",
    "Как и обычные функции, `lambda` может принимать несколько аргументов:\n",
    "\n",
    "    s = lambda a, b: a+b\n",
    "    print(s(3, 5))"
   ]
  },
  {
   "cell_type": "code",
   "execution_count": null,
   "metadata": {},
   "outputs": [],
   "source": []
  },
  {
   "cell_type": "markdown",
   "metadata": {},
   "source": [
    "Интереснее всего использовать `lambda`, как возвращаемое значение другой функции:\n",
    "\n",
    "    def myfunc(n):\n",
    "        return lambda a : a * n\n",
    "    mydoubler = myfunc(2)\n",
    "    print(mydoubler(11))\n",
    "    mytripler = myfunc(3)\n",
    "    print(mytripler(11))"
   ]
  },
  {
   "cell_type": "code",
   "execution_count": null,
   "metadata": {},
   "outputs": [],
   "source": []
  },
  {
   "cell_type": "markdown",
   "metadata": {},
   "source": [
    "Чаще всего `lambda` используется, как безымянная функция, необходимая только на короткое время.\n",
    "\n",
    "    (lambda x: x + 1)(2)"
   ]
  },
  {
   "cell_type": "code",
   "execution_count": null,
   "metadata": {},
   "outputs": [],
   "source": []
  },
  {
   "cell_type": "markdown",
   "metadata": {},
   "source": [
    "Задача: написать функцию, возвращающую lambda, которая будет повторять данную строку n раз."
   ]
  },
  {
   "cell_type": "code",
   "execution_count": null,
   "metadata": {},
   "outputs": [],
   "source": []
  },
  {
   "cell_type": "markdown",
   "metadata": {},
   "source": [
    "Задача: есть игра, называется 'Fizz-Buzz'. Дети встают в круг и по очереди считают: один, два... Каждое число, которое делится на 3 заменяют восклицанием Fizz. Каждое число, которое делится на 5 заменяют на Buzz. Числа, которые делятся и на 3 и на 5 заменяются на FizzBuzz. \n",
    "\n",
    "Написать программу, которая заменяет числа по данному правилу от 1 до 100. Постараться по-максимуму сделать код \"сухим\". Принцип \"DRY\" -- don't repeat yourself -- является одним из главных принципов хорошего кода: нельзя повторять одни и те же выражения несколько раз."
   ]
  },
  {
   "cell_type": "code",
   "execution_count": null,
   "metadata": {},
   "outputs": [],
   "source": []
  },
  {
   "cell_type": "markdown",
   "metadata": {},
   "source": [
    "Что будет, если в предыдущей задаче количество условий увеличится? Скажем, если условия {делитель: замена} заданы в словаре:\n",
    "\n",
    "    FizzBuzz = {3: 'Fizz',\n",
    "                5: 'Buzz',\n",
    "                7: 'Zoom',\n",
    "                4: 'Boom'}"
   ]
  },
  {
   "cell_type": "code",
   "execution_count": null,
   "metadata": {},
   "outputs": [],
   "source": []
  },
  {
   "cell_type": "markdown",
   "metadata": {},
   "source": [
    "# Рекурсия\n",
    "\n",
    "Рекурсией в программировании называется вызов функции внутри ее же самой. Рассмотрим уже знакомый пример с лесенкой, только в этот раз построим ее вверх ногами:\n",
    "\n",
    "    #####\n",
    "    ####\n",
    "    ###\n",
    "    ##\n",
    "    #\n",
    "    \n",
    "Заметим, что для построения лесенки высотой N достаточно нарисовать N диезов, а потом построить лесенку высотой N-1. Если требуется построить лесенку высотой 0, то ничего делать не нужно. Реализуем эту логику:"
   ]
  },
  {
   "cell_type": "code",
   "execution_count": 2,
   "metadata": {},
   "outputs": [
    {
     "name": "stdout",
     "output_type": "stream",
     "text": [
      "#####\n",
      "####\n",
      "###\n",
      "##\n",
      "#\n"
     ]
    }
   ],
   "source": [
    "def ladder(n):\n",
    "    if n == 0:\n",
    "        return\n",
    "    print('#' * n)\n",
    "    ladder(n - 1)\n",
    "    \n",
    "ladder(5)"
   ]
  },
  {
   "cell_type": "markdown",
   "metadata": {},
   "source": [
    "Такая реализация функии называется рекурсивной. Еще пример: факториал через рекурсию."
   ]
  },
  {
   "cell_type": "code",
   "execution_count": 4,
   "metadata": {},
   "outputs": [
    {
     "data": {
      "text/plain": [
       "720"
      ]
     },
     "execution_count": 4,
     "metadata": {},
     "output_type": "execute_result"
    }
   ],
   "source": [
    "def factorial(n):\n",
    "    if n == 0:\n",
    "        return 1\n",
    "    return n * factorial(n - 1)\n",
    "\n",
    "factorial(6)"
   ]
  },
  {
   "cell_type": "markdown",
   "metadata": {},
   "source": [
    "Сравните скорость выполнения функции факториала с циклом и с рекурсией. Можно ли посчитать 1000! этими способами?"
   ]
  },
  {
   "cell_type": "code",
   "execution_count": null,
   "metadata": {},
   "outputs": [],
   "source": []
  },
  {
   "cell_type": "markdown",
   "metadata": {},
   "source": [
    "Хотя рекурсия часто медленнее и имеет свои ограничения, этим методом легко решаются многие задачи, для которых иначе решение совершенно неочевидно. Кроме того, некоторые задачи имеют рекурсивное решение, которое работает более эффективно, чем решение без рекурсии\n",
    "\n",
    "Рассмотрим функцию факториала еще раз. В ней есть: \n",
    "\n",
    "- условие выхода из рекурсии `if n == 0:`\n",
    "- рекурсивный вызов `return n * factorial(n - 1)`\n",
    "\n",
    "Эти компоненты должны быть в любой рекурсивной функции."
   ]
  },
  {
   "cell_type": "markdown",
   "metadata": {},
   "source": [
    "Еще один пример: поиск номера элемента в отсортированном массиве. Например: дано число 51.70 и массив\n",
    "\n",
    "`[3.97, 22.02, 35.73, 51.70, 72.86, 89.88]`\n",
    "\n",
    "Функция должна вернуть значение 3. Если элемента нет в массиве, вернуть -1"
   ]
  },
  {
   "cell_type": "code",
   "execution_count": 17,
   "metadata": {},
   "outputs": [],
   "source": [
    "def search_with_loop(number, array):\n",
    "    for i, el in enumerate(array):\n",
    "        if number > el:\n",
    "            continue\n",
    "        elif number == el:\n",
    "            return i\n",
    "        else:\n",
    "            break\n",
    "    return -1"
   ]
  },
  {
   "cell_type": "markdown",
   "metadata": {},
   "source": [
    "Протестируем эту функцию"
   ]
  },
  {
   "cell_type": "code",
   "execution_count": 21,
   "metadata": {},
   "outputs": [
    {
     "name": "stdout",
     "output_type": "stream",
     "text": [
      "Average elapsed time = 6644.73ns\n"
     ]
    }
   ],
   "source": [
    "import time\n",
    "import numpy as np\n",
    "\n",
    "n_tries = 100\n",
    "n_elements = 100\n",
    "elapsed_time = 0.\n",
    "\n",
    "for i in range(n_tries):\n",
    "    ar = list(np.sort(np.random.rand(n_elements) * 100))\n",
    "    correct_answer = np.random.randint(n_elements)\n",
    "    n = ar[correct_answer]\n",
    "    \n",
    "    # in half cases replace n with a random number\n",
    "    if np.random.rand() < 0.5:\n",
    "        n = np.random.rand() * 100\n",
    "        correct_answer = -1\n",
    "    start_time = time.time()\n",
    "    answer = search_with_loop(n, ar)\n",
    "    elapsed_time += time.time() - start_time\n",
    "    if answer != correct_answer:\n",
    "        print('ATTENTION: wrong answer!')\n",
    "\n",
    "print(f'Average elapsed time = {elapsed_time / n_tries * 1e9:.2f}ns')"
   ]
  },
  {
   "cell_type": "markdown",
   "metadata": {},
   "source": [
    "А теперь попробуем рекурсивный подход: поделим массив пополам, определим в какой из его половин находится искомое число, к этой половине применим тот же алгоритм снова"
   ]
  },
  {
   "cell_type": "code",
   "execution_count": 28,
   "metadata": {},
   "outputs": [],
   "source": [
    "def search_recursively(number, array):\n",
    "    if len(array) == 0:\n",
    "        return -1\n",
    "    elif len(array) == 1:\n",
    "        return 0 if array[0] == number else -1\n",
    "\n",
    "    else:\n",
    "        ind_middle = len(array) // 2\n",
    "        if number == array[ind_middle]:\n",
    "            return ind_middle\n",
    "        elif array[ind_middle] > number:\n",
    "            return search_recursively(number, array[:ind_middle])\n",
    "        else:\n",
    "            ans = search_recursively(number, array[ind_middle:])\n",
    "            if ans != -1:\n",
    "                return ind_middle + ans\n",
    "            else:\n",
    "                return ans"
   ]
  },
  {
   "cell_type": "code",
   "execution_count": 29,
   "metadata": {},
   "outputs": [
    {
     "name": "stdout",
     "output_type": "stream",
     "text": [
      "Average elapsed time = 6432.53ns\n"
     ]
    }
   ],
   "source": [
    "import time\n",
    "import numpy as np\n",
    "\n",
    "n_tries = 100\n",
    "n_elements = 100\n",
    "elapsed_time = 0.\n",
    "\n",
    "for i in range(n_tries):\n",
    "    ar = list(np.sort(np.random.rand(n_elements) * 100))\n",
    "    correct_answer = np.random.randint(n_elements)\n",
    "    n = ar[correct_answer]\n",
    "    \n",
    "    # in half cases replace n with a random number\n",
    "    if np.random.rand() < 0.5:\n",
    "        n = np.random.rand() * 100\n",
    "        correct_answer = -1\n",
    "    start_time = time.time()\n",
    "    answer = search_recursively(n, ar)\n",
    "    elapsed_time += time.time() - start_time\n",
    "    if answer != correct_answer:\n",
    "        print(f'{i}: ATTENTION: wrong answer! It is {answer} but must be {correct_answer}')\n",
    "\n",
    "print(f'Average elapsed time = {elapsed_time / n_tries * 1e9:.2f}ns')"
   ]
  },
  {
   "cell_type": "markdown",
   "metadata": {},
   "source": [
    "Вроде разница небольшая. Но проследим за ростом потраченного времени с увеличением длины массива"
   ]
  },
  {
   "cell_type": "code",
   "execution_count": 32,
   "metadata": {},
   "outputs": [],
   "source": [
    "def av_time(fun, n_elements=100, n_tries=100):\n",
    "    elapsed_time = 0.\n",
    "\n",
    "    for i in range(n_tries):\n",
    "        ar = list(np.sort(np.random.rand(n_elements) * 100))\n",
    "        correct_answer = np.random.randint(n_elements)\n",
    "        n = ar[correct_answer]\n",
    "\n",
    "        # in half cases replace n with a random number\n",
    "        if np.random.rand() < 0.5:\n",
    "            n = np.random.rand() * 100\n",
    "            correct_answer = -1\n",
    "            \n",
    "        start_time = time.time()\n",
    "        answer = fun(n, ar)\n",
    "        elapsed_time += time.time() - start_time\n",
    "        \n",
    "        if answer != correct_answer:\n",
    "            print('ATTENTION: wrong answer!')\n",
    "\n",
    "    return elapsed_time / n_tries * 1e9"
   ]
  },
  {
   "cell_type": "code",
   "execution_count": 37,
   "metadata": {},
   "outputs": [
    {
     "data": {
      "image/png": "[encoded data removed]",
      "text/plain": [
       "<Figure size 432x288 with 1 Axes>"
      ]
     },
     "metadata": {
      "needs_background": "light"
     },
     "output_type": "display_data"
    }
   ],
   "source": [
    "import matplotlib.pyplot as plt\n",
    "\n",
    "ar_n_elements = [10, 100, 1000, 10000, 100000]\n",
    "t_loop = []\n",
    "t_rec = []\n",
    "\n",
    "for n_elements in ar_n_elements:\n",
    "    t_loop.append(av_time(search_with_loop, n_elements))\n",
    "    t_rec.append(av_time(search_recursively, n_elements))\n",
    "    \n",
    "plt.plot(ar_n_elements, t_loop, label='Loop')\n",
    "plt.plot(ar_n_elements, t_rec, label='Recursion')\n",
    "plt.legend()\n",
    "plt.xscale('log')\n",
    "plt.yscale('log')\n",
    "plt.xlabel('Array length')\n",
    "plt.ylabel('Execution time [ns]')\n",
    "plt.show()"
   ]
  },
  {
   "cell_type": "markdown",
   "metadata": {},
   "source": [
    "Тот же график в линейном масштабе по оси Y"
   ]
  },
  {
   "cell_type": "code",
   "execution_count": 38,
   "metadata": {},
   "outputs": [
    {
     "data": {
      "image/png": "[encoded data removed]",
      "text/plain": [
       "<Figure size 432x288 with 1 Axes>"
      ]
     },
     "metadata": {
      "needs_background": "light"
     },
     "output_type": "display_data"
    }
   ],
   "source": [
    "plt.plot(ar_n_elements, t_loop, label='Loop')\n",
    "plt.plot(ar_n_elements, t_rec, label='Recursion')\n",
    "plt.legend()\n",
    "plt.xscale('log')\n",
    "# plt.yscale('log')\n",
    "plt.xlabel('Array length')\n",
    "plt.ylabel('Execution time [ns]')\n",
    "plt.show()"
   ]
  },
  {
   "cell_type": "markdown",
   "metadata": {},
   "source": [
    "Видим, что скорость алгоритма с циклом растет линейно с ростом числа элементов, в то время как рекурсивный подход дает зависимость $\\sim \\ln(N)$. Если мы интересуемся только видом зависимости от количества входных параметров, то говорят о $O$-зависимости. Так, в нашем примере, циклы дают $O(N)$, а рекурсия $O(\\ln(N))$"
   ]
  },
  {
   "cell_type": "markdown",
   "metadata": {},
   "source": [
    "Задача: Дана строка, типа `А роза упала на лапу Азора`. Проверить, является ли строка палиндромом (палиндром это фраза, которая читается в обе стороны одинаково). \n",
    "- Этап первый: выкинуть из строки все пробелы, заглавные буквы сделать маленькими\n",
    "- Этап второй, анализ строки:\n",
    "    - Если строка имеет длину 1 или 0 -- вернуть True\n",
    "    - Если строка имеет длину 2 и больше -- вернуть (первый элемент == последнему) `and` (строка с выкинутыми первым и последним элементами является палиндромом)"
   ]
  },
  {
   "cell_type": "code",
   "execution_count": null,
   "metadata": {},
   "outputs": [],
   "source": []
  },
  {
   "cell_type": "markdown",
   "metadata": {},
   "source": [
    "Задача: используя рекурсию, развернуть массив:\n",
    "- Было `[1, 2, 3, 4]`\n",
    "- Стало `[4, 3, 2, 1]`"
   ]
  },
  {
   "cell_type": "code",
   "execution_count": null,
   "metadata": {},
   "outputs": [],
   "source": []
  },
  {
   "cell_type": "markdown",
   "metadata": {},
   "source": [
    "Задача: найти максимальный (минимальный) элемент массива. Задать опциональный параметр `find_max=True`, который будет определять, ищем мы максимум или минимум.\n",
    "\n",
    "- С циклами делаем так: запоминаем значение первого элемента в переменной `maximum`, пробегаем по всем элементам массива, если текущий элемент больше, чем `maximum` то меняем `maximum` на текущий элемент. Какова сложность такого алгоритма (в $O$-нотации)?\n",
    "- С рекурсией делаем так: ищем максимум между первым элементом массива и максимумом его остатка. Если длина массива 1, то просто возвращаем его единственный элемент.\n",
    "\n",
    "Какой алгоритм показался сложнее при написании? Какой работает быстрее?\n",
    "\n",
    "Создать массив случайных элементов длины 10000:\n",
    "\n",
    "    import numpy as np\n",
    "    arr = np.random.rand(10000)\n",
    "    \n",
    "Как работают оба алгоритма при поиске максимума на этом массиве?"
   ]
  },
  {
   "cell_type": "code",
   "execution_count": null,
   "metadata": {},
   "outputs": [],
   "source": []
  },
  {
   "cell_type": "markdown",
   "metadata": {},
   "source": [
    "# Большая задача: сортировка массива\n",
    "\n",
    "Классический метод сортировки массива по возрастанию -- метод пузырька. Проходим циклом по массиву. Берем i-й элемент. Если он больше элемента i+1, меняем элементы местами. Большие элементы, как пузырьки воздуха в воде, поднимаются на верх массива. Сколько раз нужно пройти по массиву, чтобы получить отсортированный массив? После того, как сортировка сделана, попробуйте оптимизировать алгоритм."
   ]
  },
  {
   "cell_type": "code",
   "execution_count": null,
   "metadata": {},
   "outputs": [],
   "source": []
  },
  {
   "cell_type": "markdown",
   "metadata": {},
   "source": [
    "Альтернативный метод сортировки использует рекурсию: делим массив пополам, каждую половину сортируем (так же, как и целый массив -- то есть рекурсивно применяем функцию сортировки), потом складываем обе половины вместе, как две половинки застежки - молнии."
   ]
  },
  {
   "cell_type": "code",
   "execution_count": null,
   "metadata": {},
   "outputs": [],
   "source": []
  },
  {
   "cell_type": "markdown",
   "metadata": {},
   "source": [
    "Сравнить быстродействие обоих алгоритмов. Как изменяется скорость сортировки с ростом длины массива для обоих алгоритмов?"
   ]
  }
 ],
 "metadata": {
  "colab": {
   "collapsed_sections": [],
   "name": "PythonBasics1 Борис.ipynb",
   "provenance": [],
   "toc_visible": true
  },
  "kernelspec": {
   "display_name": "Python 3",
   "language": "python",
   "name": "python3"
  },
  "language_info": {
   "codemirror_mode": {
    "name": "ipython",
    "version": 3
   },
   "file_extension": ".py",
   "mimetype": "text/x-python",
   "name": "python",
   "nbconvert_exporter": "python",
   "pygments_lexer": "ipython3",
   "version": "3.8.5"
  }
 },
 "nbformat": 4,
 "nbformat_minor": 1
}
