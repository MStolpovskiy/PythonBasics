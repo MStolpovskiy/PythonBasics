{
 "cells": [
  {
   "cell_type": "markdown",
   "metadata": {
    "colab": {},
    "colab_type": "code",
    "id": "tJzhW_4vgmyr"
   },
   "source": [
    "# Функции"
   ]
  },
  {
   "cell_type": "markdown",
   "metadata": {},
   "source": [
    "Функция -- это часто повторяемая процедура, которую удобно определить один раз, чтобы не переписывать ее снова и снова. Примеры функций:\n",
    "- построить график\n",
    "- найти корни уравнения\n",
    "- сыграть с пользователем в игру \"спички\"\n",
    "\n",
    "Определение функции:\n",
    "\n",
    "    def f():\n",
    "        pass\n",
    "        \n",
    "`pass` -- комманда Python, которая не делает ничего.\n",
    "\n",
    "Функция может принимать один или несколько аргументов\n",
    "\n",
    "    def ladder(height):\n",
    "        '''\n",
    "        Print ladder of given height\n",
    "        '''\n",
    "        for level in range(height):\n",
    "            print(level * '#')\n",
    "            \n",
    "После определения такую функцию можно запустить:\n",
    "\n",
    "    ladder(6)\n",
    "    \n",
    "Задача: оформить \"лесенку вправо\" в виде функции"
   ]
  },
  {
   "cell_type": "code",
   "execution_count": null,
   "metadata": {},
   "outputs": [],
   "source": []
  },
  {
   "cell_type": "code",
   "execution_count": null,
   "metadata": {},
   "outputs": [],
   "source": []
  },
  {
   "cell_type": "markdown",
   "metadata": {},
   "source": [
    "Задача: сделать функцию ladder, которая печатает лесенку из символов, заданных пользователем. Значение по умолчанию для символа -- `#`. Заметьте, что старый код, использующий старую реализацию ladder, все также будет продолжать работать и с новой реализацией."
   ]
  },
  {
   "cell_type": "code",
   "execution_count": null,
   "metadata": {},
   "outputs": [],
   "source": []
  },
  {
   "cell_type": "markdown",
   "metadata": {},
   "source": [
    "Функция может возвращать одно или несколько значений:\n",
    "\n",
    "    def factorial(n):\n",
    "        '''\n",
    "        Returns factorial of given number\n",
    "        '''\n",
    "        fact = 1\n",
    "        while n > 0:\n",
    "            fact *= n\n",
    "            n -= 1\n",
    "        return fact\n",
    "        \n",
    "Другой пример:\n",
    "\n",
    "    def solve_quadratic(a, b, c):\n",
    "        '''\n",
    "        Returns solutions (if any) of quadratic equation\n",
    "        a*x**2 + b*x + c\n",
    "        '''\n",
    "        determinant = b**2 - 4 * a * c\n",
    "        if determinant > 0:\n",
    "            x1 = (-b + determinant**0.5) / 2 / a\n",
    "            x2 = (-b - determinant**0.5) / 2 / a\n",
    "            return x1, x2\n",
    "        if determinant == 0:\n",
    "            return -b / 2 / a\n",
    "        if determinant < 0:\n",
    "            return None\n",
    "            \n",
    "Задание: скопировать функцию solve_quadratic, напечатать решения уравнений:\n",
    "\n",
    "    100*x**2 + 1*x + 100\n",
    "    1*x**2 + 10*x + 1\n",
    "    4*x**2 + 4*x - 1\n",
    "    \n",
    "Печать в виде:\n",
    "\n",
    "    Equation .... has 2 roots: blabla and blabli\n",
    "    \n",
    "или \n",
    "    \n",
    "    Equation ... has no roots\n",
    "    \n",
    "Использовать конструкцию\n",
    "\n",
    "    if x is None:\n",
    "        #...."
   ]
  },
  {
   "cell_type": "code",
   "execution_count": null,
   "metadata": {},
   "outputs": [],
   "source": []
  },
  {
   "cell_type": "markdown",
   "metadata": {},
   "source": [
    "Задача: написать функцию `date_exists`, принимающую 3 аргумента — день, месяц и год. Вернуть `True`, если такая дата есть в нашем календаре, и `False` иначе. Проверить, что функция возвращает `False` на -1 января, 31 труляля, 29 февраля 2021 года, и `True` на настоящие числа (например 29 февраля 2020 года)."
   ]
  },
  {
   "cell_type": "code",
   "execution_count": null,
   "metadata": {},
   "outputs": [],
   "source": []
  },
  {
   "cell_type": "code",
   "execution_count": null,
   "metadata": {},
   "outputs": [],
   "source": []
  },
  {
   "cell_type": "markdown",
   "metadata": {},
   "source": [
    "### Домашнее задание 4"
   ]
  },
  {
   "cell_type": "markdown",
   "metadata": {},
   "source": [
    "Задача: написать функцию `is_prime`, принимающую 1 аргумент — число от 0 до 1000, и возвращающую `True`, если оно простое, и `False` - иначе."
   ]
  },
  {
   "cell_type": "code",
   "execution_count": null,
   "metadata": {},
   "outputs": [],
   "source": []
  },
  {
   "cell_type": "markdown",
   "metadata": {},
   "source": [
    "Задача: Оформить игру в угадывание числа в виде функции `user_turn`, которая принимает два аргумента: максимальное число, которое разрешается загадывать, и максимальное количество очков, какое можно получить если пользователь угадывает число с первого раза.\n",
    "\n",
    "Подсчет очков: за каждую неудачную попытку отнимать одно очко.\n",
    "\n",
    "Написать функцию `computer_turn` для хода компьютера, когда он угадывает число, загаданное пользователем.\n",
    "\n",
    "Обе функции должны возвращать количество очков, полученное в текущем раунде (не должно быть меньше 0). Суммировать очки в переменных `user_score` и `computer_score`. Сделать игру на 5 раундов, после каждого раунда печатать текущий счет."
   ]
  },
  {
   "cell_type": "code",
   "execution_count": null,
   "metadata": {},
   "outputs": [],
   "source": []
  },
  {
   "cell_type": "markdown",
   "metadata": {},
   "source": [
    "Задача: одна из нерешенных проблем современной математики -- это гипотеза Коллатца:\n",
    "\n",
    "Возьмем любое натуральное число. Если оно четное, то поделим его пополам. Если нечетное, то умножим на 3 и прибавим 1. С полученным числом поступим по тем же правилам. В итоге мы получаем последовательность чисел. Оказывается, что какое число ни возьми, в конце концов последовательность окончится повторяющимися числами 4, 2, 1, 4, 2, 1... Гипотеза Коллатца состоит в том, что это выполняется для всех натуральных чисел. На сегодняшний день гипотеза Коллатца экспериментально проверена для чисел < ~$2^{60}$, но строгого математического доказательства, что это верно (или не верно) для всех чисел, пока не существует.\n",
    "\n",
    "Создать функцию, которая проверяет гипотезу Коллатца для данного числа. Функция должна возвращать длину последовательности до момента, когда в ней первый раз встречается 1, и максимальное число в последовательности. Задать опциональный аргумент verbose=False. Если verbose=True, то распечатать последовательность до первой единицы. Проверить гипотезу Коллатца для чисел < $10^3$.\n",
    "\n",
    "Дополнительно: Графики в питоне можно строить так:\n",
    "\n",
    "    import matplotlib.pyplo as plt\n",
    "    x = [1, 2, 3, 4, 5]\n",
    "    y = [5, 3, 1, 3, 5]\n",
    "    plt.plot(x, y)\n",
    "\n",
    "Или даже просто\n",
    "\n",
    "    plt.plot(y)\n",
    "    \n",
    "Встроить в нашу функцию опциональную возможность строить график всех пройденных последовательностью Коллатца значений по порядку до первой единицы."
   ]
  },
  {
   "cell_type": "code",
   "execution_count": null,
   "metadata": {},
   "outputs": [],
   "source": []
  },
  {
   "cell_type": "markdown",
   "metadata": {},
   "source": [
    "Задача: фруктовый ларек. Есть два словаря:\n",
    "\n",
    "    stock = { # Количество фруктов в наличии (кг)\n",
    "        \"banana\": 6,\n",
    "        \"apple\": 0,\n",
    "        \"orange\": 32,\n",
    "        \"pear\": 15\n",
    "    }\n",
    "\n",
    "    prices = { # цена за кг\n",
    "        \"banana\": 4,\n",
    "        \"apple\": 2,\n",
    "        \"orange\": 1.5,\n",
    "        \"pear\": 3\n",
    "    }\n",
    "    \n",
    "Определить функцию compute_bill, которая принимает словарь, в котором расписаны пожелания клиента:\n",
    "\n",
    "    client_wants = {\n",
    "        \"banana\": 0,\n",
    "        \"apple\" : 0.5,\n",
    "        \"orange\": 1,\n",
    "        \"pear\"  : 100\n",
    "    }\n",
    "\n",
    "Функция расчитывает стоимость корзины, если заявленные продукты есть в необходимом количестве, и отнимает нужное количество продуктов из store.\n",
    "\n",
    "Вопрос на размышление: В чем недостаток такой программы?"
   ]
  },
  {
   "cell_type": "code",
   "execution_count": null,
   "metadata": {},
   "outputs": [],
   "source": []
  },
  {
   "cell_type": "markdown",
   "metadata": {},
   "source": [
    "## lambda-выражения"
   ]
  },
  {
   "cell_type": "markdown",
   "metadata": {},
   "source": [
    "Иногда нужны очень маленькие функции, умещающиеся на одну строку кода и используемые один раз. Тогда используются `lambda`-выражения.\n",
    "\n",
    "`lambda` можно использовать, как обычные функции:\n",
    "\n",
    "    f = lambda x: x**2\n",
    "    \n",
    "эквивалентно\n",
    "\n",
    "    def f(x):\n",
    "        return x**2\n",
    "        \n",
    "Однако второй способ предпочтительный. `lambda` используются без имени. Если функции нужно имя, лучше определить его через `def`. Здесь мы используем это просто для иллюстрации.\n",
    "        \n",
    "Как и обычные функции, `lambda` может принимать несколько аргументов:\n",
    "\n",
    "    s = lambda a, b: a+b\n",
    "    print(s(3, 5))"
   ]
  },
  {
   "cell_type": "code",
   "execution_count": null,
   "metadata": {},
   "outputs": [],
   "source": []
  },
  {
   "cell_type": "markdown",
   "metadata": {},
   "source": [
    "Интереснее всего использовать `lambda`, как возвращаемое значение другой функции:\n",
    "\n",
    "    def myfunc(n):\n",
    "        return lambda a : a * n\n",
    "    mydoubler = myfunc(2)\n",
    "    print(mydoubler(11))\n",
    "    mytripler = myfunc(3)\n",
    "    print(mytripler(11))"
   ]
  },
  {
   "cell_type": "code",
   "execution_count": null,
   "metadata": {},
   "outputs": [],
   "source": []
  },
  {
   "cell_type": "markdown",
   "metadata": {},
   "source": [
    "Чаще всего `lambda` используется, как безымянная функция, необходимая только на короткое время.\n",
    "\n",
    "    (lambda x: x + 1)(2)"
   ]
  },
  {
   "cell_type": "code",
   "execution_count": null,
   "metadata": {},
   "outputs": [],
   "source": []
  },
  {
   "cell_type": "markdown",
   "metadata": {},
   "source": [
    "Задача: написать функцию, возвращающую lambda, которая будет повторять данную строку n раз."
   ]
  },
  {
   "cell_type": "code",
   "execution_count": null,
   "metadata": {},
   "outputs": [],
   "source": []
  },
  {
   "cell_type": "markdown",
   "metadata": {},
   "source": [
    "Задача: есть игра, называется 'Fizz-Buzz'. Дети встают в круг и по очереди считают: один, два... Каждое число, которое делится на 3 заменяют восклицанием Fizz. Каждое число, которое делится на 5 заменяют на Buzz. Числа, которые делятся и на 3 и на 5 заменяются на FizzBuzz. \n",
    "\n",
    "Написать программу, которая заменяет числа по данному правилу от 1 до 100. Постараться по-максимуму сделать код \"сухим\". Принцип \"DRY\" -- don't repeat yourself -- является одним из главных принципов хорошего кода: нельзя повторять одни и те же выражения несколько раз."
   ]
  },
  {
   "cell_type": "code",
   "execution_count": null,
   "metadata": {},
   "outputs": [],
   "source": []
  },
  {
   "cell_type": "markdown",
   "metadata": {},
   "source": [
    "Что будет, если в предыдущей задаче количество условий увеличится? Скажем, если условия {делитель: замена} заданы в словаре:\n",
    "\n",
    "    FizzBuzz = {3: 'Fizz',\n",
    "                5: 'Buzz',\n",
    "                7: 'Zoom',\n",
    "                4: 'Boom'}"
   ]
  },
  {
   "cell_type": "code",
   "execution_count": null,
   "metadata": {},
   "outputs": [],
   "source": []
  }
 ],
 "metadata": {
  "colab": {
   "collapsed_sections": [],
   "name": "PythonBasics1 Борис.ipynb",
   "provenance": [],
   "toc_visible": true
  },
  "kernelspec": {
   "display_name": "Python 3",
   "language": "python",
   "name": "python3"
  },
  "language_info": {
   "codemirror_mode": {
    "name": "ipython",
    "version": 3
   },
   "file_extension": ".py",
   "mimetype": "text/x-python",
   "name": "python",
   "nbconvert_exporter": "python",
   "pygments_lexer": "ipython3",
   "version": "3.8.5"
  }
 },
 "nbformat": 4,
 "nbformat_minor": 1
}
