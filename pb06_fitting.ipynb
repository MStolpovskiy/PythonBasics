{
 "cells": [
  {
   "cell_type": "markdown",
   "metadata": {},
   "source": [
    "# Введение в машинное обучение\n",
    "\n",
    "Сперва без машинного обучения\n",
    "\n",
    "Машинное обучение -- это подбор модели, которая описывает данные и способна предсказать поведение будущих данных. В простейшем случае это фитирование функции. Фитирование функции -- это подбор такой функции, которая описывает одномерные данные. То есть имеется одномерный массив `x`, каждому элементу которого поставлено в соответствие одно число из массива `y`. Этим и займемся."
   ]
  },
  {
   "cell_type": "code",
   "execution_count": 1,
   "metadata": {},
   "outputs": [],
   "source": [
    "import numpy as np\n",
    "import matplotlib.pyplot as mp"
   ]
  },
  {
   "cell_type": "markdown",
   "metadata": {},
   "source": [
    "Смоделируем некие абстрактные данные с линейной зависимостью\n",
    "\n",
    "x - в каких точках производились измерения\n",
    "\n",
    "y - значения измерений"
   ]
  },
  {
   "cell_type": "code",
   "execution_count": 2,
   "metadata": {},
   "outputs": [],
   "source": [
    "n = 10\n",
    "x = np.random.randint(0, 100, n)\n",
    "def linear_fun(x, p):\n",
    "    return p * x\n",
    "y = linear_fun(x, 2.)\n",
    "y += np.random.normal(0., 10., n)"
   ]
  },
  {
   "cell_type": "markdown",
   "metadata": {},
   "source": [
    "Покажем наши данные на графике, а также проведем прямую, согласно которой мы ранее смоделировали данные."
   ]
  },
  {
   "cell_type": "code",
   "execution_count": 3,
   "metadata": {},
   "outputs": [
    {
     "data": {
      "image/png": "[encoded data removed]",
      "text/plain": [
       "<Figure size 432x288 with 1 Axes>"
      ]
     },
     "metadata": {
      "needs_background": "light"
     },
     "output_type": "display_data"
    }
   ],
   "source": [
    "mp.scatter(x, y)\n",
    "mp.xlabel('x')\n",
    "mp.ylabel('y')\n",
    "mp.plot([x.min(), x.max()], \n",
    "        linear_fun(np.array([x.min(), x.max()]), 2.))\n",
    "mp.show()"
   ]
  },
  {
   "cell_type": "markdown",
   "metadata": {},
   "source": [
    "Зададим функционал потерь\n",
    "\n",
    "Функционал потерь для каждой функции $f(x, p)$ возвращает число, которое соответствует качеству, с которым функция описывает данные. Чаще других используется квадратичный функционал потерь (или еще квадратичная ошибка):\n",
    "\n",
    "$L = \\sum_i (f(x_i, p) - y_i)^2$\n",
    "\n",
    "где суммирование производится по всем точкам $(x_i, y_i)$."
   ]
  },
  {
   "cell_type": "code",
   "execution_count": 4,
   "metadata": {},
   "outputs": [],
   "source": [
    "def loss(f, x, y, p):\n",
    "    return ((f(x, p) - y)**2).sum()"
   ]
  },
  {
   "cell_type": "markdown",
   "metadata": {},
   "source": [
    "В формуле для $L$ находится разница $f(x_i, p) - y_i$. Покажем ее на графике:"
   ]
  },
  {
   "cell_type": "code",
   "execution_count": 5,
   "metadata": {},
   "outputs": [
    {
     "data": {
      "image/png": "[encoded data removed]",
      "text/plain": [
       "<Figure size 432x288 with 1 Axes>"
      ]
     },
     "metadata": {
      "needs_background": "light"
     },
     "output_type": "display_data"
    }
   ],
   "source": [
    "mp.scatter(x, y)\n",
    "mp.xlabel('x')\n",
    "mp.ylabel('y')\n",
    "mp.plot([x.min(), x.max()], \n",
    "        linear_fun(np.array([x.min(), x.max()]), 2.))\n",
    "for x_el, y_el in zip(x, y):\n",
    "    mp.plot([x_el, x_el], [linear_fun(x_el, 2.), y_el], 'r')\n",
    "mp.show()"
   ]
  },
  {
   "cell_type": "markdown",
   "metadata": {},
   "source": [
    "Функционал потерь равен сумме квадратов длин красных отрезков.\n",
    "\n",
    "Зачем нужно возведение в квадрат? Какие альтернативы возведению в квадрат приходят на ум?"
   ]
  },
  {
   "cell_type": "markdown",
   "metadata": {},
   "source": [
    "Можно попробовать руками, какие значения принимает `loss` при различных значениях параметра `p`. \n",
    "\n",
    "- При каком значении `p` получается минимум?\n",
    "- Почему это значение не равно 2?\n",
    "- Почему минимальное значение потерь не равно нулю?\n",
    "- От чего зависит минимальное значение функционала потерь?\n",
    "- Может ли у нашего функционала потерь быть два (или больше) минимума?\n",
    "- Есть ли у функционала потерь "
   ]
  },
  {
   "cell_type": "code",
   "execution_count": 6,
   "metadata": {},
   "outputs": [
    {
     "data": {
      "text/plain": [
       "713.5212673946578"
      ]
     },
     "execution_count": 6,
     "metadata": {},
     "output_type": "execute_result"
    }
   ],
   "source": [
    "loss(linear_fun, x, y, 1.97)"
   ]
  },
  {
   "cell_type": "markdown",
   "metadata": {},
   "source": [
    "Получается, что нам нужно найти такое значение $p$, при котором функционал потерь $L$ имеет минимальное значение. Заметим, что при данном конкретном виде функции $f$ функционал превращается просто в функцию от единственного аргумента $p$. А из высшей математики мы знаем, что минимум функции там, где ее производная равна нулю.\n",
    "\n",
    "Если мы знаем вид функции $f$, то производная находится аналитически. Иначе пришлось бы искать ее численно. Это тоже возможно, но нам сейчас это не так интересно.\n",
    "\n",
    "В нашем случае\n",
    "\n",
    "$\\frac{dL}{dp} = \\sum_i 2 (f(x_i, p) - y_i) \\frac{df(x_i, p)}{dp}$\n",
    "\n",
    "$f(x, p) = px$\n",
    "\n",
    "$\\frac{df(x_i, p)}{dp} = x_i$\n",
    "\n",
    "$\\frac{dL}{dp} = \\sum_i 2 (x_i p - y_i) x_i$"
   ]
  },
  {
   "cell_type": "code",
   "execution_count": 7,
   "metadata": {},
   "outputs": [],
   "source": [
    "def grad(x, y, p):\n",
    "    return 2 * ((x * p - y) * x).sum()"
   ]
  },
  {
   "cell_type": "markdown",
   "metadata": {},
   "source": [
    "Попробовать поискать руками ноль градиента.\n",
    "\n",
    "- Какой знак имеет значение градиента слева от минимума $L$? Скажем, в точке 1.\n",
    "- Какой знак имеет значение градиента справа от минимума $L$? Скажем, в точке 3.\n",
    "- О чем это говорит?"
   ]
  },
  {
   "cell_type": "markdown",
   "metadata": {},
   "source": [
    "Как уже было сказано, необходимым условием минимума функции является равенство нулю ее производной:\n",
    "\n",
    "$\\frac{dL}{dp} = \\sum_i 2 (x_i p - y_i) x_i = 0$\n",
    "\n",
    "Решая полученное уравнение относительно $p$ получаем\n",
    "\n",
    "$2 p \\sum_i x_i^2 - 2 \\sum_i x_i y_i = 0$\n",
    "\n",
    "$p = \\frac{\\sum_i x_i y_i}{\\sum x_i^2}$"
   ]
  },
  {
   "cell_type": "code",
   "execution_count": 8,
   "metadata": {},
   "outputs": [],
   "source": [
    "def fit(x, y):\n",
    "    '''\n",
    "    Returns the value of p that fits best the\n",
    "    linear dependence of y on x in the form of\n",
    "    y = x * p\n",
    "    '''\n",
    "    return (x * y).sum() / (x**2).sum()"
   ]
  },
  {
   "cell_type": "code",
   "execution_count": 9,
   "metadata": {},
   "outputs": [
    {
     "data": {
      "text/plain": [
       "1.9693484837865598"
      ]
     },
     "execution_count": 9,
     "metadata": {},
     "output_type": "execute_result"
    }
   ],
   "source": [
    "fit(x, y)"
   ]
  },
  {
   "cell_type": "code",
   "execution_count": 10,
   "metadata": {},
   "outputs": [
    {
     "data": {
      "image/png": "[encoded data removed]",
      "text/plain": [
       "<Figure size 432x288 with 1 Axes>"
      ]
     },
     "metadata": {
      "needs_background": "light"
     },
     "output_type": "display_data"
    }
   ],
   "source": [
    "mp.scatter(x, y)\n",
    "mp.xlabel('x')\n",
    "mp.ylabel('y')\n",
    "mp.plot([x.min(), x.max()], \n",
    "        linear_fun(np.array([x.min(), x.max()]), 2.), label='True function')\n",
    "mp.plot([x.min(), x.max()], \n",
    "        linear_fun(np.array([x.min(), x.max()]), fit(x, y)), label='Fitted function')\n",
    "mp.legend()\n",
    "mp.show()"
   ]
  },
  {
   "cell_type": "markdown",
   "metadata": {},
   "source": [
    "Заметим, что для данной задачи нам удалось получить _аналитическое_ решение, не прибегая к численным методам. Это удается далеко не всегда."
   ]
  },
  {
   "cell_type": "markdown",
   "metadata": {},
   "source": [
    "Задача: написать функцию `fit`, которая бы фитировала линейную зависимость между двумя переменными в общем виде. То есть\n",
    "\n",
    "$f = p_0 + p_1 x$\n",
    "\n",
    "Для этого требуется вычислить градиент функии $L(p_0, p_1)$. Градиент -- это та же производная, только адаптированная для многомерных функций. Это уже не число, а вектор, в нашем случае длиной 2. По определению\n",
    "\n",
    "$$grad L = \\nabla L = \\left \\{ \\frac{\\partial L}{\\partial p_0}, \\frac{\\partial L}{\\partial p_1} \\right \\}$$\n",
    "\n",
    "$$L = \\sum_i (f(x_i, p_0, p_1) - y_i)^2 = \\sum_i (p_0 + p_1  x_i - y_i)^2$$\n",
    "\n",
    "$$\\frac{\\partial L}{\\partial p_0} = \\sum_i 2 (p_0 + p_1  x_i - y_i)$$\n",
    "\n",
    "$$\\frac{\\partial L}{\\partial p_1} = \\sum_i 2 (p_0 + p_1  x_i - y_i) x_i$$\n",
    "\n",
    "$$\\nabla L = \\left \\{ \\sum_i 2 (p_0 + p_1  x_i - y_i), \\sum_i 2 (p_0 + p_1  x_i - y_i) x_i \\right \\}$$\n",
    "\n",
    "Необходимым условием минимума двумерной функции $L$ является равенство нулю обеих компонент градиента. То есть мы получили систему из двух линейных уравнений относительно $p_0$ и $p_1$. Ее надо решить и решение записать в функцию `fit`."
   ]
  },
  {
   "cell_type": "code",
   "execution_count": 35,
   "metadata": {},
   "outputs": [],
   "source": [
    "def fit(x, y):\n",
    "    '''\n",
    "    Returns the values p0 and p1 that fit best the\n",
    "    linear dependence of y on x in the form of\n",
    "    y = p0 + x * p1\n",
    "    '''\n",
    "    # Here is your code\n",
    "    p0 = None\n",
    "    p1 = None\n",
    "    return p0, p1"
   ]
  },
  {
   "cell_type": "markdown",
   "metadata": {},
   "source": [
    "Смоделировать данные и проверить работоспособность `fit`.\n",
    "\n",
    "Предлагается взять те же точки $(x, y)$, только сместить их вверх, скажем, на 100:\n",
    "\n",
    "    mp.scatter(x, y + 100)\n",
    "    p0, p1 = fit(x, y + 100)\n",
    "\n",
    "В итоге мы получим значение $p_0$ близким к 100, и значение $p_1$ близким к 2. Равно ли новое значение наклона прямой найденному ранее? Почему?"
   ]
  },
  {
   "cell_type": "code",
   "execution_count": null,
   "metadata": {},
   "outputs": [],
   "source": []
  }
 ],
 "metadata": {
  "kernelspec": {
   "display_name": "Python 3",
   "language": "python",
   "name": "python3"
  },
  "language_info": {
   "codemirror_mode": {
    "name": "ipython",
    "version": 3
   },
   "file_extension": ".py",
   "mimetype": "text/x-python",
   "name": "python",
   "nbconvert_exporter": "python",
   "pygments_lexer": "ipython3",
   "version": "3.8.5"
  }
 },
 "nbformat": 4,
 "nbformat_minor": 2
}
