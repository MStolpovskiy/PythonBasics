{
 "cells": [
  {
   "cell_type": "markdown",
   "metadata": {
    "colab_type": "text",
    "id": "NtFM0sYFVEbk"
   },
   "source": [
    "# Программирование Python, основы\n",
    "план уроков.\n",
    "\n",
    "--- объявление переменных, строки, if, while, массивы, циклы, функции ---\n",
    "\n",
    "- Почему Python? https://www.infoworld.com/article/3401536/python-popularity-reaches-an-all-time-high.html\n",
    "\n",
    "- Если нет желания прямо сейчас заниматься установкой Python на компьютере, можно воспользоваться сервисом http://colab.research.google.com \n",
    "\n",
    "- (опционально) Установка anaconda python \n",
    "    \n",
    "    Подробная инструкция для Windows: https://problemsolvingwithpython.com/01-Orientation/01.03-Installing-Anaconda-on-Windows/\n",
    "\n",
    "    Для тех, кому не нужна инструкция (любая платформа): https://www.anaconda.com/distribution/\n",
    "\n",
    "- (опционально) Anaconda console доступна из меню Пуск на windows. На mac или linux из терминала доступны команды python и ipython (последняя удобнее для интерактивной работы)\n",
    "\n",
    "- (опционально) Установка jupyter : https://problemsolvingwithpython.com/02-Jupyter-Notebooks/02.03-Installing-Juypter/\n",
    "\n",
    "- Написать программу Hello World"
   ]
  },
  {
   "cell_type": "code",
   "execution_count": 8,
   "metadata": {
    "colab": {},
    "colab_type": "code",
    "id": "7sC2uIBoVl7S"
   },
   "outputs": [
    {
     "name": "stdout",
     "output_type": "stream",
     "text": [
      "Hello World!\n"
     ]
    }
   ],
   "source": [
    "print(\"Hello World!\")"
   ]
  },
  {
   "cell_type": "markdown",
   "metadata": {
    "colab_type": "text",
    "id": "FAVlokgEVnla"
   },
   "source": [
    "- (Если установили python на компьютере) Проверить предустановленные пакеты:\n",
    "\n",
    "        import numpy\n",
    "        import math\n",
    "        import matplotlib.pyplot\n",
    "        import pandas\n",
    "\n",
    "- Если не установлены -- установить (погуглить, как использовать `pip`)\n",
    "\n",
    "- Напечатать \"Здравствуй, Мир\" -- или другое сообщение кириллицей.\n"
   ]
  },
  {
   "cell_type": "code",
   "execution_count": 12,
   "metadata": {
    "colab": {},
    "colab_type": "code",
    "id": "DD6AciZBWA59"
   },
   "outputs": [
    {
     "name": "stdout",
     "output_type": "stream",
     "text": [
      "Здравствуй, Мир!\n"
     ]
    }
   ],
   "source": [
    "print('Здравствуй, Мир!')"
   ]
  },
  {
   "cell_type": "markdown",
   "metadata": {
    "colab_type": "text",
    "id": "as5-AvaEWBn8"
   },
   "source": [
    "- (Если установили python на компьютере) Запустить hello_world.py из консоли (понимание разницы между notebook и консолью)\n",
    "\n",
    "Создать файл `hello_world.py`\n",
    "\n",
    "Запустить из `anaconda console` : `python hello_world.py`\n",
    "\n",
    "Попробовать запустить `ipython`\n",
    "\n",
    "Из `ipython` запустить тот же код\n",
    "\n",
    "- Использование правильного стиля написания кода: исправить стиль кода:\n",
    "        def printComplexNumber(realpartofcomplexnumber = 0,imagpartofcomplexnumber= 0 ) :\n",
    "            R=   realpartofcomplexnumber\n",
    "            I=imagpartofcomplexnumber\n",
    "            return \"({} + {}i)\" . format(R, I )\n",
    "        Longvariablename=printComplexNumber(3.0,-4.5)\n",
    "        print( Longvariablename)\n",
    "\n",
    "Правила хорошего стиля в питоне (неполный список):\n",
    "\n",
    "  - Действия `=`, `+`, `-` и прочие окружаются пробелами\n",
    "  - Переменные и функции называются с маленькой буквы, длинные имена разбиваются символом _\n",
    "  - Из имени переменной или функции должно быть примерно понятно, зачем она нужна\n",
    "  - Определение функции (в нашем примере это от слова `def` и три строчки ниже) отделяется от остального кода пустыми строками\n",
    "  - Блок команд `import` отделяется пустой строкой (что такое `import` -- ниже)\n",
    "  - Логически отдельные части кода отделяются пустой строкой\n",
    "  - Коментарий начинается за символом `#`. Все неочевидные места кода должны быть откомментированы.\n",
    "  - После запятой - пробел.\n",
    "  - Около скобок пробелы не нужны. Т.е. `(x)` -- правильно. `( x )` -- неправильно.\n",
    "  - Оператор точка не выделяется пробелами. Операторы `**` и `%` тоже.\n",
    "  - Длинные строки нужно разбивать. После запятой можно смело переносить на новую строку. При этом нужно сделать выравнивание, чтобы визуально объединить строки. Если запятой нет, можно воспользоваться командой перехода на новую строку `\\`"
   ]
  },
  {
   "cell_type": "code",
   "execution_count": 14,
   "metadata": {
    "colab": {
     "base_uri": "https://localhost:8080/",
     "height": 34
    },
    "colab_type": "code",
    "id": "X1SaTzpbWYdT",
    "outputId": "8be87761-e50d-46ca-ac5c-074211f64b3a"
   },
   "outputs": [
    {
     "name": "stdout",
     "output_type": "stream",
     "text": [
      "(3.0 + -4.5i)\n"
     ]
    }
   ],
   "source": [
    "def print_complex_number(real=0, imag=0):\n",
    "    R = real\n",
    "    I = imag\n",
    "    return \"({} + {}i)\".format(R, I)\n",
    "long_variable_name = print_complex_number(3.0, -4.5)\n",
    "print(long_variable_name)"
   ]
  },
  {
   "cell_type": "markdown",
   "metadata": {
    "colab_type": "text",
    "id": "5lKYWnZbWYwv"
   },
   "source": [
    "## Использование Python как продвинутый калькулятор\n",
    "\n",
    "- Упражнения на простые вычисления:\n",
    "\n",
    "Объявить переменную $x = (1+\\sqrt{5})/2$\n",
    "\n",
    "Вычислить $x^2-x$\n",
    "\n",
    "Объявить z = i (мнимая единица). Посчитать z^2\n",
    "\n",
    "Чему равняется $2^{1000}$ ?"
   ]
  },
  {
   "cell_type": "code",
   "execution_count": 26,
   "metadata": {
    "colab": {},
    "colab_type": "code",
    "id": "F5GV3EO-WcCx"
   },
   "outputs": [
    {
     "data": {
      "text/plain": [
       "1.4137277558914776"
      ]
     },
     "execution_count": 26,
     "metadata": {},
     "output_type": "execute_result"
    }
   ],
   "source": [
    "x = (1 + 5**0.5) / 2\n",
    "x**2 - x"
   ]
  },
  {
   "cell_type": "code",
   "execution_count": 33,
   "metadata": {},
   "outputs": [
    {
     "data": {
      "text/plain": [
       "19950631168807583848837421626835850838234968318861924548520089498529438830221946631919961684036194597899331129423209124271556491349413781117593785932096323957855730046793794526765246551266059895520550086918193311542508608460618104685509074866089624888090489894838009253941633257850621568309473902556912388065225096643874441046759871626985453222868538161694315775629640762836880760732228535091641476183956381458969463899410840960536267821064621427333394036525565649530603142680234969400335934316651459297773279665775606172582031407994198179607378245683762280037302885487251900834464581454650557929601414833921615734588139257095379769119277800826957735674444123062018757836325502728323789270710373802866393031428133241401624195671690574061419654342324638801248856147305207431992259611796250130992860241708340807605932320161268492288496255841312844061536738951487114256315111089745514203313820202931640957596464756010405845841566072044962867016515061920631004186422275908670900574606417856951911456055068251250406007519842261898059237118054444788072906395242548339221982707404473162376760846613033778706039803413197133493654622700563169937455508241780972810983291314403571877524768509857276937926433221599399876886660808368837838027643282775172273657572744784112294389733810861607423253291974813120197604178281965697475898164531258434135959862784130128185406283476649088690521047580882615823961985770122407044330583075869039319604603404973156583208672105913300903752823415539745394397715257455290510212310947321610753474825740775273986348298498340756937955646638621874569499279016572103701364433135817214311791398222983845847334440270964182851005072927748364550578634501100852987812389473928699540834346158807043959118985815145779177143619698728131459483783202081474982171858011389071228250905826817436220577475921417653715687725614904582904992461028630081535583308130101987675856234343538955409175623400844887526162643568648833519463720377293240094456246923254350400678027273837755376406726898636241037491410966718557050759098100246789880178271925953381282421954028302759408448955014676668389697996886241636313376393903373455801407636741877711055384225739499110186468219696581651485130494222369947714763069155468217682876200362777257723781365331611196811280792669481887201298643660768551639860534602297871557517947385246369446923087894265948217008051120322365496288169035739121368338393591756418733850510970271613915439590991598154654417336311656936031122249937969999226781732358023111862644575299135758175008199839236284615249881088960232244362173771618086357015468484058622329792853875623486556440536962622018963571028812361567512543338303270029097668650568557157505516727518899194129711337690149916181315171544007728650573189557450920330185304847113818315407324053319038462084036421763703911550639789000742853672196280903477974533320468368795868580237952218629120080742819551317948157624448298518461509704888027274721574688131594750409732115080498190455803416826949787141316063210686391511681774304792596709376"
      ]
     },
     "execution_count": 33,
     "metadata": {},
     "output_type": "execute_result"
    }
   ],
   "source": [
    "2**10000"
   ]
  },
  {
   "cell_type": "markdown",
   "metadata": {
    "colab_type": "text",
    "id": "oR1KP1HhWcbV"
   },
   "source": [
    "## Типы данных в Python, арифметические действия\n",
    "\n",
    "- Нестрогая типизация в Python. Типы:\n",
    "        integer\n",
    "        float\n",
    "        string\n",
    "\n",
    "Попробовать поделить 3 на 2\n",
    "\n",
    "-- поделить 3 на 0\n",
    "\n",
    "-- сложить строки\n",
    "\n",
    "-- сложить две переменных разных типов\n",
    "\n",
    "-- умножить строку на число\n",
    "\n",
    "-- число на строку\n",
    "\n",
    "-- вычесть число из строки\n",
    "\n",
    "-- Напечатать \"---...---\" 10 раз, ни разу не напечатав \"---...---\" в коде"
   ]
  },
  {
   "cell_type": "code",
   "execution_count": 2,
   "metadata": {
    "colab": {
     "base_uri": "https://localhost:8080/",
     "height": 80
    },
    "colab_type": "code",
    "id": "e8-_yxs8W4P_",
    "outputId": "ad5d0558-5837-42d8-cc65-5e1876cbf07d"
   },
   "outputs": [],
   "source": [
    "x = 3\n",
    "y = 2\n",
    "z = int(x / y)"
   ]
  },
  {
   "cell_type": "code",
   "execution_count": 3,
   "metadata": {},
   "outputs": [
    {
     "name": "stdout",
     "output_type": "stream",
     "text": [
      "1\n"
     ]
    }
   ],
   "source": [
    "print(z)"
   ]
  },
  {
   "cell_type": "code",
   "execution_count": 4,
   "metadata": {
    "colab": {},
    "colab_type": "code",
    "id": "l_cenv8pW4ul"
   },
   "outputs": [
    {
     "name": "stdout",
     "output_type": "stream",
     "text": [
      "Hello World!\n"
     ]
    }
   ],
   "source": [
    "x = 'Hello'\n",
    "y = ' World!'\n",
    "z = x + y\n",
    "print(z)"
   ]
  },
  {
   "cell_type": "code",
   "execution_count": 54,
   "metadata": {},
   "outputs": [
    {
     "ename": "TypeError",
     "evalue": "unsupported operand type(s) for /: 'str' and 'int'",
     "output_type": "error",
     "traceback": [
      "\u001b[0;31m---------------------------------------------------------------------------\u001b[0m",
      "\u001b[0;31mTypeError\u001b[0m                                 Traceback (most recent call last)",
      "\u001b[0;32m<ipython-input-54-51801f854c23>\u001b[0m in \u001b[0;36m<module>\u001b[0;34m\u001b[0m\n\u001b[1;32m      1\u001b[0m \u001b[0mx\u001b[0m \u001b[0;34m=\u001b[0m \u001b[0;36m2\u001b[0m\u001b[0;34m\u001b[0m\u001b[0;34m\u001b[0m\u001b[0m\n\u001b[1;32m      2\u001b[0m \u001b[0my\u001b[0m \u001b[0;34m=\u001b[0m \u001b[0;34m'World!'\u001b[0m\u001b[0;34m\u001b[0m\u001b[0;34m\u001b[0m\u001b[0m\n\u001b[0;32m----> 3\u001b[0;31m \u001b[0mz\u001b[0m \u001b[0;34m=\u001b[0m \u001b[0my\u001b[0m \u001b[0;34m/\u001b[0m \u001b[0mx\u001b[0m\u001b[0;34m\u001b[0m\u001b[0;34m\u001b[0m\u001b[0m\n\u001b[0m\u001b[1;32m      4\u001b[0m \u001b[0mprint\u001b[0m\u001b[0;34m(\u001b[0m\u001b[0mz\u001b[0m\u001b[0;34m)\u001b[0m\u001b[0;34m\u001b[0m\u001b[0;34m\u001b[0m\u001b[0m\n",
      "\u001b[0;31mTypeError\u001b[0m: unsupported operand type(s) for /: 'str' and 'int'"
     ]
    }
   ],
   "source": [
    "x = 2\n",
    "y = 'World!'\n",
    "z = y / x\n",
    "print(z)"
   ]
  },
  {
   "cell_type": "code",
   "execution_count": 5,
   "metadata": {},
   "outputs": [
    {
     "name": "stdout",
     "output_type": "stream",
     "text": [
      "---...--- ---...--- ---...--- ---...--- ---...--- ---...--- ---...--- ---...--- ---...--- ---...--- \n"
     ]
    }
   ],
   "source": [
    "print(('-' * 3 + '.' * 3 + '-' * 3 + ' ') * 10)"
   ]
  },
  {
   "cell_type": "code",
   "execution_count": null,
   "metadata": {},
   "outputs": [],
   "source": []
  },
  {
   "cell_type": "code",
   "execution_count": null,
   "metadata": {},
   "outputs": [],
   "source": []
  },
  {
   "cell_type": "code",
   "execution_count": null,
   "metadata": {
    "colab": {},
    "colab_type": "code",
    "id": "Z61xuHQAW4-C"
   },
   "outputs": [],
   "source": []
  },
  {
   "cell_type": "markdown",
   "metadata": {
    "colab_type": "text",
    "id": "msFy3_1OW5je"
   },
   "source": [
    "- Сокращенные арифметические действия += и т.д."
   ]
  },
  {
   "cell_type": "code",
   "execution_count": 16,
   "metadata": {
    "colab": {
     "base_uri": "https://localhost:8080/",
     "height": 116
    },
    "colab_type": "code",
    "id": "JdKcpgSEW8EE",
    "outputId": "64c19892-faee-4665-fa07-1d9ea69e47d2"
   },
   "outputs": [],
   "source": [
    "var = 5\n",
    "var += 1 # var = var + 1\n",
    "var *= 2\n",
    "var -= 1\n",
    "var /= 2"
   ]
  },
  {
   "cell_type": "code",
   "execution_count": 17,
   "metadata": {},
   "outputs": [
    {
     "name": "stdout",
     "output_type": "stream",
     "text": [
      "5.5\n"
     ]
    }
   ],
   "source": [
    "print(var)"
   ]
  },
  {
   "cell_type": "markdown",
   "metadata": {
    "colab_type": "text",
    "id": "83o2_-I0W8cH"
   },
   "source": [
    "- Приведение типов:\n",
    "\n",
    "    - Привести к string: `str(5)`\n",
    "    - Привести к целочисленному типу `int('5')`\n",
    "    - Привести к дробному типу `float(5)`"
   ]
  },
  {
   "cell_type": "code",
   "execution_count": 29,
   "metadata": {
    "colab": {
     "base_uri": "https://localhost:8080/",
     "height": 116
    },
    "colab_type": "code",
    "id": "iVPpGL8oW-94",
    "outputId": "5179dfc3-970f-444c-8274-34e97024b038"
   },
   "outputs": [
    {
     "name": "stdout",
     "output_type": "stream",
     "text": [
      "5.5\n"
     ]
    },
    {
     "data": {
      "text/plain": [
       "5"
      ]
     },
     "execution_count": 29,
     "metadata": {},
     "output_type": "execute_result"
    }
   ],
   "source": [
    "str_var = str(var) # string\n",
    "flt_var = float(str_var) # float\n",
    "print(flt_var)\n",
    "int_var = int(flt_var) # integer\n",
    "int_var"
   ]
  },
  {
   "cell_type": "markdown",
   "metadata": {
    "colab_type": "text",
    "id": "Rh2arBEhW_Lr"
   },
   "source": [
    "- Операторы `**`, `%`, `//`\n",
    "    - `**` -- возведение в степень: `2**3` будет `8`\n",
    "    - `%` -- взять остаток от деления: `123%2` будет `1`\n",
    "    - `//` -- целочисленное деление: `13//2` будет `6`"
   ]
  },
  {
   "cell_type": "code",
   "execution_count": 36,
   "metadata": {
    "colab": {
     "base_uri": "https://localhost:8080/",
     "height": 116
    },
    "colab_type": "code",
    "id": "7N14bsfHXBz_",
    "outputId": "e22410cb-2d61-4e78-b115-791d040ac3e6"
   },
   "outputs": [
    {
     "data": {
      "text/plain": [
       "20"
      ]
     },
     "execution_count": 36,
     "metadata": {},
     "output_type": "execute_result"
    }
   ],
   "source": [
    "123//6"
   ]
  },
  {
   "cell_type": "code",
   "execution_count": 35,
   "metadata": {},
   "outputs": [
    {
     "data": {
      "text/plain": [
       "20.0"
      ]
     },
     "execution_count": 35,
     "metadata": {},
     "output_type": "execute_result"
    }
   ],
   "source": [
    "120 / 6"
   ]
  },
  {
   "cell_type": "code",
   "execution_count": null,
   "metadata": {},
   "outputs": [],
   "source": []
  },
  {
   "cell_type": "markdown",
   "metadata": {
    "colab_type": "text",
    "id": "dqMDalrGXCIF"
   },
   "source": [
    "## Использование сторонних библиотек\n",
    "\n",
    "- Импорт нужных функций и объектов (если numpy и math установлены)\n",
    "        import math # использование таких функций, как, например, sin, cos, sqrt\n",
    "        from math import sin, sqrt\n",
    "        import numpy\n",
    "        import numpy as np"
   ]
  },
  {
   "cell_type": "markdown",
   "metadata": {
    "colab_type": "text",
    "id": "AigMB3fZXVGJ"
   },
   "source": [
    "- Можно ли объявить переменную `s` равную функции `sin` и затем вычислить `s(0.53)`?"
   ]
  },
  {
   "cell_type": "code",
   "execution_count": null,
   "metadata": {
    "colab": {
     "base_uri": "https://localhost:8080/",
     "height": 116
    },
    "colab_type": "code",
    "id": "UupPjgiPXZSQ",
    "outputId": "e4fd57fa-b69b-4704-c2ee-ec3dd21167f4"
   },
   "outputs": [],
   "source": []
  },
  {
   "cell_type": "markdown",
   "metadata": {
    "colab_type": "text",
    "id": "oIjPfbiWXZ7H"
   },
   "source": [
    "## Работа со строками в Python\n",
    "Вложенные кавычки\n",
    "\n",
    "Длинные строки : `s = ('a' 'b' 'c')`, `''' '''`\n",
    "\n",
    "`\\n \\t`\n",
    "\n",
    "raw string: `r'This is the raw string \\n'`\n",
    "\n",
    "Обратный слэш в строке `'\\\\'`\n",
    "\n",
    "Доступ к отдельным символам\n",
    "\n",
    "Длина строки : `len(s)`\n",
    "\n",
    "Документация : `len?`"
   ]
  },
  {
   "cell_type": "code",
   "execution_count": null,
   "metadata": {
    "colab": {
     "base_uri": "https://localhost:8080/",
     "height": 116
    },
    "colab_type": "code",
    "id": "GivxEZujXlqh",
    "outputId": "4255d3e9-a11e-4667-a224-98f47267941d"
   },
   "outputs": [],
   "source": []
  },
  {
   "cell_type": "markdown",
   "metadata": {
    "colab": {},
    "colab_type": "code",
    "id": "NQtgBqU7XmyZ"
   },
   "source": [
    "Что будет, если к строке прибавить строку?\n",
    "\n",
    "Что будет, если строку умножить на число? Число на строку?\n",
    "\n",
    "Что будет, если к строке прибавить число?"
   ]
  },
  {
   "cell_type": "code",
   "execution_count": null,
   "metadata": {
    "colab": {
     "base_uri": "https://localhost:8080/",
     "height": 132
    },
    "colab_type": "code",
    "id": "ZWRh2r1-XnAp",
    "outputId": "85d04d7a-a0b8-4d75-d5d2-92fd99938ed1"
   },
   "outputs": [],
   "source": []
  },
  {
   "cell_type": "markdown",
   "metadata": {
    "colab": {
     "base_uri": "https://localhost:8080/",
     "height": 132
    },
    "colab_type": "code",
    "id": "SlnyBc8tsPPH",
    "outputId": "65b93e2a-6863-4c64-8ae4-4af12869b76b"
   },
   "source": [
    "Бывает, нужно распечатать строку типа:\n",
    "\n",
    "    \"Акции Google выросли на 5.25%\"\n",
    "    \n",
    "Причем \"Google\", \"выросли\" и 5 -- это значения разных переменных. Для этого используется функция format:\n",
    "\n",
    "    company_name = 'Google'\n",
    "    growth = 5.253\n",
    "    # следующая строчка будет понятна, когда пройдем массивы\n",
    "    grow_or_fall = ['выросли', 'упали'][int(growth < 0)]\n",
    "    \"Акции {} {} на {:.2f}%\".format(company_name, grow_or_fall, abs(growth))\n",
    "    \n",
    "В format предусмотрена интересная система с форматированием чисел. Рекоммендуется погуглить.\n",
    "\n",
    "Последняя строка из кода выше может быть написана так:\n",
    "\n",
    "    f\"Акции {company_name} {grow_or_fall} на {abs(growth):.2f}%\""
   ]
  },
  {
   "cell_type": "code",
   "execution_count": null,
   "metadata": {
    "colab": {
     "base_uri": "https://localhost:8080/",
     "height": 116
    },
    "colab_type": "code",
    "id": "QeEpU3vKsO8c",
    "outputId": "15e010df-8b44-40d7-f50a-42d8bb79fd61"
   },
   "outputs": [],
   "source": []
  },
  {
   "cell_type": "markdown",
   "metadata": {},
   "source": [
    "Задача: напечатать '...---...' 10 раз. Причем в коде строка '...---...' не должна встречаться ни разу."
   ]
  },
  {
   "cell_type": "code",
   "execution_count": null,
   "metadata": {},
   "outputs": [],
   "source": []
  },
  {
   "cell_type": "markdown",
   "metadata": {
    "colab_type": "text",
    "id": "kX58hMZ2N4qB"
   },
   "source": [
    "### Домашнее задание 1\n",
    "\n",
    "- Вычислить кубический корень из 10\n",
    "\n",
    "- Сделать сумму строки, числа и строки. Например: \n",
    "\n",
    "        \"Московское время \" + 10 + \"часов\".\n",
    "\n",
    "Вот только в таком виде код не сработает. Число необходимо привести к строке. Это делается командой `str()`.\n",
    "\n",
    "- Исправить стиль кода:\n",
    "\n",
    "        from math import sqrt\n",
    "        coefa= 1\n",
    "        coefb =5\n",
    "        coefc=6\n",
    "        discriminant = (coefb**2) -(4*coefa*coefc)\n",
    "        sol1= (-coefb- sqrt(discriminant))/(2*coefa)\n",
    "        sol2 =(-coefb+  sqrt(discriminant))/(2*coefa)\n",
    "        print('The solutions are {0} and {1}'.format(sol1,sol2))\n",
    "\n",
    "- Что делает этот код?\n",
    "\n",
    "- Напечатать строку '...1...2...3...4' использовав команду format, чтобы вставить в строку цифры"
   ]
  },
  {
   "cell_type": "code",
   "execution_count": null,
   "metadata": {
    "colab": {
     "base_uri": "https://localhost:8080/",
     "height": 35
    },
    "colab_type": "code",
    "id": "Meydy2baOQiR",
    "outputId": "c3aa2ae4-3bd1-4206-e98f-38ecc6078e61"
   },
   "outputs": [],
   "source": []
  },
  {
   "cell_type": "code",
   "execution_count": null,
   "metadata": {
    "colab": {
     "base_uri": "https://localhost:8080/",
     "height": 35
    },
    "colab_type": "code",
    "id": "7UTpFxIkEoIj",
    "outputId": "0a39189e-cbb7-49e3-baac-9d938f96bcd2"
   },
   "outputs": [],
   "source": []
  },
  {
   "cell_type": "code",
   "execution_count": null,
   "metadata": {
    "colab": {
     "base_uri": "https://localhost:8080/",
     "height": 35
    },
    "colab_type": "code",
    "id": "4xgE3JdiFWJG",
    "outputId": "f5742098-2320-42a4-a094-32871869dbcb"
   },
   "outputs": [],
   "source": []
  },
  {
   "cell_type": "markdown",
   "metadata": {
    "colab_type": "text",
    "id": "iDfYxWblXnXY"
   },
   "source": [
    "## Булева логика\n",
    "\n",
    "- Булевы переменные\n",
    "        False, True\n",
    "\n",
    "- `if` - `elif` - `else`, `and` - `or` - `not`, `< <= == != >= >`\n",
    "\n",
    "        if 42 == 123:\n",
    "            print(\"Houston, we have a problem!\")\n",
    "        else:\n",
    "            print('42 != 123')\n",
    "\n",
    "- Сравнения цепочкой:\n",
    "        x = 15\n",
    "        10 < x < 20\n",
    "\n",
    "- Тест идентичности\n",
    "        x = None\n",
    "        if x is None:\n",
    "            print(\"x is not defined\")"
   ]
  },
  {
   "cell_type": "markdown",
   "metadata": {},
   "source": [
    "$1000 < S < 5000$"
   ]
  },
  {
   "cell_type": "code",
   "execution_count": 4,
   "metadata": {
    "colab": {
     "base_uri": "https://localhost:8080/",
     "height": 92
    },
    "colab_type": "code",
    "id": "zyBYwcE9Xwks",
    "outputId": "7d5de01f-dd84-4609-b0ef-fb443500c1bf"
   },
   "outputs": [
    {
     "name": "stdout",
     "output_type": "stream",
     "text": [
      "Введите зарплату: 4999\n",
      "Заплатите налог 499.9\n"
     ]
    }
   ],
   "source": [
    "salary = int(input(\"Введите зарплату: \"))\n",
    "\n",
    "if salary < 1000:\n",
    "    p = 5\n",
    "elif 1000 <= salary < 5000: # elif = else if\n",
    "    p = 10\n",
    "else: # иначе\n",
    "    p = 20\n",
    "    \n",
    "tax = p * salary / 100\n",
    "print(f'Заплатите налог {tax}')"
   ]
  },
  {
   "cell_type": "markdown",
   "metadata": {
    "colab_type": "text",
    "id": "MNirzmkWXxXs"
   },
   "source": [
    "- Задача:\n",
    "Определить, является ли число четным или нет\n",
    "\n",
    "Напечатать результат словами"
   ]
  },
  {
   "cell_type": "code",
   "execution_count": null,
   "metadata": {
    "colab": {
     "base_uri": "https://localhost:8080/",
     "height": 55
    },
    "colab_type": "code",
    "id": "D1SpB3AvX1j2",
    "outputId": "a2c03160-cb68-46f5-abde-ad53652b8c97"
   },
   "outputs": [],
   "source": []
  },
  {
   "cell_type": "markdown",
   "metadata": {
    "colab_type": "text",
    "id": "n5GeDz09X19I"
   },
   "source": [
    "- Задача: Проверить, делится ли число на 5 и меньше ли оно 50\n",
    "\n",
    "Проверить, делится ли число на 7 или 3\n",
    "\n",
    "Проверить, что число делится на 7 но не делится на 3"
   ]
  },
  {
   "cell_type": "code",
   "execution_count": null,
   "metadata": {},
   "outputs": [],
   "source": [
    "| | | | | | | | | | | | |"
   ]
  },
  {
   "cell_type": "code",
   "execution_count": 11,
   "metadata": {
    "colab": {
     "base_uri": "https://localhost:8080/",
     "height": 35
    },
    "colab_type": "code",
    "id": "9MoNkhvNX7YI",
    "outputId": "b294ed48-f35b-4d58-e339-c78037d55065"
   },
   "outputs": [
    {
     "name": "stdout",
     "output_type": "stream",
     "text": [
      "Number: 32\n",
      "not ok\n"
     ]
    }
   ],
   "source": [
    "n = int(input('Number: '))\n",
    "\n",
    "if n%5 == 0 and n < 50:\n",
    "    print('ok')\n",
    "else:\n",
    "    print('not ok')"
   ]
  },
  {
   "cell_type": "code",
   "execution_count": null,
   "metadata": {
    "colab": {
     "base_uri": "https://localhost:8080/",
     "height": 35
    },
    "colab_type": "code",
    "id": "-6VlliCkX72i",
    "outputId": "1eca5444-831f-401d-c6dd-55650d4e5b51"
   },
   "outputs": [],
   "source": []
  },
  {
   "cell_type": "code",
   "execution_count": null,
   "metadata": {
    "colab": {
     "base_uri": "https://localhost:8080/",
     "height": 35
    },
    "colab_type": "code",
    "id": "AXPPk0OWX8EV",
    "outputId": "fe727e55-ec10-4e3b-8b2e-3e071a310976"
   },
   "outputs": [],
   "source": []
  },
  {
   "cell_type": "markdown",
   "metadata": {
    "colab_type": "text",
    "id": "12piIi4aX8aP"
   },
   "source": [
    "- Задача:\n",
    "Решение квадратного уравнения типа $ax^2 + bx + c$\n",
    "\n",
    "Проверка дискриминанта. Три случая: <, =, > 0\n",
    "\n",
    "Напоминание из школьной математики:\n",
    "\n",
    "Квадратное уравнение $ax^2 + bx + c$ имеет два корня\n",
    "\n",
    "$x_{1, 2} = \\frac{-b \\pm \\sqrt{D}}{2a}$\n",
    "\n",
    "где $D = b^2 - 4ac$ называется дискриминантом.\n",
    "\n",
    "При этом если дискриминант больше нуля, то уравнение имеет два различных решения. Если дискриминант равен нулю, то решения сливаются в одно, так что можно говорить об одном единственном корне уравнения. Если дискриминант меньше нуля, то уравнение не имеет вещественных корней."
   ]
  },
  {
   "cell_type": "code",
   "execution_count": null,
   "metadata": {
    "colab": {
     "base_uri": "https://localhost:8080/",
     "height": 35
    },
    "colab_type": "code",
    "id": "exWw8IJ_YBrJ",
    "outputId": "bb494694-99bc-43d8-b7e1-08b1e69b4cf9"
   },
   "outputs": [],
   "source": []
  },
  {
   "cell_type": "markdown",
   "metadata": {
    "colab": {
     "base_uri": "https://localhost:8080/",
     "height": 177
    },
    "colab_type": "code",
    "id": "7iBoDhXfsaQ4",
    "outputId": "fd0b5620-4ebc-4549-92f5-7d91243f1fbd"
   },
   "source": [
    "Цикл `while`: выполнять определенные действия \"до тех пор, пока\", например:\n",
    "\n",
    "    n = 5\n",
    "    while n > 0:\n",
    "        print(n)\n",
    "        n -= 1\n",
    "        \n",
    "Бесконечный цикл:\n",
    "\n",
    "    while True:\n",
    "        # do something\n",
    "        user_answer = input('Do you want to continue? [y/n]: ')\n",
    "        if user_answer != 'y':\n",
    "            break"
   ]
  },
  {
   "cell_type": "markdown",
   "metadata": {
    "colab_type": "text",
    "id": "cz9Cp1HjwWk4"
   },
   "source": [
    "Задача: Построить лесенку вправо-влево. Пример лесенки влево:\n",
    "\n",
    "    #\n",
    "    ##\n",
    "    ###\n",
    "    ####\n",
    "\n",
    "Пример лесенки вправо:\n",
    "\n",
    "       #\n",
    "      ##\n",
    "     ###\n",
    "    ####\n",
    "    \n",
    "Высоту лесенки задать в переменной `height`\n",
    "\n",
    "Как решать: строить лесенку \"до тех пор, пока\" некая переменная `i`, в начале исполнения программы равная 1, не достигнет значения `height`. На каждой итерации цикла `i` увеличивать на 1. Количество символов `#` которые печатаются на каждом шаге равно `i`."
   ]
  },
  {
   "cell_type": "code",
   "execution_count": null,
   "metadata": {
    "colab": {
     "base_uri": "https://localhost:8080/",
     "height": 212
    },
    "colab_type": "code",
    "id": "Ez0ih_nJwaK1",
    "outputId": "5fd3fa32-cfaf-4a6e-cb61-c474c75639be"
   },
   "outputs": [],
   "source": []
  },
  {
   "cell_type": "markdown",
   "metadata": {
    "colab_type": "text",
    "id": "S60W_UCVYCB6"
   },
   "source": [
    "Задача: Программа угадывания числа.\n",
    "\n",
    "Пользователь пытается угадать число, загаданное компьютером в интервале от 1 до 10 включительно\n",
    "\n",
    "После каждой попытки компьютер сообщает, его число больше или меньше названного.\n",
    "\n",
    "Взять число, введенное пользователем:\n",
    "\n",
    "    user_guess = int(input(\"Enter your guess: \"))\n",
    "    \n",
    "Сгенерировать случайное число от 1 до 10:\n",
    "\n",
    "    import numpy as np\n",
    "    rnd = np.random.randint(1, 11)\n",
    "    \n",
    "Как решать: \"до тех пор, пока\" пользователь не угадает число, говорить подсказки. Когда число угадано напечатать поздравления победителю. Дополнительное задание: считать, за какое количество шагов игрок угадал число."
   ]
  },
  {
   "cell_type": "code",
   "execution_count": null,
   "metadata": {
    "colab": {
     "base_uri": "https://localhost:8080/",
     "height": 88
    },
    "colab_type": "code",
    "id": "kttwVkkUYG-O",
    "outputId": "e1fb13dc-8748-4207-8b2c-e74de075922c"
   },
   "outputs": [],
   "source": []
  },
  {
   "cell_type": "markdown",
   "metadata": {
    "colab_type": "text",
    "id": "UzlBMweUG0iN"
   },
   "source": [
    "# Большое задание: игра в спички\n",
    "\n",
    "Нужно написать программу, которая играет в спички против человека. Определенное количество спичек лежит на столе (например, 20). Каждый игрок в свой ход должен взять от 1 до N спичек (обычно `N = 4`, но в программе нужно использовать именно `N`, как переменную, а не 4, как константу). Цель игры взять последнюю спичку со стола.\n",
    "\n",
    "Пользователь начинает, компьютер ходит вторым. Программа продолжается *до тех пор, пока* спички еще есть на столе. Программа спрашивает пользователя, сколько спичек он хочет взять и отнимает их (если на столе еще есть спички) от имеющихся на столе. Когда кто-то возьмет последнюю спичку, программа говорит кто выиграл.\n",
    "\n",
    "После каждого хода программа печатает количество оставшихся спичек вертикальными линиями: |||||||||||\n",
    "\n",
    "Программа должна проверять, что число спичек, взятое пользователем, действительно (то есть лежит в диапазоне от 1 до N).\n",
    "\n",
    "Для компьютера реализовать следующую тактику: каждый раз компьютер должен после своего хода стараться оставить число спичек кратное N+1. Это не всегда возможно: если на столе и так уже число спичек кратное N+1, то нужно взять одну спичку.\n",
    "\n",
    "Повышенная сложность: при тактике, описанной выше, компьютер гарантированно выигрывает, если только человек не использует ту же стратегию. Задание -- добавить возможность с некоторой небольшой вероятностью (скажем, 10%) компьютеру сделать ошибочный ход. Сделать что-то с вероятностью n% можно так:\n",
    "\n",
    "    if np.random.randint(100) < n:\n",
    "        # do something\n",
    "        \n",
    "Сделать ошибочный ход можно так: `computer_takes = np.random.randint(1, N+1)`.\n",
    "\n",
    "В начале работы программы пользователю предлагается выбрать сложность компьютера: низкую, среднюю, высокую. Чем ниже сложность, тем выше вероятность, что компьютер ошибется."
   ]
  },
  {
   "cell_type": "code",
   "execution_count": 0,
   "metadata": {
    "colab": {},
    "colab_type": "code",
    "id": "3DBAg1MYHN49"
   },
   "outputs": [],
   "source": []
  },
  {
   "cell_type": "markdown",
   "metadata": {
    "colab_type": "text",
    "id": "-mjCh0N_A4td"
   },
   "source": [
    "# Цикл for\n",
    "\n",
    "- for:\n",
    "        for i in range(10):\n",
    "            print(i)"
   ]
  },
  {
   "cell_type": "code",
   "execution_count": null,
   "metadata": {
    "colab": {
     "base_uri": "https://localhost:8080/",
     "height": 340
    },
    "colab_type": "code",
    "id": "57mMNeHhIWKy",
    "outputId": "b3f3c720-40d5-449b-b23f-c73ea0070411"
   },
   "outputs": [],
   "source": []
  },
  {
   "cell_type": "markdown",
   "metadata": {
    "colab_type": "text",
    "id": "GTOsG0gDInnB"
   },
   "source": [
    "- break, continue\n",
    "\n",
    "- Вывести все числа меньше 100, которые делятся на 2 и являются полными квадратами"
   ]
  },
  {
   "cell_type": "code",
   "execution_count": null,
   "metadata": {
    "colab": {
     "base_uri": "https://localhost:8080/",
     "height": 145
    },
    "colab_type": "code",
    "id": "2qTtzgpBIZML",
    "outputId": "b2e93a64-1f65-4187-cd0c-fea86faf0652"
   },
   "outputs": [],
   "source": []
  },
  {
   "cell_type": "markdown",
   "metadata": {
    "colab_type": "text",
    "id": "RzYvnCWp7bks"
   },
   "source": [
    "Задача: посчитать факториал числа."
   ]
  },
  {
   "cell_type": "code",
   "execution_count": null,
   "metadata": {
    "colab": {},
    "colab_type": "code",
    "id": "TRjrEKZsq62Q"
   },
   "outputs": [],
   "source": []
  },
  {
   "cell_type": "markdown",
   "metadata": {
    "colab_type": "text",
    "id": "OftQP9E97iPT"
   },
   "source": [
    "Задача: опять факториал. Попросить пользователя ввести число. Напечатать факториал этого числа. Спросить пользователя, хочет ли он посчитать еще одно значение. Если ответ 'y' -- все с начала. "
   ]
  },
  {
   "cell_type": "code",
   "execution_count": null,
   "metadata": {
    "colab": {
     "base_uri": "https://localhost:8080/",
     "height": 336
    },
    "colab_type": "code",
    "id": "yoPd03x48Mwk",
    "outputId": "4036d334-87e7-4f85-e0b9-bc0393fe6d60"
   },
   "outputs": [],
   "source": []
  },
  {
   "cell_type": "markdown",
   "metadata": {},
   "source": [
    "Задача: повторить задачу с построением лесенки, используя цикл for. Какая реализация компактнее и понятнее - с `while` или `for`?"
   ]
  },
  {
   "cell_type": "code",
   "execution_count": null,
   "metadata": {
    "colab": {
     "base_uri": "https://localhost:8080/",
     "height": 145
    },
    "colab_type": "code",
    "id": "SrkFjlemsGQM",
    "outputId": "54c6a597-388b-4b11-bce1-45ca61c86001"
   },
   "outputs": [],
   "source": []
  },
  {
   "cell_type": "markdown",
   "metadata": {},
   "source": [
    "Задача: вычислить число $\\pi$ с точностью до 10 знака после запятой (то есть 10 знак после запятой должен быть вычислен точно, а 11-й -- возможно с некоторой погрешностью). Напоминаем: число $\\pi$ равно отношению длины окружности к ее диаметру и выражается как бесконечная непериодическая десятичная дробь, примерно равная 3.14. Число $\\pi$ равняется сумме следующего ряда:\n",
    "\n",
    "$\\pi = \\sqrt{12} \\sum_{k=0}^{\\infty} \\frac{(-3)^{-k}}{2k + 1}$"
   ]
  },
  {
   "cell_type": "code",
   "execution_count": null,
   "metadata": {},
   "outputs": [],
   "source": []
  }
 ],
 "metadata": {
  "colab": {
   "collapsed_sections": [],
   "name": "PythonBasics1 Борис.ipynb",
   "provenance": [],
   "toc_visible": true
  },
  "kernelspec": {
   "display_name": "Python 3",
   "language": "python",
   "name": "python3"
  },
  "language_info": {
   "codemirror_mode": {
    "name": "ipython",
    "version": 3
   },
   "file_extension": ".py",
   "mimetype": "text/x-python",
   "name": "python",
   "nbconvert_exporter": "python",
   "pygments_lexer": "ipython3",
   "version": "3.8.5"
  }
 },
 "nbformat": 4,
 "nbformat_minor": 1
}
