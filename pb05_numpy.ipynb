{
 "cells": [
  {
   "cell_type": "markdown",
   "metadata": {},
   "source": [
    "# Numpy\n",
    "\n",
    "Numpy это огромная библиотека для работы с массивами, прекрасно оптимизированная и очень удобная для работы."
   ]
  },
  {
   "cell_type": "markdown",
   "metadata": {},
   "source": [
    "Вычислим число $\\pi$ по следующей формуле:\n",
    "\n",
    "$$ \\frac{\\pi^2}{6} = 1+\\frac{1}{2^2} + \\frac{1}{3^2} + \\frac{1}{4^2} +... $$\n",
    "\n",
    "Обычная реализация через цикл for:"
   ]
  },
  {
   "cell_type": "code",
   "execution_count": 79,
   "metadata": {},
   "outputs": [
    {
     "name": "stdout",
     "output_type": "stream",
     "text": [
      "148 µs ± 3.27 µs per loop (mean ± std. dev. of 7 runs, 10000 loops each)\n"
     ]
    }
   ],
   "source": [
    "def pi():\n",
    "    s = 0\n",
    "    for i in range(1, 1000):\n",
    "        s += (1. / i)**2 # s -- сумма в правой части уравнения\n",
    "    return (s * 6)**0.5\n",
    "%timeit pi()"
   ]
  },
  {
   "cell_type": "markdown",
   "metadata": {},
   "source": [
    "Те же вычисления, с использованием массивов numpy:"
   ]
  },
  {
   "cell_type": "code",
   "execution_count": 88,
   "metadata": {},
   "outputs": [
    {
     "name": "stdout",
     "output_type": "stream",
     "text": [
      "12.7 µs ± 459 ns per loop (mean ± std. dev. of 7 runs, 100000 loops each)\n"
     ]
    }
   ],
   "source": [
    "import numpy as np\n",
    "\n",
    "def pi():\n",
    "    arr = np.arange(1, 1000, dtype=float)\n",
    "    s = ((1. / arr)**2).sum()\n",
    "    return (s * 6)**0.5\n",
    "%timeit pi()"
   ]
  },
  {
   "cell_type": "markdown",
   "metadata": {},
   "source": [
    "Во-первых, заметим, что код с numpy более чем в 10 раз быстрее\n",
    "\n",
    "Во-вторых, куда подевался цикл for? В большинстве случаев, когда мы работаем с numpy, циклы вообще не нужны!\n",
    "\n",
    "Например:\n",
    "    \n",
    "    x = [1, 2, 3]\n",
    "    y = 4\n",
    "    print(x * y)"
   ]
  },
  {
   "cell_type": "code",
   "execution_count": 8,
   "metadata": {},
   "outputs": [
    {
     "name": "stdout",
     "output_type": "stream",
     "text": [
      "[1, 2, 3, 1, 2, 3, 1, 2, 3, 1, 2, 3]\n"
     ]
    }
   ],
   "source": [
    "x = [1, 2, 3]\n",
    "y = 4\n",
    "print(x * y)"
   ]
  },
  {
   "cell_type": "markdown",
   "metadata": {},
   "source": [
    "Но на деле такой функционал редко нужен (вообще трудно представить, когда он нужен). Напротив, предположим, что x -- массив с количеством бензина, которое я заправлял в бак три дня подряд, а y -- цена бензина:"
   ]
  },
  {
   "cell_type": "code",
   "execution_count": 9,
   "metadata": {},
   "outputs": [
    {
     "name": "stdout",
     "output_type": "stream",
     "text": [
      "[ 4  8 12]\n"
     ]
    }
   ],
   "source": [
    "x = np.array([1, 2, 3])\n",
    "y = 4\n",
    "print(x * y)"
   ]
  },
  {
   "cell_type": "markdown",
   "metadata": {},
   "source": [
    "Не правда ли, такое поведение гораздо логичнее? Результат произведения `x * y` это суммы, которые я платил за бензин каждый день. \n",
    "\n",
    "Как достичь того же с обычными списками? Сравните скорость выполнения с numpy"
   ]
  },
  {
   "cell_type": "code",
   "execution_count": null,
   "metadata": {},
   "outputs": [],
   "source": []
  },
  {
   "cell_type": "markdown",
   "metadata": {},
   "source": [
    "Определим какую-нибудь арифметическую функцию:\n",
    "\n",
    "    def is_even(x):\n",
    "        return x % 2 == 0\n",
    "        \n",
    "Можно ли применить эту функцию к массиву numpy?"
   ]
  },
  {
   "cell_type": "code",
   "execution_count": 89,
   "metadata": {},
   "outputs": [
    {
     "data": {
      "text/plain": [
       "array([ True, False,  True, False,  True, False,  True, False,  True,\n",
       "       False])"
      ]
     },
     "execution_count": 89,
     "metadata": {},
     "output_type": "execute_result"
    }
   ],
   "source": [
    "def is_even(x):\n",
    "    return x % 2 == 0\n",
    "\n",
    "x = np.arange(10)\n",
    "\n",
    "is_even(x)"
   ]
  },
  {
   "cell_type": "markdown",
   "metadata": {},
   "source": [
    "Теперь определим другую функцию:\n",
    "\n",
    "    def is_power_of_two(x):\n",
    "        if x == 2:\n",
    "            return True\n",
    "        if x % 2 != 0 or x < 2:\n",
    "            return False\n",
    "        return is_power_of_two(x // 2)\n",
    "\n",
    "Будет ли работать такой код:\n",
    "\n",
    "    x = np.arange(10)\n",
    "    is_power_of_two(x)\n",
    "    \n",
    "Чтобы заработало нужно\n",
    "\n",
    "    is_power_of_two = np.vectorize(is_power_of_two)"
   ]
  },
  {
   "cell_type": "code",
   "execution_count": 93,
   "metadata": {},
   "outputs": [
    {
     "data": {
      "text/plain": [
       "array([ True, False,  True])"
      ]
     },
     "execution_count": 93,
     "metadata": {},
     "output_type": "execute_result"
    }
   ],
   "source": [
    "def is_power_of_two(x):\n",
    "    if x == 2:\n",
    "        return True\n",
    "    if x % 2 != 0 or x < 2:\n",
    "        return False\n",
    "    return is_power_of_two(x // 2)\n",
    "\n",
    "is_power_of_two = np.vectorize(is_power_of_two)\n",
    "\n",
    "is_power_of_two(np.array([2, 3, 4]))"
   ]
  },
  {
   "cell_type": "markdown",
   "metadata": {},
   "source": [
    "Задача: вычислить число Эйлера с numpy, без for\n",
    "\n",
    "$$e = \\sum_{n=0}^{\\infty} \\frac{1}{n!} = \\frac{1}{1} + \\frac{1}{1} + \\frac{1}{1 \\cdot 2} + \\frac{1}{1 \\cdot 2 \\cdot 3} + ...$$\n",
    "\n",
    "В numpy.math есть функция факториала: numpy.math.factorial\n",
    "\n",
    "Примечание: для этого вычисления вполне достаточно $n_{max} \\sim 10$, но попробуйте также $n = 100$"
   ]
  },
  {
   "cell_type": "code",
   "execution_count": null,
   "metadata": {},
   "outputs": [],
   "source": []
  },
  {
   "cell_type": "markdown",
   "metadata": {},
   "source": [
    "Заметим, что в numpy есть и $\\pi$, и $e$:\n",
    "\n",
    "    np.pi\n",
    "    np.e"
   ]
  },
  {
   "cell_type": "markdown",
   "metadata": {},
   "source": [
    "Задача: приближенно вычислить сумму:\n",
    "\n",
    "$$\\sum_{n=2}^{\\infty} \\frac{1}{n \\ln^3 (n)}$$\n",
    "\n",
    "в numpy определены многие математические функции, например:\n",
    "\n",
    "    np.log\n",
    "    np.log10"
   ]
  },
  {
   "cell_type": "code",
   "execution_count": null,
   "metadata": {},
   "outputs": [],
   "source": []
  },
  {
   "cell_type": "markdown",
   "metadata": {},
   "source": [
    "Задача: приближенно вычислить сумму\n",
    "\n",
    "$$\\sum_{n=1}^{\\infty} \\arctan\\left(\\frac{1}{n^2 - n + 1}\\right)$$\n",
    "\n",
    "В numpy определены все нужные тригонометрические функции, например:\n",
    "\n",
    "    np.sin\n",
    "    np.tan\n",
    "    np.arctan\n",
    "\n",
    "Тригонометрические функции работают с радианами. Для перевода в градусы и обратно есть функции\n",
    "\n",
    "    np.radians\n",
    "    np.degrees"
   ]
  },
  {
   "cell_type": "code",
   "execution_count": null,
   "metadata": {},
   "outputs": [],
   "source": []
  },
  {
   "cell_type": "markdown",
   "metadata": {},
   "source": [
    "## DAMPE data set\n",
    "\n",
    "В данном сете используются данные Монте-Карло моделирования физического эксперимента DAMPE:\n",
    "\n",
    "http://dpnc.unige.ch/dampe/\n",
    "\n",
    "![DAMPE](http://dpnc.unige.ch/dampe/pics/dampe_layout_2.jpg)"
   ]
  },
  {
   "cell_type": "markdown",
   "metadata": {},
   "source": [
    "Загружает BGO данные:"
   ]
  },
  {
   "cell_type": "code",
   "execution_count": 1,
   "metadata": {},
   "outputs": [],
   "source": [
    "import numpy as np"
   ]
  },
  {
   "cell_type": "code",
   "execution_count": 2,
   "metadata": {},
   "outputs": [],
   "source": [
    "bgo_x = np.load('BGOdata/bgoX.npy') # сигнал, зарегистрированный в XZ-ячейках калориметра\n",
    "bgo_y = np.load('BGOdata/bgoY.npy') # то же, YZ\n",
    "bgo_x_simu = np.load('BGOdata/bgoXsimu.npy') # сигнал, смоделированный в XZ-плоскости\n",
    "bgo_y_simu = np.load('BGOdata/bgoYsimu.npy') # то же, YZ\n",
    "theta_x = np.load('BGOdata/thetaX.npy') # угол theta\n",
    "theta_y = np.load('BGOdata/thetaY.npy')\n",
    "e_prim = np.load('BGOdata/eprim.npy')"
   ]
  },
  {
   "cell_type": "markdown",
   "metadata": {},
   "source": [
    "Какую \"форму\" имеют данные? (shape)"
   ]
  },
  {
   "cell_type": "code",
   "execution_count": null,
   "metadata": {},
   "outputs": [],
   "source": []
  },
  {
   "cell_type": "markdown",
   "metadata": {},
   "source": [
    "Для визуализации будем использовать matplotlib:\n",
    "\n",
    "    import matplotlib.pyplot as plt\n",
    "    \n",
    "Также пригодится\n",
    "\n",
    "    from matplotlib.colors import LogNorm"
   ]
  },
  {
   "cell_type": "code",
   "execution_count": 3,
   "metadata": {},
   "outputs": [],
   "source": [
    "import matplotlib.pyplot as mp\n",
    "from matplotlib.colors import LogNorm"
   ]
  },
  {
   "cell_type": "code",
   "execution_count": 11,
   "metadata": {},
   "outputs": [
    {
     "data": {
      "image/png": "[encoded data removed]",
      "text/plain": [
       "<Figure size 432x288 with 1 Axes>"
      ]
     },
     "metadata": {
      "needs_background": "light"
     },
     "output_type": "display_data"
    }
   ],
   "source": [
    "e_miss = (bgo_x_simu + bgo_y_simu - bgo_x - bgo_y).sum(axis=(1, 2))\n",
    "\n",
    "mp.hist(e_miss, 20, (0, 1e7))\n",
    "mp.xlabel('Missing energy [MeV]')\n",
    "mp.show()"
   ]
  },
  {
   "cell_type": "code",
   "execution_count": 8,
   "metadata": {},
   "outputs": [],
   "source": [
    "mask = (e_miss > 2e6) * (e_miss < 4e6)"
   ]
  },
  {
   "cell_type": "code",
   "execution_count": 9,
   "metadata": {},
   "outputs": [],
   "source": [
    "is_sat_x = (bgo_x_simu - bgo_x) > 25e3\n",
    "is_sat_y = (bgo_y_simu - bgo_y) > 25e3\n",
    "\n",
    "n_sat = (is_sat_x.astype(int) + is_sat_y.astype(int)).sum(axis=(1, 2))"
   ]
  },
  {
   "cell_type": "code",
   "execution_count": 15,
   "metadata": {},
   "outputs": [
    {
     "data": {
      "image/png": "[encoded data removed]",
      "text/plain": [
       "<Figure size 432x288 with 1 Axes>"
      ]
     },
     "metadata": {
      "needs_background": "light"
     },
     "output_type": "display_data"
    }
   ],
   "source": [
    "mp.hist(n_sat, 5, (0, 5), label='All events')\n",
    "mp.hist(n_sat[mask], 5, (0, 5), label='Events with 0.2<E_miss<0.4')\n",
    "mp.legend()\n",
    "mp.xlabel('# saturated cells')\n",
    "mp.yscale('log')\n",
    "mp.show()"
   ]
  },
  {
   "cell_type": "code",
   "execution_count": 22,
   "metadata": {},
   "outputs": [
    {
     "data": {
      "image/png": "[encoded data removed]",
      "text/plain": [
       "<Figure size 432x288 with 1 Axes>"
      ]
     },
     "metadata": {
      "needs_background": "light"
     },
     "output_type": "display_data"
    }
   ],
   "source": [
    "# mp.hist(e_miss, 100, (0, 5e7))\n",
    "mp.hist(e_miss[n_sat == 1], 100, (0, 5e7))\n",
    "mp.hist(e_miss[n_sat == 2], 100, (0, 5e7))\n",
    "mp.hist(e_miss[n_sat >= 3], 100, (0, 5e7))\n",
    "mp.yscale('log')\n",
    "mp.show()"
   ]
  },
  {
   "cell_type": "code",
   "execution_count": 50,
   "metadata": {},
   "outputs": [
    {
     "data": {
      "text/plain": [
       "6990"
      ]
     },
     "execution_count": 50,
     "metadata": {},
     "output_type": "execute_result"
    }
   ],
   "source": [
    "(n_sat == 1).sum()"
   ]
  },
  {
   "cell_type": "code",
   "execution_count": 61,
   "metadata": {},
   "outputs": [],
   "source": [
    "# ar = np.arange(6)\n",
    "sat_layer_x = is_sat_x[n_sat == 1].sum(axis=2) == 1"
   ]
  },
  {
   "cell_type": "code",
   "execution_count": 69,
   "metadata": {},
   "outputs": [],
   "source": [
    "sat_layer_x = sat_layer_x.argmax(axis=1)"
   ]
  },
  {
   "cell_type": "code",
   "execution_count": 70,
   "metadata": {},
   "outputs": [
    {
     "data": {
      "text/plain": [
       "(array([ 886.,   45.,  475.,  370.,   56.,   23., 5135.]),\n",
       " array([0., 1., 2., 3., 4., 5., 6., 7.]),\n",
       " <a list of 7 Patch objects>)"
      ]
     },
     "execution_count": 70,
     "metadata": {},
     "output_type": "execute_result"
    },
    {
     "data": {
      "image/png": "[encoded data removed]",
      "text/plain": [
       "<Figure size 432x288 with 1 Axes>"
      ]
     },
     "metadata": {
      "needs_background": "light"
     },
     "output_type": "display_data"
    }
   ],
   "source": [
    "mp.hist(sat_layer_x, 7, (0., 7.))"
   ]
  },
  {
   "cell_type": "code",
   "execution_count": 74,
   "metadata": {},
   "outputs": [
    {
     "data": {
      "image/png": "[encoded data removed]",
      "text/plain": [
       "<Figure size 432x288 with 1 Axes>"
      ]
     },
     "metadata": {
      "needs_background": "light"
     },
     "output_type": "display_data"
    }
   ],
   "source": [
    "mp.hist(e_miss[n_sat == 1][sat_layer_x == 6], 100, (0, 5e7))\n",
    "mp.hist(e_miss[n_sat == 1][sat_layer_x != 6], 100, (0, 5e7))\n",
    "mp.show()"
   ]
  },
  {
   "cell_type": "code",
   "execution_count": 77,
   "metadata": {},
   "outputs": [
    {
     "data": {
      "image/png": "[encoded data removed]",
      "text/plain": [
       "<Figure size 432x288 with 1 Axes>"
      ]
     },
     "metadata": {
      "needs_background": "light"
     },
     "output_type": "display_data"
    }
   ],
   "source": [
    "mp.imshow(bgo_x[n_sat == 1][sat_layer_x == 6][2])\n",
    "mp.show()"
   ]
  },
  {
   "cell_type": "code",
   "execution_count": null,
   "metadata": {},
   "outputs": [],
   "source": []
  },
  {
   "cell_type": "code",
   "execution_count": null,
   "metadata": {},
   "outputs": [],
   "source": []
  },
  {
   "cell_type": "markdown",
   "metadata": {},
   "source": [
    "Получить \"изображение\" одного события в BGO\n",
    "\n",
    "    mp.imshow"
   ]
  },
  {
   "cell_type": "code",
   "execution_count": null,
   "metadata": {},
   "outputs": [],
   "source": []
  },
  {
   "cell_type": "markdown",
   "metadata": {},
   "source": [
    "Этот дата-сет был специально создан для исследования \"перегрузки\" каналов BGO. Видите белые \"дырки\" посередине ливня? Это и есть перегруженные каналы. Энергия, которая выделяется в ячейках BGO, записана в bgo_x_simu и bgo_y_simu\n",
    "\n",
    "Получить изображение одного события из bgo_x,y_simu"
   ]
  },
  {
   "cell_type": "code",
   "execution_count": null,
   "metadata": {},
   "outputs": [],
   "source": []
  },
  {
   "cell_type": "markdown",
   "metadata": {},
   "source": [
    "Сделать гистограмму выделенной энергии"
   ]
  },
  {
   "cell_type": "code",
   "execution_count": null,
   "metadata": {},
   "outputs": [],
   "source": []
  },
  {
   "cell_type": "markdown",
   "metadata": {},
   "source": [
    "Получить разницу между зарегистрированной и симулированной энергией\n",
    "\n",
    "Создать массив numpy типа bool, где для каждой ячейки будет указано, перегружена она или нет."
   ]
  },
  {
   "cell_type": "code",
   "execution_count": null,
   "metadata": {},
   "outputs": [],
   "source": []
  },
  {
   "cell_type": "markdown",
   "metadata": {},
   "source": [
    "Посчитать количество перегруженных каналов на событие"
   ]
  },
  {
   "cell_type": "code",
   "execution_count": null,
   "metadata": {},
   "outputs": [],
   "source": []
  },
  {
   "cell_type": "markdown",
   "metadata": {},
   "source": [
    "Сколько событий из всех 10000 событий имеют один перегруженный канал?"
   ]
  },
  {
   "cell_type": "code",
   "execution_count": null,
   "metadata": {},
   "outputs": [],
   "source": []
  },
  {
   "cell_type": "markdown",
   "metadata": {},
   "source": [
    "Для событий с одним перегруженным каналом построить гистограмму номера слоя, в котором находится перегруженный канал."
   ]
  },
  {
   "cell_type": "code",
   "execution_count": null,
   "metadata": {},
   "outputs": [],
   "source": []
  },
  {
   "cell_type": "markdown",
   "metadata": {},
   "source": [
    "Для нескольких событий, у которых theta около 0. построить энерговыделение в зависимости от номера слоя. "
   ]
  },
  {
   "cell_type": "code",
   "execution_count": null,
   "metadata": {},
   "outputs": [],
   "source": []
  },
  {
   "cell_type": "markdown",
   "metadata": {},
   "source": [
    "Как зависит количество перегруженных каналов от энергии частицы?"
   ]
  },
  {
   "cell_type": "code",
   "execution_count": null,
   "metadata": {},
   "outputs": [],
   "source": []
  },
  {
   "cell_type": "markdown",
   "metadata": {},
   "source": [
    "Как зависит количество перегруженных каналов от наклона частицы?"
   ]
  },
  {
   "cell_type": "code",
   "execution_count": null,
   "metadata": {},
   "outputs": [],
   "source": []
  },
  {
   "cell_type": "markdown",
   "metadata": {},
   "source": [
    "Посторить гистограмму недостающей энергии для событий с одним перегруженным каналом\n",
    "\n",
    "Сверху построить такую же гистограмму для двух перегруженных каналов"
   ]
  },
  {
   "cell_type": "code",
   "execution_count": null,
   "metadata": {},
   "outputs": [],
   "source": []
  },
  {
   "cell_type": "markdown",
   "metadata": {},
   "source": [
    "## Полезные полезности"
   ]
  },
  {
   "cell_type": "markdown",
   "metadata": {},
   "source": [
    "Создание массивов:\n",
    "\n",
    "    np.arange\n",
    "    np.linspace\n",
    "    np.logspace\n",
    "    np.zeros\n",
    "    np.ones\n",
    "    np.empty\n",
    "    np.eye # identity matrix\n",
    "    np.full # full matrix\n",
    "    dtype\n",
    "    \n",
    "Можно задавать размер массива, или его shape"
   ]
  },
  {
   "cell_type": "code",
   "execution_count": null,
   "metadata": {},
   "outputs": [],
   "source": []
  },
  {
   "cell_type": "markdown",
   "metadata": {},
   "source": [
    "Задача: создать массив, копию входного массива, в котором все нечетные числа заменены на -1\n",
    "\n",
    "    arr = np.arange(10)\n",
    "    out = np.where(arr % 2 == 1, -1, arr)\n",
    "    arr\n",
    "        #> [0 1 2 3 4 5 6 7 8 9]\n",
    "    out\n",
    "        #> [ 0, -1,  2, -1,  4, -1,  6, -1,  8, -1]"
   ]
  },
  {
   "cell_type": "code",
   "execution_count": null,
   "metadata": {},
   "outputs": [],
   "source": []
  },
  {
   "cell_type": "markdown",
   "metadata": {},
   "source": [
    "Еще другие полезности:\n",
    "\n",
    "    np.unique\n",
    "    np.take\n",
    "    np.max\n",
    "    np.sort\n",
    "    np.argmax\n",
    "    "
   ]
  },
  {
   "cell_type": "code",
   "execution_count": null,
   "metadata": {},
   "outputs": [],
   "source": []
  },
  {
   "cell_type": "markdown",
   "metadata": {},
   "source": [
    "Случайные числа:\n",
    "\n",
    "    np.random.seed\n",
    "    np.random.randint\n",
    "    np.random.normal\n",
    "    np.random.shuffle"
   ]
  },
  {
   "cell_type": "code",
   "execution_count": 20,
   "metadata": {},
   "outputs": [],
   "source": []
  },
  {
   "cell_type": "markdown",
   "metadata": {},
   "source": [
    "Задача: создать массив случайных чисел с каким-нибудь выдуманным распределением. Например, пусть функция плотности вероятности распределения описывается функцией\n",
    "\n",
    "$$|\\sin(x)|; x \\in [0, \\pi]$$"
   ]
  },
  {
   "cell_type": "code",
   "execution_count": null,
   "metadata": {},
   "outputs": [],
   "source": []
  },
  {
   "cell_type": "markdown",
   "metadata": {},
   "source": [
    "`*` -- это не матричное произведение, а просто произведение элементов. Если нужно матричное произведение, используем `np.dot`:\n",
    "\n",
    "    x = np.array([[1,2],[3,4]])\n",
    "    y = np.array([[5,6],[7,8]])\n",
    "\n",
    "    v = np.array([9,10])\n",
    "    w = np.array([11, 12])\n",
    "\n",
    "    # Inner product of vectors; both produce 219\n",
    "    print(v.dot(w))\n",
    "    print(np.dot(v, w))\n",
    "\n",
    "    # Matrix / vector product; both produce the rank 1 array [29 67]\n",
    "    print(x.dot(v))\n",
    "    print(np.dot(x, v))\n",
    "\n",
    "    # Matrix / matrix product; both produce the rank 2 array\n",
    "    # [[19 22]\n",
    "    #  [43 50]]\n",
    "    print(x.dot(y))\n",
    "    print(np.dot(x, y))\n",
    "    \n",
    "Транспонирование векторов и матриц - `.T`"
   ]
  },
  {
   "cell_type": "code",
   "execution_count": null,
   "metadata": {},
   "outputs": [],
   "source": []
  },
  {
   "cell_type": "markdown",
   "metadata": {},
   "source": [
    "Задача: создать массивы x и y одинаковой длины. Случайно перемешать x и y одинаково (чтобы после перемешивания бывший элемент i в обоих элементах стоял на позиции j). То есть, например, имея в начале\n",
    "\n",
    "    x = [1, 2, 3]\n",
    "    y = [4, 5, 6]\n",
    "    \n",
    "получить в конце\n",
    "\n",
    "    x = [2, 1, 3]\n",
    "    y = [5, 4, 6]"
   ]
  },
  {
   "cell_type": "code",
   "execution_count": null,
   "metadata": {},
   "outputs": [],
   "source": []
  },
  {
   "cell_type": "markdown",
   "metadata": {},
   "source": [
    "# Broadcasting"
   ]
  },
  {
   "cell_type": "markdown",
   "metadata": {},
   "source": [
    "    x = np.array([[1,2,3], [4,5,6], [7,8,9], [10, 11, 12]])\n",
    "    v = np.array([1, 0, 1])\n",
    "    \n",
    "Требуется прибавить вектор `v` к каждому ряду матрицы `x`\n",
    "\n",
    "    x + v"
   ]
  },
  {
   "cell_type": "code",
   "execution_count": null,
   "metadata": {},
   "outputs": [],
   "source": []
  },
  {
   "cell_type": "markdown",
   "metadata": {},
   "source": [
    "Что происходит \"за кулисами\"?\n",
    "\n",
    "    vv = np.tile(v, (4, 1))\n",
    "    x + vv"
   ]
  },
  {
   "cell_type": "code",
   "execution_count": null,
   "metadata": {},
   "outputs": [],
   "source": []
  },
  {
   "cell_type": "markdown",
   "metadata": {},
   "source": [
    "Правила, позволяющие эффективно совмещать массивы разных размерностей называются broadcasting\n",
    "\n",
    "Функции, поддерживающие broadcasting называются universal functions: http://docs.scipy.org/doc/numpy/reference/ufuncs.html#available-ufuncs"
   ]
  },
  {
   "cell_type": "markdown",
   "metadata": {},
   "source": [
    "Еще пример с broadcasting:\n",
    "\n",
    "    v = np.array([1,2,3])\n",
    "    w = np.array([4,5])\n",
    "    v.reshape(3, 1) * w"
   ]
  },
  {
   "cell_type": "code",
   "execution_count": null,
   "metadata": {},
   "outputs": [],
   "source": []
  },
  {
   "cell_type": "markdown",
   "metadata": {},
   "source": [
    "Задача: прибавить вектор к каждому столбцу матрицы"
   ]
  },
  {
   "cell_type": "code",
   "execution_count": null,
   "metadata": {},
   "outputs": [],
   "source": []
  },
  {
   "cell_type": "markdown",
   "metadata": {},
   "source": [
    "## Домашнее задание"
   ]
  },
  {
   "cell_type": "markdown",
   "metadata": {},
   "source": [
    "Создать случайный массив numpy с целыми числами. Все нечетные (по значению) элементы массива заменить на -1"
   ]
  },
  {
   "cell_type": "code",
   "execution_count": null,
   "metadata": {},
   "outputs": [],
   "source": []
  },
  {
   "cell_type": "markdown",
   "metadata": {},
   "source": [
    "Создать два случайных массива, каждый второй элемент первого массива заменить соответствующим значением из второго."
   ]
  },
  {
   "cell_type": "code",
   "execution_count": null,
   "metadata": {},
   "outputs": [],
   "source": []
  },
  {
   "cell_type": "markdown",
   "metadata": {},
   "source": [
    "Нормализовать массив, чтобы его значения оказались в интервале от 0 до 1.\n",
    "\n",
    "Нормализовать массив, чтобы среднее оказалось на 0, а стандартное отклонение стало равно 1"
   ]
  },
  {
   "cell_type": "code",
   "execution_count": null,
   "metadata": {},
   "outputs": [],
   "source": []
  },
  {
   "cell_type": "markdown",
   "metadata": {},
   "source": [
    "Вставить значения np.nan в 20 случайных мест в массиве\n",
    "\n",
    "(np.nan это специальное значение, Not-A-Number, которое ставится на место элементов массивов при выполнении недопустимых действий, таких как деление на 0)"
   ]
  },
  {
   "cell_type": "code",
   "execution_count": null,
   "metadata": {},
   "outputs": [],
   "source": []
  },
  {
   "cell_type": "markdown",
   "metadata": {},
   "source": [
    "Сосчитать количество элементов np.nan и np.inf в массиве"
   ]
  },
  {
   "cell_type": "code",
   "execution_count": null,
   "metadata": {},
   "outputs": [],
   "source": []
  },
  {
   "cell_type": "markdown",
   "metadata": {},
   "source": [
    "https://www.machinelearningplus.com/python/101-numpy-exercises-python/"
   ]
  },
  {
   "cell_type": "code",
   "execution_count": null,
   "metadata": {},
   "outputs": [],
   "source": []
  },
  {
   "cell_type": "code",
   "execution_count": null,
   "metadata": {},
   "outputs": [],
   "source": []
  }
 ],
 "metadata": {
  "kernelspec": {
   "display_name": "Python 3",
   "language": "python",
   "name": "python3"
  },
  "language_info": {
   "codemirror_mode": {
    "name": "ipython",
    "version": 3
   },
   "file_extension": ".py",
   "mimetype": "text/x-python",
   "name": "python",
   "nbconvert_exporter": "python",
   "pygments_lexer": "ipython3",
   "version": "3.8.5"
  }
 },
 "nbformat": 4,
 "nbformat_minor": 2
}
